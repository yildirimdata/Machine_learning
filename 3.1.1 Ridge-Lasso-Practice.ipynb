{
 "cells": [
  {
   "cell_type": "markdown",
   "id": "06fd2cf8-45e1-45ae-a98d-50e81de7d6e0",
   "metadata": {},
   "source": [
    "# Practice:\n",
    "\n",
    "# Regularization: Penalized regression"
   ]
  },
  {
   "cell_type": "markdown",
   "id": "8781848f-b588-42d3-a33c-d23abaa7069b",
   "metadata": {},
   "source": [
    "In this practice notebook, first on a simulated data and then on real world data set, I will examine and compare the effects of linear regression and Ridge-Lasso and Elastic-net regressions to prevent overfitting. All these alternative regression algorithms will add some bias to the data to reduce the variance. Which shrinks the RMSE the most, that measn it's more suitable to use in the data for ML modelling."
   ]
  },
  {
   "cell_type": "code",
   "execution_count": 21,
   "id": "4ab14e32-e68d-41d9-8080-740de6cd2715",
   "metadata": {},
   "outputs": [],
   "source": [
    "import numpy as np\n",
    "import pandas as pd\n",
    "import matplotlib.pyplot as plt\n",
    "import seaborn as sns\n",
    "from sklearn.linear_model import LinearRegression\n",
    "import statsmodels.api as sm\n",
    "sns.set()  #if you want to use seaborn themes with matplotlib functions\n",
    "import warnings\n",
    "warnings.filterwarnings('ignore')"
   ]
  },
  {
   "cell_type": "markdown",
   "id": "c5eff23b-5a74-4d7d-8a5d-69c7d4d10542",
   "metadata": {},
   "source": [
    "# Synthetic data"
   ]
  },
  {
   "cell_type": "code",
   "execution_count": 24,
   "id": "9dfa0251-dca9-476a-b59f-78e7d609ef64",
   "metadata": {},
   "outputs": [],
   "source": [
    "rand_state= 1000"
   ]
  },
  {
   "cell_type": "code",
   "execution_count": 22,
   "id": "8b2c3392-8b8c-4b66-b65f-e16439994003",
   "metadata": {},
   "outputs": [
    {
     "data": {
      "text/html": [
       "<div>\n",
       "<style scoped>\n",
       "    .dataframe tbody tr th:only-of-type {\n",
       "        vertical-align: middle;\n",
       "    }\n",
       "\n",
       "    .dataframe tbody tr th {\n",
       "        vertical-align: top;\n",
       "    }\n",
       "\n",
       "    .dataframe thead th {\n",
       "        text-align: right;\n",
       "    }\n",
       "</style>\n",
       "<table border=\"1\" class=\"dataframe\">\n",
       "  <thead>\n",
       "    <tr style=\"text-align: right;\">\n",
       "      <th></th>\n",
       "      <th>X1</th>\n",
       "      <th>X2</th>\n",
       "      <th>X3</th>\n",
       "      <th>X4</th>\n",
       "      <th>X5</th>\n",
       "      <th>y</th>\n",
       "    </tr>\n",
       "  </thead>\n",
       "  <tbody>\n",
       "    <tr>\n",
       "      <th>0</th>\n",
       "      <td>1.668068</td>\n",
       "      <td>2.782452</td>\n",
       "      <td>4.641320</td>\n",
       "      <td>7.742038</td>\n",
       "      <td>12.914249</td>\n",
       "      <td>-3.901562</td>\n",
       "    </tr>\n",
       "    <tr>\n",
       "      <th>1</th>\n",
       "      <td>0.925862</td>\n",
       "      <td>0.857220</td>\n",
       "      <td>0.793667</td>\n",
       "      <td>0.734826</td>\n",
       "      <td>0.680348</td>\n",
       "      <td>-0.384578</td>\n",
       "    </tr>\n",
       "    <tr>\n",
       "      <th>2</th>\n",
       "      <td>1.057997</td>\n",
       "      <td>1.119357</td>\n",
       "      <td>1.184276</td>\n",
       "      <td>1.252960</td>\n",
       "      <td>1.325628</td>\n",
       "      <td>12.493677</td>\n",
       "    </tr>\n",
       "    <tr>\n",
       "      <th>3</th>\n",
       "      <td>-0.920339</td>\n",
       "      <td>0.847024</td>\n",
       "      <td>-0.779549</td>\n",
       "      <td>0.717449</td>\n",
       "      <td>-0.660297</td>\n",
       "      <td>12.237389</td>\n",
       "    </tr>\n",
       "    <tr>\n",
       "      <th>4</th>\n",
       "      <td>1.299748</td>\n",
       "      <td>1.689346</td>\n",
       "      <td>2.195725</td>\n",
       "      <td>2.853890</td>\n",
       "      <td>3.709339</td>\n",
       "      <td>-3.772851</td>\n",
       "    </tr>\n",
       "  </tbody>\n",
       "</table>\n",
       "</div>"
      ],
      "text/plain": [
       "         X1       X2        X3       X4        X5         y\n",
       "0  1.668068 2.782452  4.641320 7.742038 12.914249 -3.901562\n",
       "1  0.925862 0.857220  0.793667 0.734826  0.680348 -0.384578\n",
       "2  1.057997 1.119357  1.184276 1.252960  1.325628 12.493677\n",
       "3 -0.920339 0.847024 -0.779549 0.717449 -0.660297 12.237389\n",
       "4  1.299748 1.689346  2.195725 2.853890  3.709339 -3.772851"
      ]
     },
     "execution_count": 22,
     "metadata": {},
     "output_type": "execute_result"
    }
   ],
   "source": [
    "url = 'https://raw.githubusercontent.com/PJalgotrader/ML-USU-SP21/main/Classes/Class%209-%20Regularization%20(Python)/Regularization_synthetic.csv'\n",
    "\n",
    "df = pd.read_csv(url)\n",
    "\n",
    "# set option to display all numbers with 6 decimal places\n",
    "pd.set_option('display.float_format', '{:.6f}'.format)\n",
    "\n",
    "df.head()"
   ]
  },
  {
   "cell_type": "code",
   "execution_count": 25,
   "id": "63c49145-1f1a-4f81-9226-80ee862a2497",
   "metadata": {},
   "outputs": [
    {
     "data": {
      "text/html": [
       "<div>\n",
       "<style scoped>\n",
       "    .dataframe tbody tr th:only-of-type {\n",
       "        vertical-align: middle;\n",
       "    }\n",
       "\n",
       "    .dataframe tbody tr th {\n",
       "        vertical-align: top;\n",
       "    }\n",
       "\n",
       "    .dataframe thead th {\n",
       "        text-align: right;\n",
       "    }\n",
       "</style>\n",
       "<table border=\"1\" class=\"dataframe\">\n",
       "  <thead>\n",
       "    <tr style=\"text-align: right;\">\n",
       "      <th></th>\n",
       "      <th>X1</th>\n",
       "      <th>X2</th>\n",
       "      <th>X3</th>\n",
       "      <th>X4</th>\n",
       "      <th>X5</th>\n",
       "      <th>y</th>\n",
       "    </tr>\n",
       "  </thead>\n",
       "  <tbody>\n",
       "    <tr>\n",
       "      <th>0</th>\n",
       "      <td>1.668068</td>\n",
       "      <td>2.782452</td>\n",
       "      <td>4.641320</td>\n",
       "      <td>7.742038</td>\n",
       "      <td>12.914249</td>\n",
       "      <td>-3.901562</td>\n",
       "    </tr>\n",
       "    <tr>\n",
       "      <th>1</th>\n",
       "      <td>0.925862</td>\n",
       "      <td>0.857220</td>\n",
       "      <td>0.793667</td>\n",
       "      <td>0.734826</td>\n",
       "      <td>0.680348</td>\n",
       "      <td>-0.384578</td>\n",
       "    </tr>\n",
       "    <tr>\n",
       "      <th>2</th>\n",
       "      <td>1.057997</td>\n",
       "      <td>1.119357</td>\n",
       "      <td>1.184276</td>\n",
       "      <td>1.252960</td>\n",
       "      <td>1.325628</td>\n",
       "      <td>12.493677</td>\n",
       "    </tr>\n",
       "    <tr>\n",
       "      <th>3</th>\n",
       "      <td>-0.920339</td>\n",
       "      <td>0.847024</td>\n",
       "      <td>-0.779549</td>\n",
       "      <td>0.717449</td>\n",
       "      <td>-0.660297</td>\n",
       "      <td>12.237389</td>\n",
       "    </tr>\n",
       "    <tr>\n",
       "      <th>4</th>\n",
       "      <td>1.299748</td>\n",
       "      <td>1.689346</td>\n",
       "      <td>2.195725</td>\n",
       "      <td>2.853890</td>\n",
       "      <td>3.709339</td>\n",
       "      <td>-3.772851</td>\n",
       "    </tr>\n",
       "  </tbody>\n",
       "</table>\n",
       "</div>"
      ],
      "text/plain": [
       "         X1       X2        X3       X4        X5         y\n",
       "0  1.668068 2.782452  4.641320 7.742038 12.914249 -3.901562\n",
       "1  0.925862 0.857220  0.793667 0.734826  0.680348 -0.384578\n",
       "2  1.057997 1.119357  1.184276 1.252960  1.325628 12.493677\n",
       "3 -0.920339 0.847024 -0.779549 0.717449 -0.660297 12.237389\n",
       "4  1.299748 1.689346  2.195725 2.853890  3.709339 -3.772851"
      ]
     },
     "execution_count": 25,
     "metadata": {},
     "output_type": "execute_result"
    }
   ],
   "source": [
    "df.head()"
   ]
  },
  {
   "cell_type": "code",
   "execution_count": 26,
   "id": "2f5253ea-c176-445a-8b29-d68d2ffa6236",
   "metadata": {},
   "outputs": [
    {
     "data": {
      "image/png": "[encoded data removed]",
      "text/plain": [
       "<Figure size 1000x600 with 1 Axes>"
      ]
     },
     "metadata": {},
     "output_type": "display_data"
    }
   ],
   "source": [
    "sns.scatterplot(x=\"X1\", y='y', data=df)\n",
    "plt.show()"
   ]
  },
  {
   "cell_type": "markdown",
   "id": "7ed3d5f7-37a9-408d-babe-0274f7950365",
   "metadata": {},
   "source": [
    "important: we need to normalize the features before training the models.\n",
    "\n",
    "Bec one data can be percentage and other another type. So we should normalize all them before using them in the model."
   ]
  },
  {
   "cell_type": "markdown",
   "id": "38545893-f538-480e-818d-725b3eb8fa56",
   "metadata": {},
   "source": [
    "**Feature Scaling**"
   ]
  },
  {
   "cell_type": "code",
   "execution_count": 27,
   "id": "e8294572-b33d-410e-8fe0-285798d0a752",
   "metadata": {},
   "outputs": [],
   "source": [
    "from sklearn.preprocessing import StandardScaler\n",
    "# Feature scaling has 2 types: min-max normalization and standardization. here we first perform the standardization"
   ]
  },
  {
   "cell_type": "code",
   "execution_count": 28,
   "id": "19d5e6d7-8ec6-42ba-916b-7eb53672236d",
   "metadata": {},
   "outputs": [
    {
     "data": {
      "text/plain": [
       "array([[ 1.68559489,  1.10379599,  0.93969261,  0.28529469,  0.20893775,\n",
       "        -0.41160092],\n",
       "       [ 0.95551657, -0.1126954 ,  0.15582326, -0.19468946, -0.0400858 ,\n",
       "        -0.20670883],\n",
       "       [ 1.08549235,  0.0529405 ,  0.23540071, -0.159198  , -0.02695098,\n",
       "         0.54355141]])"
      ]
     },
     "execution_count": 28,
     "metadata": {},
     "output_type": "execute_result"
    }
   ],
   "source": [
    "scaler=StandardScaler()\n",
    "df_sc= scaler.fit_transform(df)\n",
    "# this takes all values and after subtracting mean divides by std to standardize the data\n",
    "df_sc[0:3]\n",
    "\n",
    "# compare with the df.head() above. now it has been normalized"
   ]
  },
  {
   "cell_type": "code",
   "execution_count": 29,
   "id": "b595009c-f4d8-484c-9ece-9a8383868553",
   "metadata": {},
   "outputs": [
    {
     "data": {
      "text/html": [
       "<div>\n",
       "<style scoped>\n",
       "    .dataframe tbody tr th:only-of-type {\n",
       "        vertical-align: middle;\n",
       "    }\n",
       "\n",
       "    .dataframe tbody tr th {\n",
       "        vertical-align: top;\n",
       "    }\n",
       "\n",
       "    .dataframe thead th {\n",
       "        text-align: right;\n",
       "    }\n",
       "</style>\n",
       "<table border=\"1\" class=\"dataframe\">\n",
       "  <thead>\n",
       "    <tr style=\"text-align: right;\">\n",
       "      <th></th>\n",
       "      <th>X1</th>\n",
       "      <th>X2</th>\n",
       "      <th>X3</th>\n",
       "      <th>X4</th>\n",
       "      <th>X5</th>\n",
       "      <th>y</th>\n",
       "    </tr>\n",
       "  </thead>\n",
       "  <tbody>\n",
       "    <tr>\n",
       "      <th>count</th>\n",
       "      <td>100.000000</td>\n",
       "      <td>100.000000</td>\n",
       "      <td>100.000000</td>\n",
       "      <td>100.000000</td>\n",
       "      <td>100.000000</td>\n",
       "      <td>100.000000</td>\n",
       "    </tr>\n",
       "    <tr>\n",
       "      <th>mean</th>\n",
       "      <td>-0.045528</td>\n",
       "      <td>1.035573</td>\n",
       "      <td>0.028803</td>\n",
       "      <td>3.577067</td>\n",
       "      <td>2.649662</td>\n",
       "      <td>3.163589</td>\n",
       "    </tr>\n",
       "    <tr>\n",
       "      <th>std</th>\n",
       "      <td>1.021734</td>\n",
       "      <td>1.590583</td>\n",
       "      <td>4.933266</td>\n",
       "      <td>14.672387</td>\n",
       "      <td>49.374982</td>\n",
       "      <td>17.251525</td>\n",
       "    </tr>\n",
       "    <tr>\n",
       "      <th>min</th>\n",
       "      <td>-2.502813</td>\n",
       "      <td>0.000077</td>\n",
       "      <td>-15.677801</td>\n",
       "      <td>0.000000</td>\n",
       "      <td>-98.206875</td>\n",
       "      <td>-96.615135</td>\n",
       "    </tr>\n",
       "    <tr>\n",
       "      <th>25%</th>\n",
       "      <td>-0.715772</td>\n",
       "      <td>0.106957</td>\n",
       "      <td>-0.367584</td>\n",
       "      <td>0.011462</td>\n",
       "      <td>-0.189401</td>\n",
       "      <td>-4.740569</td>\n",
       "    </tr>\n",
       "    <tr>\n",
       "      <th>50%</th>\n",
       "      <td>-0.056092</td>\n",
       "      <td>0.513483</td>\n",
       "      <td>-0.000186</td>\n",
       "      <td>0.263974</td>\n",
       "      <td>-0.000001</td>\n",
       "      <td>3.535766</td>\n",
       "    </tr>\n",
       "    <tr>\n",
       "      <th>75%</th>\n",
       "      <td>0.708103</td>\n",
       "      <td>1.265628</td>\n",
       "      <td>0.355353</td>\n",
       "      <td>1.605267</td>\n",
       "      <td>0.178540</td>\n",
       "      <td>12.250487</td>\n",
       "    </tr>\n",
       "    <tr>\n",
       "      <th>max</th>\n",
       "      <td>3.428563</td>\n",
       "      <td>11.755044</td>\n",
       "      <td>40.302907</td>\n",
       "      <td>138.181054</td>\n",
       "      <td>473.762442</td>\n",
       "      <td>61.375324</td>\n",
       "    </tr>\n",
       "  </tbody>\n",
       "</table>\n",
       "</div>"
      ],
      "text/plain": [
       "              X1         X2         X3         X4         X5          y\n",
       "count 100.000000 100.000000 100.000000 100.000000 100.000000 100.000000\n",
       "mean   -0.045528   1.035573   0.028803   3.577067   2.649662   3.163589\n",
       "std     1.021734   1.590583   4.933266  14.672387  49.374982  17.251525\n",
       "min    -2.502813   0.000077 -15.677801   0.000000 -98.206875 -96.615135\n",
       "25%    -0.715772   0.106957  -0.367584   0.011462  -0.189401  -4.740569\n",
       "50%    -0.056092   0.513483  -0.000186   0.263974  -0.000001   3.535766\n",
       "75%     0.708103   1.265628   0.355353   1.605267   0.178540  12.250487\n",
       "max     3.428563  11.755044  40.302907 138.181054 473.762442  61.375324"
      ]
     },
     "execution_count": 29,
     "metadata": {},
     "output_type": "execute_result"
    }
   ],
   "source": [
    "# what have done here? we used std to standardize the values\n",
    "df.describe()"
   ]
  },
  {
   "cell_type": "code",
   "execution_count": 30,
   "id": "de3b6d8d-5b20-4688-aa31-b960cd259d5a",
   "metadata": {},
   "outputs": [
    {
     "name": "stdout",
     "output_type": "stream",
     "text": [
      "-3.901561631\n"
     ]
    },
    {
     "data": {
      "text/plain": [
       "-0.4095377655018904"
      ]
     },
     "execution_count": 30,
     "metadata": {},
     "output_type": "execute_result"
    }
   ],
   "source": [
    "# checking the first observation for y1\n",
    "print(df.loc[0,\"y\"])\n",
    "\n",
    "# when we use std of y to normalize it: we subtract the mean from the value and then divide by std\n",
    "\n",
    "(-3.901562-3.163589)/17.251525"
   ]
  },
  {
   "cell_type": "code",
   "execution_count": 31,
   "id": "6adb4deb-fd0a-4204-aacf-73a60b8fceec",
   "metadata": {},
   "outputs": [
    {
     "data": {
      "text/plain": [
       "Index(['X1', 'X2', 'X3', 'X4', 'X5', 'y'], dtype='object')"
      ]
     },
     "execution_count": 31,
     "metadata": {},
     "output_type": "execute_result"
    }
   ],
   "source": [
    "# convert normalized df_sc to a dataframe\n",
    "df.columns"
   ]
  },
  {
   "cell_type": "code",
   "execution_count": 32,
   "id": "a69d865f-5bd0-4769-a811-992f0ab754d6",
   "metadata": {},
   "outputs": [
    {
     "data": {
      "text/html": [
       "<div>\n",
       "<style scoped>\n",
       "    .dataframe tbody tr th:only-of-type {\n",
       "        vertical-align: middle;\n",
       "    }\n",
       "\n",
       "    .dataframe tbody tr th {\n",
       "        vertical-align: top;\n",
       "    }\n",
       "\n",
       "    .dataframe thead th {\n",
       "        text-align: right;\n",
       "    }\n",
       "</style>\n",
       "<table border=\"1\" class=\"dataframe\">\n",
       "  <thead>\n",
       "    <tr style=\"text-align: right;\">\n",
       "      <th></th>\n",
       "      <th>X1</th>\n",
       "      <th>X2</th>\n",
       "      <th>X3</th>\n",
       "      <th>X4</th>\n",
       "      <th>X5</th>\n",
       "      <th>y</th>\n",
       "    </tr>\n",
       "  </thead>\n",
       "  <tbody>\n",
       "    <tr>\n",
       "      <th>0</th>\n",
       "      <td>1.685595</td>\n",
       "      <td>1.103796</td>\n",
       "      <td>0.939693</td>\n",
       "      <td>0.285295</td>\n",
       "      <td>0.208938</td>\n",
       "      <td>-0.411601</td>\n",
       "    </tr>\n",
       "    <tr>\n",
       "      <th>1</th>\n",
       "      <td>0.955517</td>\n",
       "      <td>-0.112695</td>\n",
       "      <td>0.155823</td>\n",
       "      <td>-0.194689</td>\n",
       "      <td>-0.040086</td>\n",
       "      <td>-0.206709</td>\n",
       "    </tr>\n",
       "    <tr>\n",
       "      <th>2</th>\n",
       "      <td>1.085492</td>\n",
       "      <td>0.052941</td>\n",
       "      <td>0.235401</td>\n",
       "      <td>-0.159198</td>\n",
       "      <td>-0.026951</td>\n",
       "      <td>0.543551</td>\n",
       "    </tr>\n",
       "    <tr>\n",
       "      <th>3</th>\n",
       "      <td>-0.860516</td>\n",
       "      <td>-0.119138</td>\n",
       "      <td>-0.164683</td>\n",
       "      <td>-0.195880</td>\n",
       "      <td>-0.067375</td>\n",
       "      <td>0.528621</td>\n",
       "    </tr>\n",
       "    <tr>\n",
       "      <th>4</th>\n",
       "      <td>1.323294</td>\n",
       "      <td>0.413098</td>\n",
       "      <td>0.441460</td>\n",
       "      <td>-0.049537</td>\n",
       "      <td>0.021570</td>\n",
       "      <td>-0.404102</td>\n",
       "    </tr>\n",
       "  </tbody>\n",
       "</table>\n",
       "</div>"
      ],
      "text/plain": [
       "         X1        X2        X3        X4        X5         y\n",
       "0  1.685595  1.103796  0.939693  0.285295  0.208938 -0.411601\n",
       "1  0.955517 -0.112695  0.155823 -0.194689 -0.040086 -0.206709\n",
       "2  1.085492  0.052941  0.235401 -0.159198 -0.026951  0.543551\n",
       "3 -0.860516 -0.119138 -0.164683 -0.195880 -0.067375  0.528621\n",
       "4  1.323294  0.413098  0.441460 -0.049537  0.021570 -0.404102"
      ]
     },
     "execution_count": 32,
     "metadata": {},
     "output_type": "execute_result"
    }
   ],
   "source": [
    "df_sc = pd.DataFrame(df_sc, columns=df.columns)\n",
    "df_sc.head()"
   ]
  },
  {
   "cell_type": "code",
   "execution_count": 33,
   "id": "57c4501a-7a7e-4c0e-89ff-fa6de825c0d4",
   "metadata": {},
   "outputs": [
    {
     "data": {
      "image/png": "[encoded data removed]",
      "text/plain": [
       "<Figure size 1000x600 with 1 Axes>"
      ]
     },
     "metadata": {},
     "output_type": "display_data"
    }
   ],
   "source": [
    "# SCALE has been normalized. df de veriler -100den+60a range idi. standardize edilmiste ise 99% -3,+3 rangeinde olur.\n",
    "# en alt kösedeki -6 kesinlikle bir outlier. 6 std uzakta olmamalı.\n",
    "sns.scatterplot(x='X1', y='y', data=df_sc)\n",
    "plt.show()"
   ]
  },
  {
   "cell_type": "markdown",
   "id": "af1d29f8-0d6f-4973-b7fa-0fce4625faa4",
   "metadata": {},
   "source": [
    "**Splitting the data**"
   ]
  },
  {
   "cell_type": "code",
   "execution_count": 34,
   "id": "9ac71c27-de63-42e0-aa67-ee62bc61894e",
   "metadata": {},
   "outputs": [
    {
     "data": {
      "text/html": [
       "<div>\n",
       "<style scoped>\n",
       "    .dataframe tbody tr th:only-of-type {\n",
       "        vertical-align: middle;\n",
       "    }\n",
       "\n",
       "    .dataframe tbody tr th {\n",
       "        vertical-align: top;\n",
       "    }\n",
       "\n",
       "    .dataframe thead th {\n",
       "        text-align: right;\n",
       "    }\n",
       "</style>\n",
       "<table border=\"1\" class=\"dataframe\">\n",
       "  <thead>\n",
       "    <tr style=\"text-align: right;\">\n",
       "      <th></th>\n",
       "      <th>X1</th>\n",
       "      <th>X2</th>\n",
       "      <th>X3</th>\n",
       "      <th>X4</th>\n",
       "      <th>X5</th>\n",
       "    </tr>\n",
       "  </thead>\n",
       "  <tbody>\n",
       "    <tr>\n",
       "      <th>37</th>\n",
       "      <td>1.464631</td>\n",
       "      <td>0.662152</td>\n",
       "      <td>0.606819</td>\n",
       "      <td>0.052327</td>\n",
       "      <td>0.073610</td>\n",
       "    </tr>\n",
       "    <tr>\n",
       "      <th>44</th>\n",
       "      <td>1.572794</td>\n",
       "      <td>0.870372</td>\n",
       "      <td>0.757779</td>\n",
       "      <td>0.153824</td>\n",
       "      <td>0.130178</td>\n",
       "    </tr>\n",
       "    <tr>\n",
       "      <th>55</th>\n",
       "      <td>0.275319</td>\n",
       "      <td>-0.619639</td>\n",
       "      <td>-0.003245</td>\n",
       "      <td>-0.244817</td>\n",
       "      <td>-0.053920</td>\n",
       "    </tr>\n",
       "    <tr>\n",
       "      <th>66</th>\n",
       "      <td>-0.493702</td>\n",
       "      <td>-0.464986</td>\n",
       "      <td>-0.039290</td>\n",
       "      <td>-0.238872</td>\n",
       "      <td>-0.054935</td>\n",
       "    </tr>\n",
       "    <tr>\n",
       "      <th>82</th>\n",
       "      <td>0.272588</td>\n",
       "      <td>-0.620456</td>\n",
       "      <td>-0.003337</td>\n",
       "      <td>-0.244827</td>\n",
       "      <td>-0.053921</td>\n",
       "    </tr>\n",
       "  </tbody>\n",
       "</table>\n",
       "</div>"
      ],
      "text/plain": [
       "          X1        X2        X3        X4        X5\n",
       "37  1.464631  0.662152  0.606819  0.052327  0.073610\n",
       "44  1.572794  0.870372  0.757779  0.153824  0.130178\n",
       "55  0.275319 -0.619639 -0.003245 -0.244817 -0.053920\n",
       "66 -0.493702 -0.464986 -0.039290 -0.238872 -0.054935\n",
       "82  0.272588 -0.620456 -0.003337 -0.244827 -0.053921"
      ]
     },
     "execution_count": 34,
     "metadata": {},
     "output_type": "execute_result"
    }
   ],
   "source": [
    "y = df_sc['y']\n",
    "X = df_sc.drop('y', axis=1) # be careful inplace= False\n",
    "\n",
    "from sklearn.model_selection import train_test_split\n",
    "\n",
    "X_train, X_test, y_train, y_test = train_test_split(X, y, test_size=0.2, random_state=rand_state)\n",
    "\n",
    "X_train.head()"
   ]
  },
  {
   "cell_type": "markdown",
   "id": "832a289e-4720-453d-b0e0-7bdcc65ef7a3",
   "metadata": {},
   "source": [
    "As we can see from the table above, the variables are highly correlated with each other."
   ]
  },
  {
   "cell_type": "markdown",
   "id": "bcc24526-53ae-4fec-a298-4bb15edf1d75",
   "metadata": {},
   "source": [
    "**A) Training the models**\n",
    "\n",
    "In this section we will train 4 different models:\n",
    "\n",
    "- Linear regression (model_linear)\n",
    "- Ridge regression (model_ridge)\n",
    "- Lasso regression (model_lasso)\n",
    "- Elastic Net regression (model_net)"
   ]
  },
  {
   "cell_type": "code",
   "execution_count": 35,
   "id": "733ff2bb-9f6f-44dd-a5e4-bedc80c8a279",
   "metadata": {},
   "outputs": [],
   "source": [
    "from sklearn.linear_model import LinearRegression, Ridge,RidgeCV, Lasso, LassoCV, ElasticNet, ElasticNetCV"
   ]
  },
  {
   "cell_type": "markdown",
   "id": "8af63f28-29bf-49d2-892a-722029319b73",
   "metadata": {},
   "source": [
    "**Cross Validation**"
   ]
  },
  {
   "cell_type": "code",
   "execution_count": 36,
   "id": "da340c09-511f-4ec7-b4c8-12eb3318598c",
   "metadata": {},
   "outputs": [],
   "source": [
    "# optimal alpha for ridge R\n",
    "ridgecv = RidgeCV()\n",
    "ridgecv.fit(X_train, y_train)\n",
    "alpha_ridge_opt = ridgecv.alpha_\n",
    "\n",
    "# optimal for lasso R\n",
    "lassocv = LassoCV()\n",
    "lassocv.fit(X_train, y_train)\n",
    "alpha_lasso_opt = lassocv.alpha_\n",
    "\n",
    "# optimal for elastic net R\n",
    "elasticnetcv = ElasticNetCV()\n",
    "elasticnetcv.fit(X_train, y_train)\n",
    "alpha_elasticnet_opt = elasticnetcv.alpha_"
   ]
  },
  {
   "cell_type": "code",
   "execution_count": 37,
   "id": "7733a3b4-37b0-43d6-b46d-3979844809b3",
   "metadata": {},
   "outputs": [],
   "source": [
    "model_linear = LinearRegression()\n",
    "model_ridge = Ridge(alpha=alpha_ridge_opt)\n",
    "model_lasso = Lasso(alpha=alpha_lasso_opt)\n",
    "model_net = ElasticNet(alpha=alpha_elasticnet_opt)"
   ]
  },
  {
   "cell_type": "code",
   "execution_count": 38,
   "id": "0999ff8b-9e2d-4f10-94ed-ffe8332b9cc3",
   "metadata": {},
   "outputs": [],
   "source": [
    "y_hat_linear= model_linear.fit(X_train, y_train).predict(X_test)\n",
    "y_hat_ridge = model_ridge.fit(X_train, y_train).predict(X_test)\n",
    "y_hat_lasso = model_lasso.fit(X_train, y_train).predict(X_test)\n",
    "y_hat_net   = model_net.fit(X_train, y_train).predict(X_test)"
   ]
  },
  {
   "cell_type": "code",
   "execution_count": 39,
   "id": "bf4d8308-1a76-4912-9ae6-2218110cb75a",
   "metadata": {},
   "outputs": [
    {
     "data": {
      "text/html": [
       "<div>\n",
       "<style scoped>\n",
       "    .dataframe tbody tr th:only-of-type {\n",
       "        vertical-align: middle;\n",
       "    }\n",
       "\n",
       "    .dataframe tbody tr th {\n",
       "        vertical-align: top;\n",
       "    }\n",
       "\n",
       "    .dataframe thead th {\n",
       "        text-align: right;\n",
       "    }\n",
       "</style>\n",
       "<table border=\"1\" class=\"dataframe\">\n",
       "  <thead>\n",
       "    <tr style=\"text-align: right;\">\n",
       "      <th></th>\n",
       "      <th>y_test</th>\n",
       "      <th>y_hat_linear</th>\n",
       "      <th>y_hat_ridge</th>\n",
       "      <th>y_hat_lasso</th>\n",
       "      <th>y_hat_net</th>\n",
       "    </tr>\n",
       "  </thead>\n",
       "  <tbody>\n",
       "    <tr>\n",
       "      <th>88</th>\n",
       "      <td>1.307243</td>\n",
       "      <td>0.171067</td>\n",
       "      <td>0.175576</td>\n",
       "      <td>0.154862</td>\n",
       "      <td>0.163279</td>\n",
       "    </tr>\n",
       "    <tr>\n",
       "      <th>4</th>\n",
       "      <td>-0.404102</td>\n",
       "      <td>-0.079686</td>\n",
       "      <td>-0.032038</td>\n",
       "      <td>-0.047122</td>\n",
       "      <td>-0.044388</td>\n",
       "    </tr>\n",
       "    <tr>\n",
       "      <th>62</th>\n",
       "      <td>-1.055680</td>\n",
       "      <td>-0.180921</td>\n",
       "      <td>-0.148966</td>\n",
       "      <td>-0.148200</td>\n",
       "      <td>-0.149537</td>\n",
       "    </tr>\n",
       "    <tr>\n",
       "      <th>63</th>\n",
       "      <td>2.538916</td>\n",
       "      <td>2.344482</td>\n",
       "      <td>2.083804</td>\n",
       "      <td>2.156366</td>\n",
       "      <td>2.139361</td>\n",
       "    </tr>\n",
       "    <tr>\n",
       "      <th>48</th>\n",
       "      <td>1.144605</td>\n",
       "      <td>-0.078630</td>\n",
       "      <td>-0.001604</td>\n",
       "      <td>-0.031199</td>\n",
       "      <td>-0.022572</td>\n",
       "    </tr>\n",
       "  </tbody>\n",
       "</table>\n",
       "</div>"
      ],
      "text/plain": [
       "      y_test  y_hat_linear  y_hat_ridge  y_hat_lasso  y_hat_net\n",
       "88  1.307243      0.171067     0.175576     0.154862   0.163279\n",
       "4  -0.404102     -0.079686    -0.032038    -0.047122  -0.044388\n",
       "62 -1.055680     -0.180921    -0.148966    -0.148200  -0.149537\n",
       "63  2.538916      2.344482     2.083804     2.156366   2.139361\n",
       "48  1.144605     -0.078630    -0.001604    -0.031199  -0.022572"
      ]
     },
     "execution_count": 39,
     "metadata": {},
     "output_type": "execute_result"
    }
   ],
   "source": [
    "df_predictions = pd.DataFrame({'y_test':y_test,\n",
    "                               'y_hat_linear':y_hat_linear,\n",
    "                               'y_hat_ridge':y_hat_ridge,\n",
    "                               'y_hat_lasso':y_hat_lasso,\n",
    "                               'y_hat_net':y_hat_net})\n",
    "df_predictions.head()"
   ]
  },
  {
   "cell_type": "markdown",
   "id": "ac6b9699-2f12-4a12-abcd-e7521b121373",
   "metadata": {},
   "source": [
    "# coefficients"
   ]
  },
  {
   "cell_type": "code",
   "execution_count": 40,
   "id": "47da0b76-cb03-4c83-b7e2-2d056165fabe",
   "metadata": {},
   "outputs": [
    {
     "data": {
      "text/plain": [
       "Index(['X1', 'X2', 'X3', 'X4', 'X5'], dtype='object')"
      ]
     },
     "execution_count": 40,
     "metadata": {},
     "output_type": "execute_result"
    }
   ],
   "source": [
    "df.drop('y', axis=1, inplace=False).columns"
   ]
  },
  {
   "cell_type": "code",
   "execution_count": 41,
   "id": "8d928ce1-74ee-4c5f-9a57-7276673e48ef",
   "metadata": {},
   "outputs": [
    {
     "data": {
      "text/html": [
       "<div>\n",
       "<style scoped>\n",
       "    .dataframe tbody tr th:only-of-type {\n",
       "        vertical-align: middle;\n",
       "    }\n",
       "\n",
       "    .dataframe tbody tr th {\n",
       "        vertical-align: top;\n",
       "    }\n",
       "\n",
       "    .dataframe thead th {\n",
       "        text-align: right;\n",
       "    }\n",
       "</style>\n",
       "<table border=\"1\" class=\"dataframe\">\n",
       "  <thead>\n",
       "    <tr style=\"text-align: right;\">\n",
       "      <th></th>\n",
       "      <th>Features</th>\n",
       "      <th>model_lin</th>\n",
       "      <th>model_ridge</th>\n",
       "      <th>model_lasso</th>\n",
       "      <th>model_net</th>\n",
       "    </tr>\n",
       "  </thead>\n",
       "  <tbody>\n",
       "    <tr>\n",
       "      <th>0</th>\n",
       "      <td>X1</td>\n",
       "      <td>0.537047</td>\n",
       "      <td>0.256687</td>\n",
       "      <td>0.322054</td>\n",
       "      <td>0.308461</td>\n",
       "    </tr>\n",
       "    <tr>\n",
       "      <th>1</th>\n",
       "      <td>X2</td>\n",
       "      <td>0.103655</td>\n",
       "      <td>0.192091</td>\n",
       "      <td>0.156880</td>\n",
       "      <td>0.165614</td>\n",
       "    </tr>\n",
       "    <tr>\n",
       "      <th>2</th>\n",
       "      <td>X3</td>\n",
       "      <td>-2.133872</td>\n",
       "      <td>-0.963844</td>\n",
       "      <td>-1.183806</td>\n",
       "      <td>-1.151128</td>\n",
       "    </tr>\n",
       "    <tr>\n",
       "      <th>3</th>\n",
       "      <td>X4</td>\n",
       "      <td>0.253492</td>\n",
       "      <td>-0.041360</td>\n",
       "      <td>-0.000000</td>\n",
       "      <td>-0.000000</td>\n",
       "    </tr>\n",
       "    <tr>\n",
       "      <th>4</th>\n",
       "      <td>X5</td>\n",
       "      <td>1.593336</td>\n",
       "      <td>-0.221195</td>\n",
       "      <td>0.000000</td>\n",
       "      <td>-0.000000</td>\n",
       "    </tr>\n",
       "  </tbody>\n",
       "</table>\n",
       "</div>"
      ],
      "text/plain": [
       "  Features  model_lin  model_ridge  model_lasso  model_net\n",
       "0       X1   0.537047     0.256687     0.322054   0.308461\n",
       "1       X2   0.103655     0.192091     0.156880   0.165614\n",
       "2       X3  -2.133872    -0.963844    -1.183806  -1.151128\n",
       "3       X4   0.253492    -0.041360    -0.000000  -0.000000\n",
       "4       X5   1.593336    -0.221195     0.000000  -0.000000"
      ]
     },
     "execution_count": 41,
     "metadata": {},
     "output_type": "execute_result"
    }
   ],
   "source": [
    "coefficients = pd.DataFrame({'Features':df.drop('y', axis=1, inplace=False).columns})\n",
    "coefficients['model_lin']= model_linear.coef_\n",
    "coefficients['model_ridge']= model_ridge.coef_\n",
    "coefficients['model_lasso']= model_lasso.coef_\n",
    "coefficients['model_net']= model_net.coef_\n",
    "coefficients"
   ]
  },
  {
   "cell_type": "markdown",
   "id": "2c64ef9b-411a-446f-bcd0-5bcd95a1ad8b",
   "metadata": {},
   "source": [
    "As it can be seen above, ridge reg shrunk the lin features' coefficients. However, it didn't eliminate any of them.\n",
    "\n",
    "On the other hand, lasso and elastic net eliminated x4 and x5 and decreased all other."
   ]
  },
  {
   "cell_type": "markdown",
   "id": "c790f92e-29bf-486a-a964-ddac8c70e39c",
   "metadata": {},
   "source": [
    "# Performance in the test set"
   ]
  },
  {
   "cell_type": "code",
   "execution_count": 42,
   "id": "eaa72d19-1868-46fe-b96f-dfa3421d5c58",
   "metadata": {},
   "outputs": [
    {
     "data": {
      "text/plain": [
       "2.037"
      ]
     },
     "execution_count": 42,
     "metadata": {},
     "output_type": "execute_result"
    }
   ],
   "source": [
    "\n",
    "MSE_test = np.mean(np.square(df_predictions['y_test'] - df_predictions['y_hat_linear']))\n",
    "RMSE_test = np.sqrt(MSE_test)\n",
    "np.round(RMSE_test,3)\n",
    "\n",
    "# linear reg RMSE is 2.037. let's check how the other reg models decreased this and which is the most efficient"
   ]
  },
  {
   "cell_type": "code",
   "execution_count": 43,
   "id": "ac8e5f92-b583-4704-8200-93b4a7b5525b",
   "metadata": {},
   "outputs": [
    {
     "data": {
      "text/plain": [
       "0.894"
      ]
     },
     "execution_count": 43,
     "metadata": {},
     "output_type": "execute_result"
    }
   ],
   "source": [
    "# Ridge\n",
    "MSE_test = np.mean(np.square(df_predictions['y_test'] - df_predictions['y_hat_ridge']))\n",
    "RMSE_test = np.sqrt(MSE_test)\n",
    "np.round(RMSE_test,3)"
   ]
  },
  {
   "cell_type": "code",
   "execution_count": 44,
   "id": "356abe4e-e0ad-4b85-83c7-d3556878b5ff",
   "metadata": {},
   "outputs": [
    {
     "data": {
      "text/plain": [
       "0.81"
      ]
     },
     "execution_count": 44,
     "metadata": {},
     "output_type": "execute_result"
    }
   ],
   "source": [
    "# Lasso\n",
    "MSE_test = np.mean(np.square(df_predictions['y_test'] - df_predictions['y_hat_lasso']))\n",
    "RMSE_test = np.sqrt(MSE_test)\n",
    "np.round(RMSE_test,3)"
   ]
  },
  {
   "cell_type": "code",
   "execution_count": 45,
   "id": "05d69f63-fd93-4504-9447-31d571c7bf5f",
   "metadata": {},
   "outputs": [
    {
     "data": {
      "text/plain": [
       "0.781"
      ]
     },
     "execution_count": 45,
     "metadata": {},
     "output_type": "execute_result"
    }
   ],
   "source": [
    "# Elastic-net\n",
    "MSE_test = np.mean(np.square(df_predictions['y_test'] - df_predictions['y_hat_net']))\n",
    "RMSE_test = np.sqrt(MSE_test)\n",
    "np.round(RMSE_test,3)"
   ]
  },
  {
   "cell_type": "markdown",
   "id": "e51696aa-7121-4614-812e-3388a701b1c8",
   "metadata": {},
   "source": [
    "As it can be seen from the results, all reg models could bat Linear reg RMSE. However, best performance is performed by elastic-net which shrunk the RMSE to 0.781. So, in a real case we will perform all these alternative models and pick up the one with the lowest RMSE to regularize the data efficiently."
   ]
  },
  {
   "cell_type": "markdown",
   "id": "ae1ebaa3-65e0-41d0-bf59-3d92bb8d0f27",
   "metadata": {},
   "source": [
    "# 2. Boston Housing Data"
   ]
  },
  {
   "cell_type": "markdown",
   "id": "9c15433b-d4b3-4673-bc48-eff39dd55b37",
   "metadata": {},
   "source": [
    "Regularization force the learning algorithm to build a less complex model . In practice, that often leads to slightly higher bias but significantly reduces the variance. The most common penalized regression models are:\n",
    "\n",
    "- Ridge regression\n",
    "- Lasso regression\n",
    "- Elastic Net regression\n",
    "\n",
    "In this notebook we will explore the three methods and compare their results with a multiple linear regression model applied to Boston Housing dataset. The target variable is price and the features are 10 polynomial features of LSTAT: % lower status of the population. LSTAT2= LSTAT2, LSTAT3= LSTAT3, and etc."
   ]
  },
  {
   "cell_type": "code",
   "execution_count": 48,
   "id": "e320c58f-a073-4289-ab8f-b31b7b85af93",
   "metadata": {},
   "outputs": [
    {
     "data": {
      "text/html": [
       "<div>\n",
       "<style scoped>\n",
       "    .dataframe tbody tr th:only-of-type {\n",
       "        vertical-align: middle;\n",
       "    }\n",
       "\n",
       "    .dataframe tbody tr th {\n",
       "        vertical-align: top;\n",
       "    }\n",
       "\n",
       "    .dataframe thead th {\n",
       "        text-align: right;\n",
       "    }\n",
       "</style>\n",
       "<table border=\"1\" class=\"dataframe\">\n",
       "  <thead>\n",
       "    <tr style=\"text-align: right;\">\n",
       "      <th></th>\n",
       "      <th>price</th>\n",
       "      <th>LSTAT</th>\n",
       "      <th>LSTAT2</th>\n",
       "      <th>LSTAT3</th>\n",
       "      <th>LSTAT4</th>\n",
       "      <th>LSTAT5</th>\n",
       "      <th>LSTAT6</th>\n",
       "      <th>LSTAT7</th>\n",
       "      <th>LSTAT8</th>\n",
       "      <th>LSTAT9</th>\n",
       "      <th>LSTAT10</th>\n",
       "    </tr>\n",
       "  </thead>\n",
       "  <tbody>\n",
       "    <tr>\n",
       "      <th>0</th>\n",
       "      <td>24.000000</td>\n",
       "      <td>4.980000</td>\n",
       "      <td>24.800400</td>\n",
       "      <td>123.505992</td>\n",
       "      <td>615.059840</td>\n",
       "      <td>3062.998004</td>\n",
       "      <td>15253.730060</td>\n",
       "      <td>75963.575700</td>\n",
       "      <td>378298.607000</td>\n",
       "      <td>1883927.063000</td>\n",
       "      <td>9381956.772000</td>\n",
       "    </tr>\n",
       "    <tr>\n",
       "      <th>1</th>\n",
       "      <td>21.600000</td>\n",
       "      <td>9.140000</td>\n",
       "      <td>83.539600</td>\n",
       "      <td>763.551944</td>\n",
       "      <td>6978.864768</td>\n",
       "      <td>63786.823980</td>\n",
       "      <td>583011.571200</td>\n",
       "      <td>5328725.761000</td>\n",
       "      <td>48704553.450000</td>\n",
       "      <td>445159618.600000</td>\n",
       "      <td>4068758914.000000</td>\n",
       "    </tr>\n",
       "    <tr>\n",
       "      <th>2</th>\n",
       "      <td>34.700000</td>\n",
       "      <td>4.030000</td>\n",
       "      <td>16.240900</td>\n",
       "      <td>65.450827</td>\n",
       "      <td>263.766833</td>\n",
       "      <td>1062.980336</td>\n",
       "      <td>4283.810755</td>\n",
       "      <td>17263.757340</td>\n",
       "      <td>69572.942090</td>\n",
       "      <td>280378.956600</td>\n",
       "      <td>1129927.195000</td>\n",
       "    </tr>\n",
       "    <tr>\n",
       "      <th>3</th>\n",
       "      <td>33.400000</td>\n",
       "      <td>2.940000</td>\n",
       "      <td>8.643600</td>\n",
       "      <td>25.412184</td>\n",
       "      <td>74.711821</td>\n",
       "      <td>219.652754</td>\n",
       "      <td>645.779096</td>\n",
       "      <td>1898.590541</td>\n",
       "      <td>5581.856191</td>\n",
       "      <td>16410.657200</td>\n",
       "      <td>48247.332170</td>\n",
       "    </tr>\n",
       "    <tr>\n",
       "      <th>4</th>\n",
       "      <td>36.200000</td>\n",
       "      <td>5.330000</td>\n",
       "      <td>28.408900</td>\n",
       "      <td>151.419437</td>\n",
       "      <td>807.065599</td>\n",
       "      <td>4301.659644</td>\n",
       "      <td>22927.845900</td>\n",
       "      <td>122205.418700</td>\n",
       "      <td>651354.881400</td>\n",
       "      <td>3471721.518000</td>\n",
       "      <td>18504275.690000</td>\n",
       "    </tr>\n",
       "  </tbody>\n",
       "</table>\n",
       "</div>"
      ],
      "text/plain": [
       "      price    LSTAT    LSTAT2     LSTAT3      LSTAT4       LSTAT5  \\\n",
       "0 24.000000 4.980000 24.800400 123.505992  615.059840  3062.998004   \n",
       "1 21.600000 9.140000 83.539600 763.551944 6978.864768 63786.823980   \n",
       "2 34.700000 4.030000 16.240900  65.450827  263.766833  1062.980336   \n",
       "3 33.400000 2.940000  8.643600  25.412184   74.711821   219.652754   \n",
       "4 36.200000 5.330000 28.408900 151.419437  807.065599  4301.659644   \n",
       "\n",
       "         LSTAT6         LSTAT7          LSTAT8           LSTAT9  \\\n",
       "0  15253.730060   75963.575700   378298.607000   1883927.063000   \n",
       "1 583011.571200 5328725.761000 48704553.450000 445159618.600000   \n",
       "2   4283.810755   17263.757340    69572.942090    280378.956600   \n",
       "3    645.779096    1898.590541     5581.856191     16410.657200   \n",
       "4  22927.845900  122205.418700   651354.881400   3471721.518000   \n",
       "\n",
       "            LSTAT10  \n",
       "0    9381956.772000  \n",
       "1 4068758914.000000  \n",
       "2    1129927.195000  \n",
       "3      48247.332170  \n",
       "4   18504275.690000  "
      ]
     },
     "execution_count": 48,
     "metadata": {},
     "output_type": "execute_result"
    }
   ],
   "source": [
    "url_bos = 'https://raw.githubusercontent.com/PJalgotrader/ML-USU-SP21/main/Classes/Class%209-%20Regularization%20(Python)/Regularization_Boston.csv'\n",
    "\n",
    "df = pd.read_csv(url_bos)\n",
    "\n",
    "df.head()\n",
    "\n",
    "# we increase the number of features to 10 to find the best model."
   ]
  },
  {
   "cell_type": "code",
   "execution_count": 90,
   "id": "1b154be4-733b-4002-a014-0a5887773cd0",
   "metadata": {},
   "outputs": [
    {
     "data": {
      "text/plain": [
       "9381956.77248839"
      ]
     },
     "execution_count": 90,
     "metadata": {},
     "output_type": "execute_result"
    }
   ],
   "source": []
  },
  {
   "cell_type": "code",
   "execution_count": 49,
   "id": "75f1460b-d222-4891-a59a-94cae7bf9dc3",
   "metadata": {},
   "outputs": [
    {
     "data": {
      "image/png": "[encoded data removed]",
      "text/plain": [
       "<Figure size 1000x600 with 1 Axes>"
      ]
     },
     "metadata": {},
     "output_type": "display_data"
    }
   ],
   "source": [
    "sns.scatterplot(x='LSTAT', y='price', data=df)\n",
    "plt.show()"
   ]
  },
  {
   "cell_type": "markdown",
   "id": "b16fd2d0-c652-4044-ab9d-357a64ef644e",
   "metadata": {},
   "source": [
    "**important:** we need to normalize the features before training the models. Why?\n",
    "\n",
    "Because, when we check the coefficient of features, they differ in a huge range. For example, LSTAT is 4.98 for the first observation and LSTAT10 is 9381956 (4.98**10= 9381956). If we leave these coefficients as they are, then the model interpret the features eith higher coefficients as more important to determine the price. Since we want to acoid this misclaculation, we have to first standardize and normalize the coefficients by feature scaling."
   ]
  },
  {
   "cell_type": "markdown",
   "id": "6640469a-455e-4a7d-97e4-683e531d43c3",
   "metadata": {},
   "source": [
    "# Normalization: Feuature Scaling"
   ]
  },
  {
   "cell_type": "code",
   "execution_count": 50,
   "id": "0fb8fbca-a09c-49b2-a777-d0ab65066809",
   "metadata": {},
   "outputs": [],
   "source": [
    "from sklearn.preprocessing import StandardScaler"
   ]
  },
  {
   "cell_type": "code",
   "execution_count": 51,
   "id": "aabeada1-8692-4ae5-b0ea-b34a35160369",
   "metadata": {},
   "outputs": [
    {
     "data": {
      "text/plain": [
       "array([[ 0.15968566, -1.0755623 , -0.78952949, ..., -0.20115811,\n",
       "        -0.1777807 , -0.15953586],\n",
       "       [-0.10152429, -0.49243937, -0.54045362, ..., -0.20100802,\n",
       "        -0.17774223, -0.15952611],\n",
       "       [ 1.32424667, -1.2087274 , -0.82582493, ..., -0.20115907,\n",
       "        -0.17778084, -0.15953588],\n",
       "       ...,\n",
       "       [ 0.14880191, -0.98304761, -0.7598079 , ..., -0.20115611,\n",
       "        -0.17778036, -0.1595358 ],\n",
       "       [-0.0579893 , -0.86530163, -0.71663755, ..., -0.20114963,\n",
       "        -0.17777912, -0.15953557],\n",
       "       [-1.15724782, -0.66905833, -0.63138918, ..., -0.20111311,\n",
       "        -0.1777707 , -0.15953367]])"
      ]
     },
     "execution_count": 51,
     "metadata": {},
     "output_type": "execute_result"
    }
   ],
   "source": [
    "scaler=StandardScaler()\n",
    "df_sc= scaler.fit_transform(df)\n",
    "df_sc"
   ]
  },
  {
   "cell_type": "code",
   "execution_count": 52,
   "id": "8359e1ff-691c-4a59-87f3-fa81b349ee33",
   "metadata": {},
   "outputs": [
    {
     "data": {
      "text/html": [
       "<div>\n",
       "<style scoped>\n",
       "    .dataframe tbody tr th:only-of-type {\n",
       "        vertical-align: middle;\n",
       "    }\n",
       "\n",
       "    .dataframe tbody tr th {\n",
       "        vertical-align: top;\n",
       "    }\n",
       "\n",
       "    .dataframe thead th {\n",
       "        text-align: right;\n",
       "    }\n",
       "</style>\n",
       "<table border=\"1\" class=\"dataframe\">\n",
       "  <thead>\n",
       "    <tr style=\"text-align: right;\">\n",
       "      <th></th>\n",
       "      <th>price</th>\n",
       "      <th>LSTAT</th>\n",
       "      <th>LSTAT2</th>\n",
       "      <th>LSTAT3</th>\n",
       "      <th>LSTAT4</th>\n",
       "      <th>LSTAT5</th>\n",
       "      <th>LSTAT6</th>\n",
       "      <th>LSTAT7</th>\n",
       "      <th>LSTAT8</th>\n",
       "      <th>LSTAT9</th>\n",
       "      <th>LSTAT10</th>\n",
       "    </tr>\n",
       "  </thead>\n",
       "  <tbody>\n",
       "    <tr>\n",
       "      <th>count</th>\n",
       "      <td>506.000000</td>\n",
       "      <td>506.000000</td>\n",
       "      <td>506.000000</td>\n",
       "      <td>506.000000</td>\n",
       "      <td>506.000000</td>\n",
       "      <td>506.000000</td>\n",
       "      <td>506.000000</td>\n",
       "      <td>506.000000</td>\n",
       "      <td>506.000000</td>\n",
       "      <td>506.000000</td>\n",
       "      <td>506.000000</td>\n",
       "    </tr>\n",
       "    <tr>\n",
       "      <th>mean</th>\n",
       "      <td>22.532806</td>\n",
       "      <td>12.653063</td>\n",
       "      <td>210.993989</td>\n",
       "      <td>4285.788793</td>\n",
       "      <td>100133.564373</td>\n",
       "      <td>2587608.744454</td>\n",
       "      <td>71980290.634747</td>\n",
       "      <td>2114923310.432112</td>\n",
       "      <td>64770766387.700996</td>\n",
       "      <td>2048399343048.692627</td>\n",
       "      <td>66452921435633.039062</td>\n",
       "    </tr>\n",
       "    <tr>\n",
       "      <th>std</th>\n",
       "      <td>9.197104</td>\n",
       "      <td>7.141062</td>\n",
       "      <td>236.061920</td>\n",
       "      <td>7329.288372</td>\n",
       "      <td>234205.947171</td>\n",
       "      <td>7737927.473318</td>\n",
       "      <td>262850303.079056</td>\n",
       "      <td>9126325514.202841</td>\n",
       "      <td>322306095752.119202</td>\n",
       "      <td>11533448502146.974609</td>\n",
       "      <td>416951237857214.000000</td>\n",
       "    </tr>\n",
       "    <tr>\n",
       "      <th>min</th>\n",
       "      <td>5.000000</td>\n",
       "      <td>1.730000</td>\n",
       "      <td>2.992900</td>\n",
       "      <td>5.177717</td>\n",
       "      <td>8.957450</td>\n",
       "      <td>15.496389</td>\n",
       "      <td>26.808753</td>\n",
       "      <td>46.379143</td>\n",
       "      <td>80.235918</td>\n",
       "      <td>138.808138</td>\n",
       "      <td>240.138079</td>\n",
       "    </tr>\n",
       "    <tr>\n",
       "      <th>25%</th>\n",
       "      <td>17.025000</td>\n",
       "      <td>6.950000</td>\n",
       "      <td>48.303700</td>\n",
       "      <td>335.727443</td>\n",
       "      <td>2333.480622</td>\n",
       "      <td>16219.315700</td>\n",
       "      <td>112738.405675</td>\n",
       "      <td>783650.371825</td>\n",
       "      <td>5447333.352750</td>\n",
       "      <td>37866640.430000</td>\n",
       "      <td>263233326.450000</td>\n",
       "    </tr>\n",
       "    <tr>\n",
       "      <th>50%</th>\n",
       "      <td>21.200000</td>\n",
       "      <td>11.360000</td>\n",
       "      <td>129.050000</td>\n",
       "      <td>1466.017088</td>\n",
       "      <td>16654.108980</td>\n",
       "      <td>189193.023650</td>\n",
       "      <td>2149266.056000</td>\n",
       "      <td>24416116.450000</td>\n",
       "      <td>277373100.650000</td>\n",
       "      <td>3151036551.500000</td>\n",
       "      <td>35796773710.500000</td>\n",
       "    </tr>\n",
       "    <tr>\n",
       "      <th>75%</th>\n",
       "      <td>25.000000</td>\n",
       "      <td>16.955000</td>\n",
       "      <td>287.472100</td>\n",
       "      <td>4874.091998</td>\n",
       "      <td>82640.294468</td>\n",
       "      <td>1401167.653500</td>\n",
       "      <td>23756828.525000</td>\n",
       "      <td>402797657.150000</td>\n",
       "      <td>6829446727.750000</td>\n",
       "      <td>115793500000.000000</td>\n",
       "      <td>1963285000000.000000</td>\n",
       "    </tr>\n",
       "    <tr>\n",
       "      <th>max</th>\n",
       "      <td>50.000000</td>\n",
       "      <td>37.970000</td>\n",
       "      <td>1441.720900</td>\n",
       "      <td>54742.142570</td>\n",
       "      <td>2078559.153000</td>\n",
       "      <td>78922891.060000</td>\n",
       "      <td>2996702173.000000</td>\n",
       "      <td>113785000000.000000</td>\n",
       "      <td>4320410000000.000000</td>\n",
       "      <td>164046000000000.000000</td>\n",
       "      <td>6228820000000000.000000</td>\n",
       "    </tr>\n",
       "  </tbody>\n",
       "</table>\n",
       "</div>"
      ],
      "text/plain": [
       "           price      LSTAT      LSTAT2       LSTAT3         LSTAT4  \\\n",
       "count 506.000000 506.000000  506.000000   506.000000     506.000000   \n",
       "mean   22.532806  12.653063  210.993989  4285.788793  100133.564373   \n",
       "std     9.197104   7.141062  236.061920  7329.288372  234205.947171   \n",
       "min     5.000000   1.730000    2.992900     5.177717       8.957450   \n",
       "25%    17.025000   6.950000   48.303700   335.727443    2333.480622   \n",
       "50%    21.200000  11.360000  129.050000  1466.017088   16654.108980   \n",
       "75%    25.000000  16.955000  287.472100  4874.091998   82640.294468   \n",
       "max    50.000000  37.970000 1441.720900 54742.142570 2078559.153000   \n",
       "\n",
       "               LSTAT5            LSTAT6              LSTAT7  \\\n",
       "count      506.000000        506.000000          506.000000   \n",
       "mean   2587608.744454   71980290.634747   2114923310.432112   \n",
       "std    7737927.473318  262850303.079056   9126325514.202841   \n",
       "min         15.496389         26.808753           46.379143   \n",
       "25%      16219.315700     112738.405675       783650.371825   \n",
       "50%     189193.023650    2149266.056000     24416116.450000   \n",
       "75%    1401167.653500   23756828.525000    402797657.150000   \n",
       "max   78922891.060000 2996702173.000000 113785000000.000000   \n",
       "\n",
       "                    LSTAT8                 LSTAT9                 LSTAT10  \n",
       "count           506.000000             506.000000              506.000000  \n",
       "mean    64770766387.700996   2048399343048.692627   66452921435633.039062  \n",
       "std    322306095752.119202  11533448502146.974609  416951237857214.000000  \n",
       "min              80.235918             138.808138              240.138079  \n",
       "25%         5447333.352750        37866640.430000        263233326.450000  \n",
       "50%       277373100.650000      3151036551.500000      35796773710.500000  \n",
       "75%      6829446727.750000    115793500000.000000    1963285000000.000000  \n",
       "max   4320410000000.000000 164046000000000.000000 6228820000000000.000000  "
      ]
     },
     "execution_count": 52,
     "metadata": {},
     "output_type": "execute_result"
    }
   ],
   "source": [
    "df.describe()\n",
    "# when we compare the std and means, huge amount of outliers can be detected in the overall data.\n",
    "# A similar comment can be made for the min-25% and 75%-max caomparisons. Both in the bottom and upper part of \n",
    "# data, there are outliers."
   ]
  },
  {
   "cell_type": "code",
   "execution_count": 53,
   "id": "dbe71d71-a0d3-4aec-972c-9093a4cb6e32",
   "metadata": {},
   "outputs": [
    {
     "data": {
      "text/plain": [
       "0.1595284776599241"
      ]
     },
     "execution_count": 53,
     "metadata": {},
     "output_type": "execute_result"
    }
   ],
   "source": [
    "# checking the first observation for LSTAT\n",
    "(24-22.5328)/9.197104\n",
    "# first obs is 24. we subtract the mean and divide into std to normalize it.\n",
    "# when we check the first onservation of LSTAT below in df_sc, it's the same."
   ]
  },
  {
   "cell_type": "code",
   "execution_count": 54,
   "id": "8b981527-9cb7-44a7-9ba4-d1e9a98e9936",
   "metadata": {},
   "outputs": [
    {
     "data": {
      "text/plain": [
       "Index(['price', 'LSTAT', 'LSTAT2', 'LSTAT3', 'LSTAT4', 'LSTAT5', 'LSTAT6',\n",
       "       'LSTAT7', 'LSTAT8', 'LSTAT9', 'LSTAT10'],\n",
       "      dtype='object')"
      ]
     },
     "execution_count": 54,
     "metadata": {},
     "output_type": "execute_result"
    }
   ],
   "source": [
    "df.columns"
   ]
  },
  {
   "cell_type": "code",
   "execution_count": 55,
   "id": "5c23f323-d69a-4f8c-9902-13a1303bef2d",
   "metadata": {},
   "outputs": [
    {
     "data": {
      "text/html": [
       "<div>\n",
       "<style scoped>\n",
       "    .dataframe tbody tr th:only-of-type {\n",
       "        vertical-align: middle;\n",
       "    }\n",
       "\n",
       "    .dataframe tbody tr th {\n",
       "        vertical-align: top;\n",
       "    }\n",
       "\n",
       "    .dataframe thead th {\n",
       "        text-align: right;\n",
       "    }\n",
       "</style>\n",
       "<table border=\"1\" class=\"dataframe\">\n",
       "  <thead>\n",
       "    <tr style=\"text-align: right;\">\n",
       "      <th></th>\n",
       "      <th>price</th>\n",
       "      <th>LSTAT</th>\n",
       "      <th>LSTAT2</th>\n",
       "      <th>LSTAT3</th>\n",
       "      <th>LSTAT4</th>\n",
       "      <th>LSTAT5</th>\n",
       "      <th>LSTAT6</th>\n",
       "      <th>LSTAT7</th>\n",
       "      <th>LSTAT8</th>\n",
       "      <th>LSTAT9</th>\n",
       "      <th>LSTAT10</th>\n",
       "    </tr>\n",
       "  </thead>\n",
       "  <tbody>\n",
       "    <tr>\n",
       "      <th>0</th>\n",
       "      <td>0.159686</td>\n",
       "      <td>-1.075562</td>\n",
       "      <td>-0.789529</td>\n",
       "      <td>-0.568459</td>\n",
       "      <td>-0.425339</td>\n",
       "      <td>-0.334341</td>\n",
       "      <td>-0.274058</td>\n",
       "      <td>-0.231960</td>\n",
       "      <td>-0.201158</td>\n",
       "      <td>-0.177781</td>\n",
       "      <td>-0.159536</td>\n",
       "    </tr>\n",
       "    <tr>\n",
       "      <th>1</th>\n",
       "      <td>-0.101524</td>\n",
       "      <td>-0.492439</td>\n",
       "      <td>-0.540454</td>\n",
       "      <td>-0.481046</td>\n",
       "      <td>-0.398141</td>\n",
       "      <td>-0.326485</td>\n",
       "      <td>-0.271896</td>\n",
       "      <td>-0.231384</td>\n",
       "      <td>-0.201008</td>\n",
       "      <td>-0.177742</td>\n",
       "      <td>-0.159526</td>\n",
       "    </tr>\n",
       "    <tr>\n",
       "      <th>2</th>\n",
       "      <td>1.324247</td>\n",
       "      <td>-1.208727</td>\n",
       "      <td>-0.825825</td>\n",
       "      <td>-0.576388</td>\n",
       "      <td>-0.426841</td>\n",
       "      <td>-0.334599</td>\n",
       "      <td>-0.274100</td>\n",
       "      <td>-0.231966</td>\n",
       "      <td>-0.201159</td>\n",
       "      <td>-0.177781</td>\n",
       "      <td>-0.159536</td>\n",
       "    </tr>\n",
       "    <tr>\n",
       "      <th>3</th>\n",
       "      <td>1.182758</td>\n",
       "      <td>-1.361517</td>\n",
       "      <td>-0.858040</td>\n",
       "      <td>-0.581856</td>\n",
       "      <td>-0.427649</td>\n",
       "      <td>-0.334708</td>\n",
       "      <td>-0.274114</td>\n",
       "      <td>-0.231968</td>\n",
       "      <td>-0.201159</td>\n",
       "      <td>-0.177781</td>\n",
       "      <td>-0.159536</td>\n",
       "    </tr>\n",
       "    <tr>\n",
       "      <th>4</th>\n",
       "      <td>1.487503</td>\n",
       "      <td>-1.026501</td>\n",
       "      <td>-0.774228</td>\n",
       "      <td>-0.564647</td>\n",
       "      <td>-0.424519</td>\n",
       "      <td>-0.334180</td>\n",
       "      <td>-0.274029</td>\n",
       "      <td>-0.231955</td>\n",
       "      <td>-0.201157</td>\n",
       "      <td>-0.177781</td>\n",
       "      <td>-0.159536</td>\n",
       "    </tr>\n",
       "  </tbody>\n",
       "</table>\n",
       "</div>"
      ],
      "text/plain": [
       "      price     LSTAT    LSTAT2    LSTAT3    LSTAT4    LSTAT5    LSTAT6  \\\n",
       "0  0.159686 -1.075562 -0.789529 -0.568459 -0.425339 -0.334341 -0.274058   \n",
       "1 -0.101524 -0.492439 -0.540454 -0.481046 -0.398141 -0.326485 -0.271896   \n",
       "2  1.324247 -1.208727 -0.825825 -0.576388 -0.426841 -0.334599 -0.274100   \n",
       "3  1.182758 -1.361517 -0.858040 -0.581856 -0.427649 -0.334708 -0.274114   \n",
       "4  1.487503 -1.026501 -0.774228 -0.564647 -0.424519 -0.334180 -0.274029   \n",
       "\n",
       "     LSTAT7    LSTAT8    LSTAT9   LSTAT10  \n",
       "0 -0.231960 -0.201158 -0.177781 -0.159536  \n",
       "1 -0.231384 -0.201008 -0.177742 -0.159526  \n",
       "2 -0.231966 -0.201159 -0.177781 -0.159536  \n",
       "3 -0.231968 -0.201159 -0.177781 -0.159536  \n",
       "4 -0.231955 -0.201157 -0.177781 -0.159536  "
      ]
     },
     "execution_count": 55,
     "metadata": {},
     "output_type": "execute_result"
    }
   ],
   "source": [
    "df_sc = pd.DataFrame(df_sc, columns=df.columns)\n",
    "df_sc.head()"
   ]
  },
  {
   "cell_type": "code",
   "execution_count": 56,
   "id": "2731601b-5e36-45e7-a665-0092c63429e3",
   "metadata": {},
   "outputs": [
    {
     "data": {
      "image/png": "[encoded data removed]",
      "text/plain": [
       "<Figure size 1000x600 with 1 Axes>"
      ]
     },
     "metadata": {},
     "output_type": "display_data"
    }
   ],
   "source": [
    "# scatter plot for price and LSTAT in scaled df_sc\n",
    "sns.scatterplot(x='LSTAT', y='price', data=df_sc)\n",
    "plt.show()"
   ]
  },
  {
   "cell_type": "markdown",
   "id": "d2ae3475-debd-4a42-a6c1-bcb25e007698",
   "metadata": {},
   "source": [
    "**IMPORTANT**: Feature scaling does not change the pattern. It just changes the magnitude. If we check the scatter plot between price and LSTAT before and after feature scaling, we can see that the pattern is the same. However:\n",
    "\n",
    "Price range was from 0 to 50 for df, it's from -2 to 2 in scaled df_sc. Similarly, LSTAT was from 0 to 40 in df, it's between 0 and 4 in the scaled data."
   ]
  },
  {
   "cell_type": "markdown",
   "id": "22350c53-375a-4550-b84c-73efec66ef35",
   "metadata": {},
   "source": [
    "# Splitting the data"
   ]
  },
  {
   "cell_type": "code",
   "execution_count": 57,
   "id": "70f21c93-1bef-419c-af77-14c19386336a",
   "metadata": {},
   "outputs": [
    {
     "data": {
      "text/html": [
       "<div>\n",
       "<style scoped>\n",
       "    .dataframe tbody tr th:only-of-type {\n",
       "        vertical-align: middle;\n",
       "    }\n",
       "\n",
       "    .dataframe tbody tr th {\n",
       "        vertical-align: top;\n",
       "    }\n",
       "\n",
       "    .dataframe thead th {\n",
       "        text-align: right;\n",
       "    }\n",
       "</style>\n",
       "<table border=\"1\" class=\"dataframe\">\n",
       "  <thead>\n",
       "    <tr style=\"text-align: right;\">\n",
       "      <th></th>\n",
       "      <th>LSTAT</th>\n",
       "      <th>LSTAT2</th>\n",
       "      <th>LSTAT3</th>\n",
       "      <th>LSTAT4</th>\n",
       "      <th>LSTAT5</th>\n",
       "      <th>LSTAT6</th>\n",
       "      <th>LSTAT7</th>\n",
       "      <th>LSTAT8</th>\n",
       "      <th>LSTAT9</th>\n",
       "      <th>LSTAT10</th>\n",
       "    </tr>\n",
       "  </thead>\n",
       "  <tbody>\n",
       "    <tr>\n",
       "      <th>300</th>\n",
       "      <td>-0.922773</td>\n",
       "      <td>-0.738456</td>\n",
       "      <td>-0.554782</td>\n",
       "      <td>-0.422166</td>\n",
       "      <td>-0.333671</td>\n",
       "      <td>-0.273926</td>\n",
       "      <td>-0.231935</td>\n",
       "      <td>-0.201154</td>\n",
       "      <td>-0.177780</td>\n",
       "      <td>-0.159536</td>\n",
       "    </tr>\n",
       "    <tr>\n",
       "      <th>32</th>\n",
       "      <td>2.110588</td>\n",
       "      <td>2.361250</td>\n",
       "      <td>2.320551</td>\n",
       "      <td>2.091900</td>\n",
       "      <td>1.778692</td>\n",
       "      <td>1.449896</td>\n",
       "      <td>1.143940</td>\n",
       "      <td>0.878417</td>\n",
       "      <td>0.658205</td>\n",
       "      <td>0.481244</td>\n",
       "    </tr>\n",
       "    <tr>\n",
       "      <th>181</th>\n",
       "      <td>-0.448985</td>\n",
       "      <td>-0.516017</td>\n",
       "      <td>-0.470071</td>\n",
       "      <td>-0.393883</td>\n",
       "      <td>-0.324988</td>\n",
       "      <td>-0.271404</td>\n",
       "      <td>-0.231230</td>\n",
       "      <td>-0.200962</td>\n",
       "      <td>-0.177729</td>\n",
       "      <td>-0.159522</td>\n",
       "    </tr>\n",
       "    <tr>\n",
       "      <th>272</th>\n",
       "      <td>-0.690084</td>\n",
       "      <td>-0.641318</td>\n",
       "      <td>-0.522245</td>\n",
       "      <td>-0.412708</td>\n",
       "      <td>-0.331167</td>\n",
       "      <td>-0.273304</td>\n",
       "      <td>-0.231787</td>\n",
       "      <td>-0.201120</td>\n",
       "      <td>-0.177772</td>\n",
       "      <td>-0.159534</td>\n",
       "    </tr>\n",
       "    <tr>\n",
       "      <th>477</th>\n",
       "      <td>1.718101</td>\n",
       "      <td>1.736491</td>\n",
       "      <td>1.525676</td>\n",
       "      <td>1.217641</td>\n",
       "      <td>0.905982</td>\n",
       "      <td>0.635721</td>\n",
       "      <td>0.420786</td>\n",
       "      <td>0.259256</td>\n",
       "      <td>0.142724</td>\n",
       "      <td>0.061306</td>\n",
       "    </tr>\n",
       "  </tbody>\n",
       "</table>\n",
       "</div>"
      ],
      "text/plain": [
       "        LSTAT    LSTAT2    LSTAT3    LSTAT4    LSTAT5    LSTAT6    LSTAT7  \\\n",
       "300 -0.922773 -0.738456 -0.554782 -0.422166 -0.333671 -0.273926 -0.231935   \n",
       "32   2.110588  2.361250  2.320551  2.091900  1.778692  1.449896  1.143940   \n",
       "181 -0.448985 -0.516017 -0.470071 -0.393883 -0.324988 -0.271404 -0.231230   \n",
       "272 -0.690084 -0.641318 -0.522245 -0.412708 -0.331167 -0.273304 -0.231787   \n",
       "477  1.718101  1.736491  1.525676  1.217641  0.905982  0.635721  0.420786   \n",
       "\n",
       "       LSTAT8    LSTAT9   LSTAT10  \n",
       "300 -0.201154 -0.177780 -0.159536  \n",
       "32   0.878417  0.658205  0.481244  \n",
       "181 -0.200962 -0.177729 -0.159522  \n",
       "272 -0.201120 -0.177772 -0.159534  \n",
       "477  0.259256  0.142724  0.061306  "
      ]
     },
     "execution_count": 57,
     "metadata": {},
     "output_type": "execute_result"
    }
   ],
   "source": [
    "y = df_sc['price']\n",
    "X = df_sc.drop('price', axis=1) # becareful inplace= False\n",
    "\n",
    "from sklearn.model_selection import train_test_split\n",
    "\n",
    "X_train, X_test, y_train, y_test = train_test_split(X, y, test_size=0.2, random_state=rand_state)\n",
    "X_train.head()"
   ]
  },
  {
   "cell_type": "markdown",
   "id": "d72ba745-0188-4e29-b8cb-1c34db9349ba",
   "metadata": {},
   "source": [
    "As we can see from the table above, the variables are highly correlated with each other. Let's first run a linear regression and see the results as a benchmark."
   ]
  },
  {
   "cell_type": "code",
   "execution_count": 59,
   "id": "1047b2ee-28e6-41b1-96f5-a31160d0940c",
   "metadata": {},
   "outputs": [],
   "source": [
    "X_test_wc = sm.add_constant(X_test)\n",
    "X_train_wc = sm.add_constant(X_train)"
   ]
  },
  {
   "cell_type": "code",
   "execution_count": 60,
   "id": "9485e9bf-764c-46de-b69d-10a7e7c1ebd8",
   "metadata": {},
   "outputs": [
    {
     "data": {
      "text/html": [
       "<table class=\"simpletable\">\n",
       "<caption>OLS Regression Results</caption>\n",
       "<tr>\n",
       "  <th>Dep. Variable:</th>          <td>price</td>      <th>  R-squared:         </th> <td>   0.677</td>\n",
       "</tr>\n",
       "<tr>\n",
       "  <th>Model:</th>                   <td>OLS</td>       <th>  Adj. R-squared:    </th> <td>   0.669</td>\n",
       "</tr>\n",
       "<tr>\n",
       "  <th>Method:</th>             <td>Least Squares</td>  <th>  F-statistic:       </th> <td>   82.44</td>\n",
       "</tr>\n",
       "<tr>\n",
       "  <th>Date:</th>             <td>Mon, 27 Mar 2023</td> <th>  Prob (F-statistic):</th> <td>4.51e-90</td>\n",
       "</tr>\n",
       "<tr>\n",
       "  <th>Time:</th>                 <td>11:36:06</td>     <th>  Log-Likelihood:    </th> <td> -344.23</td>\n",
       "</tr>\n",
       "<tr>\n",
       "  <th>No. Observations:</th>      <td>   404</td>      <th>  AIC:               </th> <td>   710.5</td>\n",
       "</tr>\n",
       "<tr>\n",
       "  <th>Df Residuals:</th>          <td>   393</td>      <th>  BIC:               </th> <td>   754.5</td>\n",
       "</tr>\n",
       "<tr>\n",
       "  <th>Df Model:</th>              <td>    10</td>      <th>                     </th>     <td> </td>   \n",
       "</tr>\n",
       "<tr>\n",
       "  <th>Covariance Type:</th>      <td>nonrobust</td>    <th>                     </th>     <td> </td>   \n",
       "</tr>\n",
       "</table>\n",
       "<table class=\"simpletable\">\n",
       "<tr>\n",
       "     <td></td>        <th>coef</th>     <th>std err</th>      <th>t</th>      <th>P>|t|</th>  <th>[0.025</th>    <th>0.975]</th>  \n",
       "</tr>\n",
       "<tr>\n",
       "  <th>const</th>   <td>    0.0120</td> <td>    0.029</td> <td>    0.417</td> <td> 0.677</td> <td>   -0.044</td> <td>    0.068</td>\n",
       "</tr>\n",
       "<tr>\n",
       "  <th>LSTAT</th>   <td>   10.4856</td> <td>   14.789</td> <td>    0.709</td> <td> 0.479</td> <td>  -18.591</td> <td>   39.562</td>\n",
       "</tr>\n",
       "<tr>\n",
       "  <th>LSTAT2</th>  <td> -198.4474</td> <td>  183.865</td> <td>   -1.079</td> <td> 0.281</td> <td> -559.929</td> <td>  163.035</td>\n",
       "</tr>\n",
       "<tr>\n",
       "  <th>LSTAT3</th>  <td> 1218.5360</td> <td> 1157.209</td> <td>    1.053</td> <td> 0.293</td> <td>-1056.559</td> <td> 3493.631</td>\n",
       "</tr>\n",
       "<tr>\n",
       "  <th>LSTAT4</th>  <td>-4039.5201</td> <td> 4549.147</td> <td>   -0.888</td> <td> 0.375</td> <td> -1.3e+04</td> <td> 4904.187</td>\n",
       "</tr>\n",
       "<tr>\n",
       "  <th>LSTAT5</th>  <td> 8029.8874</td> <td> 1.19e+04</td> <td>    0.675</td> <td> 0.500</td> <td>-1.54e+04</td> <td> 3.14e+04</td>\n",
       "</tr>\n",
       "<tr>\n",
       "  <th>LSTAT6</th>  <td>-9630.6577</td> <td> 2.11e+04</td> <td>   -0.456</td> <td> 0.649</td> <td>-5.11e+04</td> <td> 3.19e+04</td>\n",
       "</tr>\n",
       "<tr>\n",
       "  <th>LSTAT7</th>  <td> 6399.3109</td> <td> 2.51e+04</td> <td>    0.255</td> <td> 0.799</td> <td> -4.3e+04</td> <td> 5.58e+04</td>\n",
       "</tr>\n",
       "<tr>\n",
       "  <th>LSTAT8</th>  <td>-1554.6344</td> <td> 1.92e+04</td> <td>   -0.081</td> <td> 0.935</td> <td>-3.93e+04</td> <td> 3.62e+04</td>\n",
       "</tr>\n",
       "<tr>\n",
       "  <th>LSTAT9</th>  <td> -523.9209</td> <td> 8485.139</td> <td>   -0.062</td> <td> 0.951</td> <td>-1.72e+04</td> <td> 1.62e+04</td>\n",
       "</tr>\n",
       "<tr>\n",
       "  <th>LSTAT10</th> <td>  288.1740</td> <td> 1645.665</td> <td>    0.175</td> <td> 0.861</td> <td>-2947.235</td> <td> 3523.583</td>\n",
       "</tr>\n",
       "</table>\n",
       "<table class=\"simpletable\">\n",
       "<tr>\n",
       "  <th>Omnibus:</th>       <td>106.759</td> <th>  Durbin-Watson:     </th> <td>   1.957</td>\n",
       "</tr>\n",
       "<tr>\n",
       "  <th>Prob(Omnibus):</th> <td> 0.000</td>  <th>  Jarque-Bera (JB):  </th> <td> 319.634</td>\n",
       "</tr>\n",
       "<tr>\n",
       "  <th>Skew:</th>          <td> 1.217</td>  <th>  Prob(JB):          </th> <td>3.91e-70</td>\n",
       "</tr>\n",
       "<tr>\n",
       "  <th>Kurtosis:</th>      <td> 6.614</td>  <th>  Cond. No.          </th> <td>4.56e+06</td>\n",
       "</tr>\n",
       "</table><br/><br/>Notes:<br/>[1] Standard Errors assume that the covariance matrix of the errors is correctly specified.<br/>[2] The condition number is large, 4.56e+06. This might indicate that there are<br/>strong multicollinearity or other numerical problems."
      ],
      "text/plain": [
       "<class 'statsmodels.iolib.summary.Summary'>\n",
       "\"\"\"\n",
       "                            OLS Regression Results                            \n",
       "==============================================================================\n",
       "Dep. Variable:                  price   R-squared:                       0.677\n",
       "Model:                            OLS   Adj. R-squared:                  0.669\n",
       "Method:                 Least Squares   F-statistic:                     82.44\n",
       "Date:                Mon, 27 Mar 2023   Prob (F-statistic):           4.51e-90\n",
       "Time:                        11:36:06   Log-Likelihood:                -344.23\n",
       "No. Observations:                 404   AIC:                             710.5\n",
       "Df Residuals:                     393   BIC:                             754.5\n",
       "Df Model:                          10                                         \n",
       "Covariance Type:            nonrobust                                         \n",
       "==============================================================================\n",
       "                 coef    std err          t      P>|t|      [0.025      0.975]\n",
       "------------------------------------------------------------------------------\n",
       "const          0.0120      0.029      0.417      0.677      -0.044       0.068\n",
       "LSTAT         10.4856     14.789      0.709      0.479     -18.591      39.562\n",
       "LSTAT2      -198.4474    183.865     -1.079      0.281    -559.929     163.035\n",
       "LSTAT3      1218.5360   1157.209      1.053      0.293   -1056.559    3493.631\n",
       "LSTAT4     -4039.5201   4549.147     -0.888      0.375    -1.3e+04    4904.187\n",
       "LSTAT5      8029.8874   1.19e+04      0.675      0.500   -1.54e+04    3.14e+04\n",
       "LSTAT6     -9630.6577   2.11e+04     -0.456      0.649   -5.11e+04    3.19e+04\n",
       "LSTAT7      6399.3109   2.51e+04      0.255      0.799    -4.3e+04    5.58e+04\n",
       "LSTAT8     -1554.6344   1.92e+04     -0.081      0.935   -3.93e+04    3.62e+04\n",
       "LSTAT9      -523.9209   8485.139     -0.062      0.951   -1.72e+04    1.62e+04\n",
       "LSTAT10      288.1740   1645.665      0.175      0.861   -2947.235    3523.583\n",
       "==============================================================================\n",
       "Omnibus:                      106.759   Durbin-Watson:                   1.957\n",
       "Prob(Omnibus):                  0.000   Jarque-Bera (JB):              319.634\n",
       "Skew:                           1.217   Prob(JB):                     3.91e-70\n",
       "Kurtosis:                       6.614   Cond. No.                     4.56e+06\n",
       "==============================================================================\n",
       "\n",
       "Notes:\n",
       "[1] Standard Errors assume that the covariance matrix of the errors is correctly specified.\n",
       "[2] The condition number is large, 4.56e+06. This might indicate that there are\n",
       "strong multicollinearity or other numerical problems.\n",
       "\"\"\""
      ]
     },
     "execution_count": 60,
     "metadata": {},
     "output_type": "execute_result"
    }
   ],
   "source": [
    "sm.OLS(y_train, X_train_wc).fit().summary()\n",
    "\n",
    "# R2 is 67%. that means, even with 10 feaures our model does pretty well.\n",
    "\n",
    "# peki hangi feature daha etkili. Asagida p valuelara baktigimizda, tamaminin alpha 0.05'ten yuksek oldugunu \n",
    "# ve herhangi birinin pricei aciklamakta yetersiz kaldigini goruyoruz. There is no causality. We don't have a story.\n",
    "# DOlayısıyla bunlari duzeltmeliyiz: Regularization"
   ]
  },
  {
   "cell_type": "markdown",
   "id": "60eaa7d8-19bc-4239-a746-9702d7c2a13d",
   "metadata": {},
   "source": [
    "# A) Training the models\n",
    "\n",
    "In this section we will train 4 different models:\n",
    "\n",
    "- Linear regression (model_linear)\n",
    "- Ridge regression (model_ridge)\n",
    "- Lasso regression (model_lasso)\n",
    "- Elastic Net regression (model_net)"
   ]
  },
  {
   "cell_type": "code",
   "execution_count": 61,
   "id": "5436d113-c9bc-4d9f-8bca-54c682fe4070",
   "metadata": {},
   "outputs": [],
   "source": [
    "from sklearn.linear_model import LinearRegression, Ridge,RidgeCV, Lasso, LassoCV, ElasticNet, ElasticNetCV"
   ]
  },
  {
   "cell_type": "code",
   "execution_count": 62,
   "id": "5b5aa4a8-30f4-4b82-959a-77ece8d68c7d",
   "metadata": {},
   "outputs": [],
   "source": [
    "# starting with default parameters:\n",
    "\n",
    "# optimal alpha for ridge R\n",
    "ridgecv = RidgeCV()\n",
    "ridgecv.fit(X_train, y_train)\n",
    "alpha_ridge_opt = ridgecv.alpha_\n",
    "\n",
    "# optimal for lasso R\n",
    "lassocv = LassoCV()\n",
    "lassocv.fit(X_train, y_train)\n",
    "alpha_lasso_opt = lassocv.alpha_\n",
    "\n",
    "# optimal for elastic net R\n",
    "elasticnetcv = ElasticNetCV()\n",
    "elasticnetcv.fit(X_train, y_train)\n",
    "alpha_elasticnet_opt = elasticnetcv.alpha_\n",
    "\n",
    "\n",
    "\n",
    "model_linear = LinearRegression()\n",
    "model_ridge = Ridge(alpha=alpha_ridge_opt)\n",
    "model_lasso = Lasso(alpha=alpha_lasso_opt)\n",
    "model_net = ElasticNet(alpha=alpha_elasticnet_opt)"
   ]
  },
  {
   "cell_type": "code",
   "execution_count": 63,
   "id": "a18931cc-3f66-45c2-a783-7d4b6bc9529c",
   "metadata": {},
   "outputs": [],
   "source": [
    "y_hat_linear= model_linear.fit(X_train, y_train).predict(X_test)\n",
    "y_hat_ridge = model_ridge.fit(X_train, y_train).predict(X_test)\n",
    "y_hat_lasso = model_lasso.fit(X_train, y_train).predict(X_test)\n",
    "y_hat_net   = model_net.fit(X_train, y_train).predict(X_test)"
   ]
  },
  {
   "cell_type": "code",
   "execution_count": 64,
   "id": "7fa33d6c-d5b6-4f58-94f7-6db46e8649ad",
   "metadata": {},
   "outputs": [
    {
     "data": {
      "text/html": [
       "<div>\n",
       "<style scoped>\n",
       "    .dataframe tbody tr th:only-of-type {\n",
       "        vertical-align: middle;\n",
       "    }\n",
       "\n",
       "    .dataframe tbody tr th {\n",
       "        vertical-align: top;\n",
       "    }\n",
       "\n",
       "    .dataframe thead th {\n",
       "        text-align: right;\n",
       "    }\n",
       "</style>\n",
       "<table border=\"1\" class=\"dataframe\">\n",
       "  <thead>\n",
       "    <tr style=\"text-align: right;\">\n",
       "      <th></th>\n",
       "      <th>y_test</th>\n",
       "      <th>y_hat_linear</th>\n",
       "      <th>y_hat_ridge</th>\n",
       "      <th>y_hat_lasso</th>\n",
       "      <th>y_hat_net</th>\n",
       "    </tr>\n",
       "  </thead>\n",
       "  <tbody>\n",
       "    <tr>\n",
       "      <th>483</th>\n",
       "      <td>-0.079757</td>\n",
       "      <td>-0.019459</td>\n",
       "      <td>0.029108</td>\n",
       "      <td>0.062848</td>\n",
       "      <td>0.091023</td>\n",
       "    </tr>\n",
       "    <tr>\n",
       "      <th>426</th>\n",
       "      <td>-1.342272</td>\n",
       "      <td>-0.480570</td>\n",
       "      <td>-0.589703</td>\n",
       "      <td>-0.576485</td>\n",
       "      <td>-0.563686</td>\n",
       "    </tr>\n",
       "    <tr>\n",
       "      <th>22</th>\n",
       "      <td>-0.798084</td>\n",
       "      <td>-0.736176</td>\n",
       "      <td>-0.786380</td>\n",
       "      <td>-0.812437</td>\n",
       "      <td>-0.818686</td>\n",
       "    </tr>\n",
       "    <tr>\n",
       "      <th>268</th>\n",
       "      <td>2.282016</td>\n",
       "      <td>2.053967</td>\n",
       "      <td>1.495823</td>\n",
       "      <td>1.445509</td>\n",
       "      <td>1.376081</td>\n",
       "    </tr>\n",
       "    <tr>\n",
       "      <th>371</th>\n",
       "      <td>2.989460</td>\n",
       "      <td>0.041490</td>\n",
       "      <td>0.171371</td>\n",
       "      <td>0.200742</td>\n",
       "      <td>0.226367</td>\n",
       "    </tr>\n",
       "  </tbody>\n",
       "</table>\n",
       "</div>"
      ],
      "text/plain": [
       "       y_test  y_hat_linear  y_hat_ridge  y_hat_lasso  y_hat_net\n",
       "483 -0.079757     -0.019459     0.029108     0.062848   0.091023\n",
       "426 -1.342272     -0.480570    -0.589703    -0.576485  -0.563686\n",
       "22  -0.798084     -0.736176    -0.786380    -0.812437  -0.818686\n",
       "268  2.282016      2.053967     1.495823     1.445509   1.376081\n",
       "371  2.989460      0.041490     0.171371     0.200742   0.226367"
      ]
     },
     "execution_count": 64,
     "metadata": {},
     "output_type": "execute_result"
    }
   ],
   "source": [
    "df_predictions = pd.DataFrame({'y_test':y_test,\n",
    "                               'y_hat_linear':y_hat_linear,\n",
    "                               'y_hat_ridge':y_hat_ridge,\n",
    "                               'y_hat_lasso':y_hat_lasso,\n",
    "                               'y_hat_net':y_hat_net})\n",
    "df_predictions.head()"
   ]
  },
  {
   "cell_type": "markdown",
   "id": "db395e08-13d4-4b84-92ae-9bbb90c42eea",
   "metadata": {},
   "source": [
    "# coefficients"
   ]
  },
  {
   "cell_type": "code",
   "execution_count": 65,
   "id": "5b1dd739-c825-41c8-9413-a816e8bb4565",
   "metadata": {},
   "outputs": [
    {
     "data": {
      "text/plain": [
       "Index(['LSTAT', 'LSTAT2', 'LSTAT3', 'LSTAT4', 'LSTAT5', 'LSTAT6', 'LSTAT7',\n",
       "       'LSTAT8', 'LSTAT9', 'LSTAT10'],\n",
       "      dtype='object')"
      ]
     },
     "execution_count": 65,
     "metadata": {},
     "output_type": "execute_result"
    }
   ],
   "source": [
    "df.drop('price', axis=1, inplace=False).columns"
   ]
  },
  {
   "cell_type": "code",
   "execution_count": 66,
   "id": "2270cbfb-8b3e-4c4d-baee-8e050065ed7c",
   "metadata": {},
   "outputs": [
    {
     "data": {
      "text/html": [
       "<div>\n",
       "<style scoped>\n",
       "    .dataframe tbody tr th:only-of-type {\n",
       "        vertical-align: middle;\n",
       "    }\n",
       "\n",
       "    .dataframe tbody tr th {\n",
       "        vertical-align: top;\n",
       "    }\n",
       "\n",
       "    .dataframe thead th {\n",
       "        text-align: right;\n",
       "    }\n",
       "</style>\n",
       "<table border=\"1\" class=\"dataframe\">\n",
       "  <thead>\n",
       "    <tr style=\"text-align: right;\">\n",
       "      <th></th>\n",
       "      <th>Features</th>\n",
       "      <th>model_lin</th>\n",
       "      <th>model_ridge</th>\n",
       "      <th>model_lasso</th>\n",
       "      <th>model_net</th>\n",
       "    </tr>\n",
       "  </thead>\n",
       "  <tbody>\n",
       "    <tr>\n",
       "      <th>0</th>\n",
       "      <td>LSTAT</td>\n",
       "      <td>10.485596</td>\n",
       "      <td>-1.997427</td>\n",
       "      <td>-1.901055</td>\n",
       "      <td>-1.579415</td>\n",
       "    </tr>\n",
       "    <tr>\n",
       "      <th>1</th>\n",
       "      <td>LSTAT2</td>\n",
       "      <td>-198.447363</td>\n",
       "      <td>1.120503</td>\n",
       "      <td>1.321663</td>\n",
       "      <td>0.626476</td>\n",
       "    </tr>\n",
       "    <tr>\n",
       "      <th>2</th>\n",
       "      <td>LSTAT3</td>\n",
       "      <td>1218.536029</td>\n",
       "      <td>0.705506</td>\n",
       "      <td>0.000000</td>\n",
       "      <td>0.403711</td>\n",
       "    </tr>\n",
       "    <tr>\n",
       "      <th>3</th>\n",
       "      <td>LSTAT4</td>\n",
       "      <td>-4039.520114</td>\n",
       "      <td>-0.029523</td>\n",
       "      <td>-0.000000</td>\n",
       "      <td>0.000000</td>\n",
       "    </tr>\n",
       "    <tr>\n",
       "      <th>4</th>\n",
       "      <td>LSTAT5</td>\n",
       "      <td>8029.887432</td>\n",
       "      <td>-0.331986</td>\n",
       "      <td>-0.000000</td>\n",
       "      <td>-0.000000</td>\n",
       "    </tr>\n",
       "    <tr>\n",
       "      <th>5</th>\n",
       "      <td>LSTAT6</td>\n",
       "      <td>-9630.657689</td>\n",
       "      <td>-0.305169</td>\n",
       "      <td>-0.112151</td>\n",
       "      <td>-0.028265</td>\n",
       "    </tr>\n",
       "    <tr>\n",
       "      <th>6</th>\n",
       "      <td>LSTAT7</td>\n",
       "      <td>6399.310944</td>\n",
       "      <td>-0.150135</td>\n",
       "      <td>-0.013339</td>\n",
       "      <td>-0.102566</td>\n",
       "    </tr>\n",
       "    <tr>\n",
       "      <th>7</th>\n",
       "      <td>LSTAT8</td>\n",
       "      <td>-1554.634407</td>\n",
       "      <td>0.007747</td>\n",
       "      <td>-0.000000</td>\n",
       "      <td>-0.012358</td>\n",
       "    </tr>\n",
       "    <tr>\n",
       "      <th>8</th>\n",
       "      <td>LSTAT9</td>\n",
       "      <td>-523.920943</td>\n",
       "      <td>0.115016</td>\n",
       "      <td>-0.000000</td>\n",
       "      <td>-0.000000</td>\n",
       "    </tr>\n",
       "    <tr>\n",
       "      <th>9</th>\n",
       "      <td>LSTAT10</td>\n",
       "      <td>288.174049</td>\n",
       "      <td>0.159595</td>\n",
       "      <td>-0.000000</td>\n",
       "      <td>-0.000000</td>\n",
       "    </tr>\n",
       "  </tbody>\n",
       "</table>\n",
       "</div>"
      ],
      "text/plain": [
       "  Features    model_lin  model_ridge  model_lasso  model_net\n",
       "0    LSTAT    10.485596    -1.997427    -1.901055  -1.579415\n",
       "1   LSTAT2  -198.447363     1.120503     1.321663   0.626476\n",
       "2   LSTAT3  1218.536029     0.705506     0.000000   0.403711\n",
       "3   LSTAT4 -4039.520114    -0.029523    -0.000000   0.000000\n",
       "4   LSTAT5  8029.887432    -0.331986    -0.000000  -0.000000\n",
       "5   LSTAT6 -9630.657689    -0.305169    -0.112151  -0.028265\n",
       "6   LSTAT7  6399.310944    -0.150135    -0.013339  -0.102566\n",
       "7   LSTAT8 -1554.634407     0.007747    -0.000000  -0.012358\n",
       "8   LSTAT9  -523.920943     0.115016    -0.000000  -0.000000\n",
       "9  LSTAT10   288.174049     0.159595    -0.000000  -0.000000"
      ]
     },
     "execution_count": 66,
     "metadata": {},
     "output_type": "execute_result"
    }
   ],
   "source": [
    "coefficients = pd.DataFrame({'Features':df.drop('price', axis=1, inplace=False).columns})\n",
    "coefficients['model_lin']= model_linear.coef_\n",
    "coefficients['model_ridge']= model_ridge.coef_\n",
    "coefficients['model_lasso']= model_lasso.coef_\n",
    "coefficients['model_net']= model_net.coef_\n",
    "coefficients\n",
    "# lasso eliminated 6 features by making their coefficients 0, and elastic-net eliminated 4."
   ]
  },
  {
   "cell_type": "markdown",
   "id": "4eafe44d-c07b-48e2-a591-8aacc7eea514",
   "metadata": {},
   "source": [
    "# Performance in the test set"
   ]
  },
  {
   "cell_type": "code",
   "execution_count": 67,
   "id": "e9a16bfe-5212-42c2-9fc2-723a01d51e23",
   "metadata": {},
   "outputs": [
    {
     "data": {
      "text/plain": [
       "0.541"
      ]
     },
     "execution_count": 67,
     "metadata": {},
     "output_type": "execute_result"
    }
   ],
   "source": [
    "# linear\n",
    "MSE_test = np.mean(np.square(df_predictions['y_test'] - df_predictions['y_hat_linear']))\n",
    "RMSE_test = np.sqrt(MSE_test)\n",
    "np.round(RMSE_test,3)"
   ]
  },
  {
   "cell_type": "markdown",
   "id": "82c2633d-c7f3-4486-bb01-984504c8ec77",
   "metadata": {},
   "source": [
    "**BUT what is this RMSE unit? percentage or dollar or etc?**\n",
    "\n",
    "The unit of RMSE is the same with our target unit. In this case, the house prices are in dollars and RMSE is in dollars. Wr can multiply it with 1000 dollars and see that RMSE is 541 dollars.\n",
    "\n",
    "This means, in our test set, average mean error is 541 dollars, which is not bad."
   ]
  },
  {
   "cell_type": "code",
   "execution_count": 68,
   "id": "ae4073bf-f6d4-451b-a0df-546b9839c979",
   "metadata": {},
   "outputs": [
    {
     "data": {
      "text/plain": [
       "0.55867"
      ]
     },
     "execution_count": 68,
     "metadata": {},
     "output_type": "execute_result"
    }
   ],
   "source": [
    "# ridge\n",
    "MSE_test = np.mean(np.square(df_predictions['y_test'] - df_predictions['y_hat_ridge']))\n",
    "RMSE_test = np.sqrt(MSE_test)\n",
    "np.round(RMSE_test,5)"
   ]
  },
  {
   "cell_type": "code",
   "execution_count": 69,
   "id": "ca4580d4-3216-401d-beef-6997e186c74c",
   "metadata": {},
   "outputs": [
    {
     "data": {
      "text/plain": [
       "0.557"
      ]
     },
     "execution_count": 69,
     "metadata": {},
     "output_type": "execute_result"
    }
   ],
   "source": [
    "# lasso\n",
    "MSE_test = np.mean(np.square(df_predictions['y_test'] - df_predictions['y_hat_lasso']))\n",
    "RMSE_test = np.sqrt(MSE_test)\n",
    "np.round(RMSE_test,3)"
   ]
  },
  {
   "cell_type": "code",
   "execution_count": 70,
   "id": "90b3b3f2-d6bd-48d9-bf9f-7f25d96e8077",
   "metadata": {},
   "outputs": [
    {
     "data": {
      "text/plain": [
       "0.559"
      ]
     },
     "execution_count": 70,
     "metadata": {},
     "output_type": "execute_result"
    }
   ],
   "source": [
    "# elastic-net\n",
    "MSE_test = np.mean(np.square(df_predictions['y_test'] - df_predictions['y_hat_net']))\n",
    "RMSE_test = np.sqrt(MSE_test)\n",
    "np.round(RMSE_test,3)"
   ]
  },
  {
   "cell_type": "code",
   "execution_count": null,
   "id": "fb44333f-a0cf-4563-aae0-c86f3cef0ce4",
   "metadata": {},
   "outputs": [],
   "source": []
  },
  {
   "cell_type": "markdown",
   "id": "51ff3607-ba2f-4f3b-9709-d35155affe7f",
   "metadata": {},
   "source": [
    "**Result:** Any of the penalized regressions do not improve the performance of the model. That means, we have to use some non-parametric algorithms for this model."
   ]
  },
  {
   "cell_type": "markdown",
   "id": "647d89bd-4cd0-4306-8604-eef990d90f6f",
   "metadata": {},
   "source": [
    "# Plotting the regression coefficients vs alphas:\n",
    "\n",
    "# 1) Ridge regression coefficients vs alpha"
   ]
  },
  {
   "cell_type": "code",
   "execution_count": 71,
   "id": "3c75b743-7619-4f97-a33a-7603ea6035cf",
   "metadata": {},
   "outputs": [
    {
     "data": {
      "image/png": "[encoded data removed]",
      "text/plain": [
       "<Figure size 1200x500 with 1 Axes>"
      ]
     },
     "metadata": {},
     "output_type": "display_data"
    }
   ],
   "source": [
    "alpha_ridge = 10**np.linspace(-2,4,100)\n",
    "plt.figure(figsize=(12,5))\n",
    "plt.plot(alpha_ridge,'or' )\n",
    "plt.xlabel('steps')\n",
    "plt.ylabel('alpha (lambda)')\n",
    "plt.show()"
   ]
  },
  {
   "cell_type": "code",
   "execution_count": 72,
   "id": "ac10fe72-2573-44a6-86c3-5e4d5495575e",
   "metadata": {},
   "outputs": [
    {
     "data": {
      "text/plain": [
       "(100, 10)"
      ]
     },
     "execution_count": 72,
     "metadata": {},
     "output_type": "execute_result"
    }
   ],
   "source": [
    "ridge = Ridge()\n",
    "coefs_ridge = []\n",
    "\n",
    "for i in alpha_ridge:\n",
    "    ridge.set_params(alpha = i)\n",
    "    ridge.fit(X_train, y_train)\n",
    "    coefs_ridge.append(ridge.coef_)\n",
    "    \n",
    "np.shape(coefs_ridge)"
   ]
  },
  {
   "cell_type": "code",
   "execution_count": 73,
   "id": "d253914f-0642-4f2c-8d5c-8d02317a78e9",
   "metadata": {},
   "outputs": [
    {
     "data": {
      "image/png": "[encoded data removed]",
      "text/plain": [
       "<Figure size 1200x1000 with 1 Axes>"
      ]
     },
     "metadata": {},
     "output_type": "display_data"
    }
   ],
   "source": [
    "plt.figure(figsize=(12,10))\n",
    "ax = plt.gca()\n",
    "ax.plot(alpha_ridge, coefs_ridge)\n",
    "ax.set_xscale('log')\n",
    "plt.axis('tight')\n",
    "plt.xlabel('alpha')\n",
    "plt.ylabel('weights: scaled coefficients')\n",
    "plt.title('Ridge regression coefficients Vs. alpha')\n",
    "plt.legend(df.drop('price',axis=1, inplace=False).columns)\n",
    "\n",
    "plt.show()"
   ]
  },
  {
   "cell_type": "markdown",
   "id": "cc8bdab1-dd60-4f41-9f5b-507cab1706ce",
   "metadata": {},
   "source": [
    "# 2) Lasso regression coefficients vs alpha"
   ]
  },
  {
   "cell_type": "code",
   "execution_count": 74,
   "id": "52099da5-28fc-49cd-9547-640157bf8a4c",
   "metadata": {},
   "outputs": [],
   "source": [
    "alpha_lasso = 10**np.linspace(-3,1,100)"
   ]
  },
  {
   "cell_type": "code",
   "execution_count": 75,
   "id": "82eca739-2c33-4e1a-87fa-7050a8ed8edb",
   "metadata": {},
   "outputs": [
    {
     "data": {
      "text/plain": [
       "(100, 10)"
      ]
     },
     "execution_count": 75,
     "metadata": {},
     "output_type": "execute_result"
    }
   ],
   "source": [
    "lasso = Lasso()\n",
    "coefs_lasso = []\n",
    "\n",
    "for i in alpha_lasso:\n",
    "    lasso.set_params(alpha = i)\n",
    "    lasso.fit(X_train, y_train)\n",
    "    coefs_lasso.append(lasso.coef_)\n",
    "    \n",
    "np.shape(coefs_lasso)"
   ]
  },
  {
   "cell_type": "code",
   "execution_count": 76,
   "id": "d4158d90-e16c-4954-b7aa-2fb94567583a",
   "metadata": {},
   "outputs": [
    {
     "data": {
      "image/png": "[encoded data removed]",
      "text/plain": [
       "<Figure size 1200x1000 with 1 Axes>"
      ]
     },
     "metadata": {},
     "output_type": "display_data"
    }
   ],
   "source": [
    "plt.figure(figsize=(12,10))\n",
    "ax = plt.gca()\n",
    "ax.plot(alpha_lasso, coefs_lasso)\n",
    "ax.set_xscale('log')\n",
    "plt.axis('tight')\n",
    "plt.xlabel('alpha')\n",
    "plt.ylabel('weights: scaled coefficients')\n",
    "plt.title('Lasso regression coefficients Vs. alpha')\n",
    "plt.legend(df.drop('price',axis=1, inplace=False).columns)\n",
    "\n",
    "plt.show()"
   ]
  },
  {
   "cell_type": "markdown",
   "id": "a8e6b045-8c03-4ffb-b9c3-df744fe36d29",
   "metadata": {},
   "source": [
    "# 3) Elastic Net regression coefficients vs alpha"
   ]
  },
  {
   "cell_type": "code",
   "execution_count": 78,
   "id": "e8e21808-28e6-49bb-81aa-8def09035c32",
   "metadata": {},
   "outputs": [],
   "source": [
    "alpha_elasticnet = 10**np.linspace(-3,2,100)"
   ]
  },
  {
   "cell_type": "code",
   "execution_count": 79,
   "id": "502e0829-b45d-4236-9488-50a8e495d5f2",
   "metadata": {},
   "outputs": [
    {
     "data": {
      "text/plain": [
       "(100, 10)"
      ]
     },
     "execution_count": 79,
     "metadata": {},
     "output_type": "execute_result"
    }
   ],
   "source": [
    "elasticnet = ElasticNet()\n",
    "coefs_elasticnet = []\n",
    "\n",
    "for i in alpha_elasticnet:\n",
    "    elasticnet.set_params(alpha = i)\n",
    "    elasticnet.fit(X_train, y_train)\n",
    "    coefs_elasticnet.append(elasticnet.coef_)\n",
    "    \n",
    "np.shape(coefs_elasticnet)"
   ]
  },
  {
   "cell_type": "code",
   "execution_count": 80,
   "id": "11a5fdba-cf98-4d02-82c2-1bf4f0bc0569",
   "metadata": {},
   "outputs": [
    {
     "data": {
      "image/png": "[encoded data removed]",
      "text/plain": [
       "<Figure size 1200x1000 with 1 Axes>"
      ]
     },
     "metadata": {},
     "output_type": "display_data"
    }
   ],
   "source": [
    "plt.figure(figsize=(12,10))\n",
    "ax = plt.gca()\n",
    "ax.plot(alpha_elasticnet, coefs_elasticnet)\n",
    "ax.set_xscale('log')\n",
    "plt.axis('tight')\n",
    "plt.xlabel('alpha')\n",
    "plt.ylabel('weights: scaled coefficients')\n",
    "plt.title('Elastic Net regression coefficients Vs. alpha')\n",
    "plt.legend(df.drop('price',axis=1, inplace=False).columns)\n",
    "\n",
    "plt.show()"
   ]
  },
  {
   "cell_type": "markdown",
   "id": "e31141ce-a611-4854-a68f-04836c786e53",
   "metadata": {},
   "source": [
    "# Cross Validation\n",
    "\n",
    "Let's use cross validation to find the optimal Lambdas (alphas) for different models. Training asamasinin hemen basinda yapmaliyiz bu kismi ve cikan alphalari penalized regressionlarin paramtresi olarak kullanmaliyiz."
   ]
  },
  {
   "cell_type": "markdown",
   "id": "9cd05c25-dd79-4fd2-9a40-201cd0f8e243",
   "metadata": {},
   "source": [
    "# 1) Optimal alpha for Ridge regression"
   ]
  },
  {
   "cell_type": "code",
   "execution_count": 82,
   "id": "6eee7bd4-3795-4aa9-abff-0dbc285cd921",
   "metadata": {},
   "outputs": [
    {
     "data": {
      "text/plain": [
       "0.1"
      ]
     },
     "execution_count": 82,
     "metadata": {},
     "output_type": "execute_result"
    }
   ],
   "source": [
    "ridgecv = RidgeCV()\n",
    "ridgecv.fit(X_train, y_train)\n",
    "ridgecv.alpha_"
   ]
  },
  {
   "cell_type": "code",
   "execution_count": 83,
   "id": "3f1f40ff-3e31-4075-ace6-780344fcf074",
   "metadata": {},
   "outputs": [],
   "source": [
    "alpha_ridge_opt = ridgecv.alpha_"
   ]
  },
  {
   "cell_type": "markdown",
   "id": "628bb385-43dc-497e-862c-cbfdd6fa1a4d",
   "metadata": {},
   "source": [
    "# 2) Optimal alpha for Lasso regression"
   ]
  },
  {
   "cell_type": "code",
   "execution_count": 85,
   "id": "2d6e0e14-cc82-43fd-8536-8fc7e8540a65",
   "metadata": {},
   "outputs": [
    {
     "data": {
      "text/plain": [
       "0.0007404280761639708"
      ]
     },
     "execution_count": 85,
     "metadata": {},
     "output_type": "execute_result"
    }
   ],
   "source": [
    "lassocv = LassoCV()\n",
    "lassocv.fit(X_train, y_train)\n",
    "lassocv.alpha_"
   ]
  },
  {
   "cell_type": "code",
   "execution_count": 86,
   "id": "faa0627e-ab52-43b2-adda-4020d328ac43",
   "metadata": {},
   "outputs": [],
   "source": [
    "alpha_lasso_opt = lassocv.alpha_"
   ]
  },
  {
   "cell_type": "markdown",
   "id": "e6b02a91-58fd-4921-9063-6d9b7c4f7d02",
   "metadata": {},
   "source": [
    "# 3) Optimal alpha for Elastic Net regression"
   ]
  },
  {
   "cell_type": "code",
   "execution_count": 87,
   "id": "d8d6ac81-5d5a-49bb-b87d-7bb9ba4709c4",
   "metadata": {},
   "outputs": [
    {
     "data": {
      "text/plain": [
       "0.0014808561523279417"
      ]
     },
     "execution_count": 87,
     "metadata": {},
     "output_type": "execute_result"
    }
   ],
   "source": [
    "elasticnetcv = ElasticNetCV()\n",
    "elasticnetcv.fit(X_train, y_train)\n",
    "elasticnetcv.alpha_"
   ]
  },
  {
   "cell_type": "code",
   "execution_count": 88,
   "id": "d86a51f1-d5af-4dbf-9036-1a70d929b4c6",
   "metadata": {},
   "outputs": [
    {
     "data": {
      "text/plain": [
       "0.5"
      ]
     },
     "execution_count": 88,
     "metadata": {},
     "output_type": "execute_result"
    }
   ],
   "source": [
    "elasticnetcv.l1_ratio_"
   ]
  },
  {
   "cell_type": "code",
   "execution_count": 89,
   "id": "a9ce7a87-e78a-4093-a8fd-11dab63c6272",
   "metadata": {},
   "outputs": [],
   "source": [
    "alpha_elasticnet_opt = elasticnetcv.alpha_"
   ]
  },
  {
   "cell_type": "code",
   "execution_count": null,
   "id": "253f3475-505f-4737-9d5a-87f3ffdcaf21",
   "metadata": {},
   "outputs": [],
   "source": []
  }
 ],
 "metadata": {
  "kernelspec": {
   "display_name": "Python 3 (ipykernel)",
   "language": "python",
   "name": "python3"
  },
  "language_info": {
   "codemirror_mode": {
    "name": "ipython",
    "version": 3
   },
   "file_extension": ".py",
   "mimetype": "text/x-python",
   "name": "python",
   "nbconvert_exporter": "python",
   "pygments_lexer": "ipython3",
   "version": "3.9.12"
  }
 },
 "nbformat": 4,
 "nbformat_minor": 5
}
