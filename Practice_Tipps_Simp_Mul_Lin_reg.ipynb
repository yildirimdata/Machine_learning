{
 "cells": [
  {
   "cell_type": "markdown",
   "id": "0d2746c3-9227-4112-9418-ded1572ae732",
   "metadata": {},
   "source": [
    "# LINEAR REGRESSION PRACTICE: Tips Dataset from Seaborn\n",
    "\n",
    "In this notebook, Ttipps dataset from the seaborn library will be analysed in terms of simple and multiple linear regression algortihms.\n",
    "\n",
    "First, a simple linear reg analysis will be performed to see the relatioship between total bill (independent variable, feature, X, input, explanatory variable) and tip amount (dependent variable, label, target, y, output, response variable).\n",
    "\n",
    "And then a multiple linear regression will be performed between the independent variables of total bill and size and dependent variable tip.\n",
    "\n",
    "Linear regression functions from the sklearn library.\n",
    "\n",
    "Evaluation metrics such as R2, Mean absolute error, mean squared error and root mean squared error will be performed to evaluate the errors (residulas) and difference between the real values and predicted values through the model.\n",
    "\n"
   ]
  },
  {
   "cell_type": "code",
   "execution_count": 1,
   "id": "a35f3106-dede-4841-a677-fc2619c0b47e",
   "metadata": {},
   "outputs": [],
   "source": [
    "import numpy as np\n",
    "import pandas as pd\n",
    "import matplotlib.pyplot as plt\n",
    "import seaborn as sns\n",
    "%matplotlib inline\n",
    "\n",
    "import scipy.stats as stats\n",
    "plt.rcParams[\"figure.figsize\"] = (7,4)\n",
    "import warnings\n",
    "warnings.filterwarnings('ignore')"
   ]
  },
  {
   "cell_type": "code",
   "execution_count": 8,
   "id": "b2308b79-1f64-431a-b43b-64ff2b71f1d1",
   "metadata": {},
   "outputs": [
    {
     "data": {
      "text/html": [
       "<div>\n",
       "<style scoped>\n",
       "    .dataframe tbody tr th:only-of-type {\n",
       "        vertical-align: middle;\n",
       "    }\n",
       "\n",
       "    .dataframe tbody tr th {\n",
       "        vertical-align: top;\n",
       "    }\n",
       "\n",
       "    .dataframe thead th {\n",
       "        text-align: right;\n",
       "    }\n",
       "</style>\n",
       "<table border=\"1\" class=\"dataframe\">\n",
       "  <thead>\n",
       "    <tr style=\"text-align: right;\">\n",
       "      <th></th>\n",
       "      <th>total_bill</th>\n",
       "      <th>tip</th>\n",
       "      <th>sex</th>\n",
       "      <th>smoker</th>\n",
       "      <th>day</th>\n",
       "      <th>time</th>\n",
       "      <th>size</th>\n",
       "    </tr>\n",
       "  </thead>\n",
       "  <tbody>\n",
       "    <tr>\n",
       "      <th>0</th>\n",
       "      <td>16.99</td>\n",
       "      <td>1.01</td>\n",
       "      <td>Female</td>\n",
       "      <td>No</td>\n",
       "      <td>Sun</td>\n",
       "      <td>Dinner</td>\n",
       "      <td>2</td>\n",
       "    </tr>\n",
       "    <tr>\n",
       "      <th>1</th>\n",
       "      <td>10.34</td>\n",
       "      <td>1.66</td>\n",
       "      <td>Male</td>\n",
       "      <td>No</td>\n",
       "      <td>Sun</td>\n",
       "      <td>Dinner</td>\n",
       "      <td>3</td>\n",
       "    </tr>\n",
       "    <tr>\n",
       "      <th>2</th>\n",
       "      <td>21.01</td>\n",
       "      <td>3.50</td>\n",
       "      <td>Male</td>\n",
       "      <td>No</td>\n",
       "      <td>Sun</td>\n",
       "      <td>Dinner</td>\n",
       "      <td>3</td>\n",
       "    </tr>\n",
       "    <tr>\n",
       "      <th>3</th>\n",
       "      <td>23.68</td>\n",
       "      <td>3.31</td>\n",
       "      <td>Male</td>\n",
       "      <td>No</td>\n",
       "      <td>Sun</td>\n",
       "      <td>Dinner</td>\n",
       "      <td>2</td>\n",
       "    </tr>\n",
       "    <tr>\n",
       "      <th>4</th>\n",
       "      <td>24.59</td>\n",
       "      <td>3.61</td>\n",
       "      <td>Female</td>\n",
       "      <td>No</td>\n",
       "      <td>Sun</td>\n",
       "      <td>Dinner</td>\n",
       "      <td>4</td>\n",
       "    </tr>\n",
       "    <tr>\n",
       "      <th>...</th>\n",
       "      <td>...</td>\n",
       "      <td>...</td>\n",
       "      <td>...</td>\n",
       "      <td>...</td>\n",
       "      <td>...</td>\n",
       "      <td>...</td>\n",
       "      <td>...</td>\n",
       "    </tr>\n",
       "    <tr>\n",
       "      <th>239</th>\n",
       "      <td>29.03</td>\n",
       "      <td>5.92</td>\n",
       "      <td>Male</td>\n",
       "      <td>No</td>\n",
       "      <td>Sat</td>\n",
       "      <td>Dinner</td>\n",
       "      <td>3</td>\n",
       "    </tr>\n",
       "    <tr>\n",
       "      <th>240</th>\n",
       "      <td>27.18</td>\n",
       "      <td>2.00</td>\n",
       "      <td>Female</td>\n",
       "      <td>Yes</td>\n",
       "      <td>Sat</td>\n",
       "      <td>Dinner</td>\n",
       "      <td>2</td>\n",
       "    </tr>\n",
       "    <tr>\n",
       "      <th>241</th>\n",
       "      <td>22.67</td>\n",
       "      <td>2.00</td>\n",
       "      <td>Male</td>\n",
       "      <td>Yes</td>\n",
       "      <td>Sat</td>\n",
       "      <td>Dinner</td>\n",
       "      <td>2</td>\n",
       "    </tr>\n",
       "    <tr>\n",
       "      <th>242</th>\n",
       "      <td>17.82</td>\n",
       "      <td>1.75</td>\n",
       "      <td>Male</td>\n",
       "      <td>No</td>\n",
       "      <td>Sat</td>\n",
       "      <td>Dinner</td>\n",
       "      <td>2</td>\n",
       "    </tr>\n",
       "    <tr>\n",
       "      <th>243</th>\n",
       "      <td>18.78</td>\n",
       "      <td>3.00</td>\n",
       "      <td>Female</td>\n",
       "      <td>No</td>\n",
       "      <td>Thur</td>\n",
       "      <td>Dinner</td>\n",
       "      <td>2</td>\n",
       "    </tr>\n",
       "  </tbody>\n",
       "</table>\n",
       "<p>244 rows × 7 columns</p>\n",
       "</div>"
      ],
      "text/plain": [
       "     total_bill   tip     sex smoker   day    time  size\n",
       "0         16.99  1.01  Female     No   Sun  Dinner     2\n",
       "1         10.34  1.66    Male     No   Sun  Dinner     3\n",
       "2         21.01  3.50    Male     No   Sun  Dinner     3\n",
       "3         23.68  3.31    Male     No   Sun  Dinner     2\n",
       "4         24.59  3.61  Female     No   Sun  Dinner     4\n",
       "..          ...   ...     ...    ...   ...     ...   ...\n",
       "239       29.03  5.92    Male     No   Sat  Dinner     3\n",
       "240       27.18  2.00  Female    Yes   Sat  Dinner     2\n",
       "241       22.67  2.00    Male    Yes   Sat  Dinner     2\n",
       "242       17.82  1.75    Male     No   Sat  Dinner     2\n",
       "243       18.78  3.00  Female     No  Thur  Dinner     2\n",
       "\n",
       "[244 rows x 7 columns]"
      ]
     },
     "execution_count": 8,
     "metadata": {},
     "output_type": "execute_result"
    }
   ],
   "source": [
    "df = sns.load_dataset(\"tips\")\n",
    "df"
   ]
  },
  {
   "cell_type": "code",
   "execution_count": 9,
   "id": "e5148089-2f52-49a5-a7d3-999daa7e847c",
   "metadata": {},
   "outputs": [
    {
     "data": {
      "text/html": [
       "<div>\n",
       "<style scoped>\n",
       "    .dataframe tbody tr th:only-of-type {\n",
       "        vertical-align: middle;\n",
       "    }\n",
       "\n",
       "    .dataframe tbody tr th {\n",
       "        vertical-align: top;\n",
       "    }\n",
       "\n",
       "    .dataframe thead th {\n",
       "        text-align: right;\n",
       "    }\n",
       "</style>\n",
       "<table border=\"1\" class=\"dataframe\">\n",
       "  <thead>\n",
       "    <tr style=\"text-align: right;\">\n",
       "      <th></th>\n",
       "      <th>total_bill</th>\n",
       "      <th>tip</th>\n",
       "      <th>size</th>\n",
       "    </tr>\n",
       "  </thead>\n",
       "  <tbody>\n",
       "    <tr>\n",
       "      <th>0</th>\n",
       "      <td>16.99</td>\n",
       "      <td>1.01</td>\n",
       "      <td>2</td>\n",
       "    </tr>\n",
       "    <tr>\n",
       "      <th>1</th>\n",
       "      <td>10.34</td>\n",
       "      <td>1.66</td>\n",
       "      <td>3</td>\n",
       "    </tr>\n",
       "    <tr>\n",
       "      <th>2</th>\n",
       "      <td>21.01</td>\n",
       "      <td>3.50</td>\n",
       "      <td>3</td>\n",
       "    </tr>\n",
       "    <tr>\n",
       "      <th>3</th>\n",
       "      <td>23.68</td>\n",
       "      <td>3.31</td>\n",
       "      <td>2</td>\n",
       "    </tr>\n",
       "    <tr>\n",
       "      <th>4</th>\n",
       "      <td>24.59</td>\n",
       "      <td>3.61</td>\n",
       "      <td>4</td>\n",
       "    </tr>\n",
       "    <tr>\n",
       "      <th>...</th>\n",
       "      <td>...</td>\n",
       "      <td>...</td>\n",
       "      <td>...</td>\n",
       "    </tr>\n",
       "    <tr>\n",
       "      <th>239</th>\n",
       "      <td>29.03</td>\n",
       "      <td>5.92</td>\n",
       "      <td>3</td>\n",
       "    </tr>\n",
       "    <tr>\n",
       "      <th>240</th>\n",
       "      <td>27.18</td>\n",
       "      <td>2.00</td>\n",
       "      <td>2</td>\n",
       "    </tr>\n",
       "    <tr>\n",
       "      <th>241</th>\n",
       "      <td>22.67</td>\n",
       "      <td>2.00</td>\n",
       "      <td>2</td>\n",
       "    </tr>\n",
       "    <tr>\n",
       "      <th>242</th>\n",
       "      <td>17.82</td>\n",
       "      <td>1.75</td>\n",
       "      <td>2</td>\n",
       "    </tr>\n",
       "    <tr>\n",
       "      <th>243</th>\n",
       "      <td>18.78</td>\n",
       "      <td>3.00</td>\n",
       "      <td>2</td>\n",
       "    </tr>\n",
       "  </tbody>\n",
       "</table>\n",
       "<p>244 rows × 3 columns</p>\n",
       "</div>"
      ],
      "text/plain": [
       "     total_bill   tip  size\n",
       "0         16.99  1.01     2\n",
       "1         10.34  1.66     3\n",
       "2         21.01  3.50     3\n",
       "3         23.68  3.31     2\n",
       "4         24.59  3.61     4\n",
       "..          ...   ...   ...\n",
       "239       29.03  5.92     3\n",
       "240       27.18  2.00     2\n",
       "241       22.67  2.00     2\n",
       "242       17.82  1.75     2\n",
       "243       18.78  3.00     2\n",
       "\n",
       "[244 rows x 3 columns]"
      ]
     },
     "execution_count": 9,
     "metadata": {},
     "output_type": "execute_result"
    }
   ],
   "source": [
    "# filter the data to the numerical features\n",
    "df = df.select_dtypes(include = \"number\")\n",
    "df "
   ]
  },
  {
   "cell_type": "code",
   "execution_count": 11,
   "id": "249e2642-8858-44b0-affb-77e07ede7b3a",
   "metadata": {},
   "outputs": [
    {
     "data": {
      "text/html": [
       "<div>\n",
       "<style scoped>\n",
       "    .dataframe tbody tr th:only-of-type {\n",
       "        vertical-align: middle;\n",
       "    }\n",
       "\n",
       "    .dataframe tbody tr th {\n",
       "        vertical-align: top;\n",
       "    }\n",
       "\n",
       "    .dataframe thead th {\n",
       "        text-align: right;\n",
       "    }\n",
       "</style>\n",
       "<table border=\"1\" class=\"dataframe\">\n",
       "  <thead>\n",
       "    <tr style=\"text-align: right;\">\n",
       "      <th></th>\n",
       "      <th>total_bill</th>\n",
       "      <th>size</th>\n",
       "      <th>tip</th>\n",
       "    </tr>\n",
       "  </thead>\n",
       "  <tbody>\n",
       "    <tr>\n",
       "      <th>0</th>\n",
       "      <td>16.99</td>\n",
       "      <td>2</td>\n",
       "      <td>1.01</td>\n",
       "    </tr>\n",
       "    <tr>\n",
       "      <th>1</th>\n",
       "      <td>10.34</td>\n",
       "      <td>3</td>\n",
       "      <td>1.66</td>\n",
       "    </tr>\n",
       "    <tr>\n",
       "      <th>2</th>\n",
       "      <td>21.01</td>\n",
       "      <td>3</td>\n",
       "      <td>3.50</td>\n",
       "    </tr>\n",
       "    <tr>\n",
       "      <th>3</th>\n",
       "      <td>23.68</td>\n",
       "      <td>2</td>\n",
       "      <td>3.31</td>\n",
       "    </tr>\n",
       "    <tr>\n",
       "      <th>4</th>\n",
       "      <td>24.59</td>\n",
       "      <td>4</td>\n",
       "      <td>3.61</td>\n",
       "    </tr>\n",
       "    <tr>\n",
       "      <th>...</th>\n",
       "      <td>...</td>\n",
       "      <td>...</td>\n",
       "      <td>...</td>\n",
       "    </tr>\n",
       "    <tr>\n",
       "      <th>239</th>\n",
       "      <td>29.03</td>\n",
       "      <td>3</td>\n",
       "      <td>5.92</td>\n",
       "    </tr>\n",
       "    <tr>\n",
       "      <th>240</th>\n",
       "      <td>27.18</td>\n",
       "      <td>2</td>\n",
       "      <td>2.00</td>\n",
       "    </tr>\n",
       "    <tr>\n",
       "      <th>241</th>\n",
       "      <td>22.67</td>\n",
       "      <td>2</td>\n",
       "      <td>2.00</td>\n",
       "    </tr>\n",
       "    <tr>\n",
       "      <th>242</th>\n",
       "      <td>17.82</td>\n",
       "      <td>2</td>\n",
       "      <td>1.75</td>\n",
       "    </tr>\n",
       "    <tr>\n",
       "      <th>243</th>\n",
       "      <td>18.78</td>\n",
       "      <td>2</td>\n",
       "      <td>3.00</td>\n",
       "    </tr>\n",
       "  </tbody>\n",
       "</table>\n",
       "<p>244 rows × 3 columns</p>\n",
       "</div>"
      ],
      "text/plain": [
       "     total_bill  size   tip\n",
       "0         16.99     2  1.01\n",
       "1         10.34     3  1.66\n",
       "2         21.01     3  3.50\n",
       "3         23.68     2  3.31\n",
       "4         24.59     4  3.61\n",
       "..          ...   ...   ...\n",
       "239       29.03     3  5.92\n",
       "240       27.18     2  2.00\n",
       "241       22.67     2  2.00\n",
       "242       17.82     2  1.75\n",
       "243       18.78     2  3.00\n",
       "\n",
       "[244 rows x 3 columns]"
      ]
     },
     "execution_count": 11,
     "metadata": {},
     "output_type": "execute_result"
    }
   ],
   "source": [
    "# take the dep variable (label-target-y) tip to the end\n",
    "df = df.iloc[:, [0,2,1]]\n",
    "df "
   ]
  },
  {
   "cell_type": "markdown",
   "id": "45a553f3-bc76-4f31-bc47-6595bbbc0c14",
   "metadata": {},
   "source": [
    "**Distribution of features**"
   ]
  },
  {
   "cell_type": "code",
   "execution_count": 50,
   "id": "1e53f0f6-c79b-44c8-a7a5-dd80617618e6",
   "metadata": {},
   "outputs": [
    {
     "data": {
      "text/plain": [
       "<seaborn.axisgrid.PairGrid at 0x7fe35c6e1400>"
      ]
     },
     "execution_count": 50,
     "metadata": {},
     "output_type": "execute_result"
    },
    {
     "data": {
      "image/png": "[encoded data removed]",
      "text/plain": [
       "<Figure size 540x540 with 9 Axes>"
      ]
     },
     "metadata": {
      "needs_background": "light"
     },
     "output_type": "display_data"
    }
   ],
   "source": [
    "sns.pairplot(df, kind = \"reg\", corner=True)"
   ]
  },
  {
   "cell_type": "code",
   "execution_count": null,
   "id": "0f37eb8e-5c49-47b7-92c7-36d0b99dcd56",
   "metadata": {},
   "outputs": [],
   "source": [
    "# In fact, size is a categorical variable. However, I'll continue with it to perform a multilinear regression algorith after a simple reg an."
   ]
  },
  {
   "cell_type": "markdown",
   "id": "2a850cc0-3ee3-4f68-8bc5-e2165bd7cbf9",
   "metadata": {},
   "source": [
    "**# general insights and main statistics from the data**"
   ]
  },
  {
   "cell_type": "code",
   "execution_count": 12,
   "id": "1f47cd66-680b-4168-8e4d-148d6ceba9d4",
   "metadata": {},
   "outputs": [
    {
     "name": "stdout",
     "output_type": "stream",
     "text": [
      "<class 'pandas.core.frame.DataFrame'>\n",
      "RangeIndex: 244 entries, 0 to 243\n",
      "Data columns (total 3 columns):\n",
      " #   Column      Non-Null Count  Dtype  \n",
      "---  ------      --------------  -----  \n",
      " 0   total_bill  244 non-null    float64\n",
      " 1   size        244 non-null    int64  \n",
      " 2   tip         244 non-null    float64\n",
      "dtypes: float64(2), int64(1)\n",
      "memory usage: 5.8 KB\n"
     ]
    }
   ],
   "source": [
    "\n",
    "df.info()"
   ]
  },
  {
   "cell_type": "code",
   "execution_count": 14,
   "id": "df8d5ace-ab30-4df5-bdcf-839c748313af",
   "metadata": {},
   "outputs": [
    {
     "name": "stdout",
     "output_type": "stream",
     "text": [
      "<class 'pandas.core.frame.DataFrame'>\n",
      "RangeIndex: 244 entries, 0 to 243\n",
      "Data columns (total 3 columns):\n",
      " #   Column      Non-Null Count  Dtype  \n",
      "---  ------      --------------  -----  \n",
      " 0   total_bill  244 non-null    float64\n",
      " 1   size        244 non-null    float64\n",
      " 2   tip         244 non-null    float64\n",
      "dtypes: float64(3)\n",
      "memory usage: 5.8 KB\n"
     ]
    }
   ],
   "source": [
    "df = df.astype(\"float\")\n",
    "df.info()"
   ]
  },
  {
   "cell_type": "code",
   "execution_count": 15,
   "id": "277acf62-fdbf-490e-acc7-dee4baaba997",
   "metadata": {},
   "outputs": [
    {
     "data": {
      "text/plain": [
       "(244, 3)"
      ]
     },
     "execution_count": 15,
     "metadata": {},
     "output_type": "execute_result"
    }
   ],
   "source": [
    "df.shape"
   ]
  },
  {
   "cell_type": "code",
   "execution_count": 16,
   "id": "dfe6a462-c415-4e41-b5df-d12be638b860",
   "metadata": {},
   "outputs": [
    {
     "data": {
      "text/html": [
       "<div>\n",
       "<style scoped>\n",
       "    .dataframe tbody tr th:only-of-type {\n",
       "        vertical-align: middle;\n",
       "    }\n",
       "\n",
       "    .dataframe tbody tr th {\n",
       "        vertical-align: top;\n",
       "    }\n",
       "\n",
       "    .dataframe thead th {\n",
       "        text-align: right;\n",
       "    }\n",
       "</style>\n",
       "<table border=\"1\" class=\"dataframe\">\n",
       "  <thead>\n",
       "    <tr style=\"text-align: right;\">\n",
       "      <th></th>\n",
       "      <th>total_bill</th>\n",
       "      <th>size</th>\n",
       "      <th>tip</th>\n",
       "    </tr>\n",
       "  </thead>\n",
       "  <tbody>\n",
       "    <tr>\n",
       "      <th>count</th>\n",
       "      <td>244.000000</td>\n",
       "      <td>244.000000</td>\n",
       "      <td>244.000000</td>\n",
       "    </tr>\n",
       "    <tr>\n",
       "      <th>mean</th>\n",
       "      <td>19.785943</td>\n",
       "      <td>2.569672</td>\n",
       "      <td>2.998279</td>\n",
       "    </tr>\n",
       "    <tr>\n",
       "      <th>std</th>\n",
       "      <td>8.902412</td>\n",
       "      <td>0.951100</td>\n",
       "      <td>1.383638</td>\n",
       "    </tr>\n",
       "    <tr>\n",
       "      <th>min</th>\n",
       "      <td>3.070000</td>\n",
       "      <td>1.000000</td>\n",
       "      <td>1.000000</td>\n",
       "    </tr>\n",
       "    <tr>\n",
       "      <th>25%</th>\n",
       "      <td>13.347500</td>\n",
       "      <td>2.000000</td>\n",
       "      <td>2.000000</td>\n",
       "    </tr>\n",
       "    <tr>\n",
       "      <th>50%</th>\n",
       "      <td>17.795000</td>\n",
       "      <td>2.000000</td>\n",
       "      <td>2.900000</td>\n",
       "    </tr>\n",
       "    <tr>\n",
       "      <th>75%</th>\n",
       "      <td>24.127500</td>\n",
       "      <td>3.000000</td>\n",
       "      <td>3.562500</td>\n",
       "    </tr>\n",
       "    <tr>\n",
       "      <th>max</th>\n",
       "      <td>50.810000</td>\n",
       "      <td>6.000000</td>\n",
       "      <td>10.000000</td>\n",
       "    </tr>\n",
       "  </tbody>\n",
       "</table>\n",
       "</div>"
      ],
      "text/plain": [
       "       total_bill        size         tip\n",
       "count  244.000000  244.000000  244.000000\n",
       "mean    19.785943    2.569672    2.998279\n",
       "std      8.902412    0.951100    1.383638\n",
       "min      3.070000    1.000000    1.000000\n",
       "25%     13.347500    2.000000    2.000000\n",
       "50%     17.795000    2.000000    2.900000\n",
       "75%     24.127500    3.000000    3.562500\n",
       "max     50.810000    6.000000   10.000000"
      ]
     },
     "execution_count": 16,
     "metadata": {},
     "output_type": "execute_result"
    }
   ],
   "source": [
    "df.describe()"
   ]
  },
  {
   "cell_type": "code",
   "execution_count": 25,
   "id": "09f76751-67b9-46dd-aa4f-b0cdcc7fbd43",
   "metadata": {},
   "outputs": [
    {
     "data": {
      "image/png": "[encoded data removed]",
      "text/plain": [
       "<Figure size 1440x720 with 3 Axes>"
      ]
     },
     "metadata": {
      "needs_background": "light"
     },
     "output_type": "display_data"
    }
   ],
   "source": [
    "# boxplots and outlier check\n",
    "\n",
    "index = 0\n",
    "plt.figure(figsize=(20, 10))\n",
    "\n",
    "for feature in df.select_dtypes('number').columns:\n",
    "    index += 1\n",
    "    plt.subplot(1, 3, index)\n",
    "    sns.boxplot(x=feature, \n",
    "                data=df, \n",
    "                whis=1.5,\n",
    "                showmeans=True,\n",
    "                meanprops={\"marker\":\"o\",\n",
    "                           \"markerfacecolor\":\"white\", \n",
    "                           \"markeredgecolor\":\"black\",\n",
    "                           \"markersize\":\"10\"})"
   ]
  },
  {
   "cell_type": "code",
   "execution_count": 29,
   "id": "a8d9d9ba-b0b2-4af2-9a42-4d7e56f957d4",
   "metadata": {},
   "outputs": [
    {
     "data": {
      "text/plain": [
       "95     40.17\n",
       "184    40.55\n",
       "142    41.19\n",
       "197    43.11\n",
       "102    44.30\n",
       "182    45.35\n",
       "156    48.17\n",
       "59     48.27\n",
       "212    48.33\n",
       "170    50.81\n",
       "Name: total_bill, dtype: float64"
      ]
     },
     "execution_count": 29,
     "metadata": {},
     "output_type": "execute_result"
    }
   ],
   "source": [
    "df.total_bill.sort_values().tail(10)"
   ]
  },
  {
   "cell_type": "code",
   "execution_count": 30,
   "id": "49017b29-6262-4851-8e26-b4dba8e8182b",
   "metadata": {},
   "outputs": [
    {
     "data": {
      "text/html": [
       "<div>\n",
       "<style scoped>\n",
       "    .dataframe tbody tr th:only-of-type {\n",
       "        vertical-align: middle;\n",
       "    }\n",
       "\n",
       "    .dataframe tbody tr th {\n",
       "        vertical-align: top;\n",
       "    }\n",
       "\n",
       "    .dataframe thead th {\n",
       "        text-align: right;\n",
       "    }\n",
       "</style>\n",
       "<table border=\"1\" class=\"dataframe\">\n",
       "  <thead>\n",
       "    <tr style=\"text-align: right;\">\n",
       "      <th></th>\n",
       "      <th>total_bill</th>\n",
       "      <th>size</th>\n",
       "      <th>tip</th>\n",
       "    </tr>\n",
       "  </thead>\n",
       "  <tbody>\n",
       "    <tr>\n",
       "      <th>95</th>\n",
       "      <td>40.17</td>\n",
       "      <td>4.0</td>\n",
       "      <td>4.73</td>\n",
       "    </tr>\n",
       "    <tr>\n",
       "      <th>184</th>\n",
       "      <td>40.55</td>\n",
       "      <td>2.0</td>\n",
       "      <td>3.00</td>\n",
       "    </tr>\n",
       "    <tr>\n",
       "      <th>142</th>\n",
       "      <td>41.19</td>\n",
       "      <td>5.0</td>\n",
       "      <td>5.00</td>\n",
       "    </tr>\n",
       "    <tr>\n",
       "      <th>197</th>\n",
       "      <td>43.11</td>\n",
       "      <td>4.0</td>\n",
       "      <td>5.00</td>\n",
       "    </tr>\n",
       "    <tr>\n",
       "      <th>102</th>\n",
       "      <td>44.30</td>\n",
       "      <td>3.0</td>\n",
       "      <td>2.50</td>\n",
       "    </tr>\n",
       "    <tr>\n",
       "      <th>182</th>\n",
       "      <td>45.35</td>\n",
       "      <td>3.0</td>\n",
       "      <td>3.50</td>\n",
       "    </tr>\n",
       "    <tr>\n",
       "      <th>156</th>\n",
       "      <td>48.17</td>\n",
       "      <td>6.0</td>\n",
       "      <td>5.00</td>\n",
       "    </tr>\n",
       "    <tr>\n",
       "      <th>59</th>\n",
       "      <td>48.27</td>\n",
       "      <td>4.0</td>\n",
       "      <td>6.73</td>\n",
       "    </tr>\n",
       "    <tr>\n",
       "      <th>212</th>\n",
       "      <td>48.33</td>\n",
       "      <td>4.0</td>\n",
       "      <td>9.00</td>\n",
       "    </tr>\n",
       "    <tr>\n",
       "      <th>170</th>\n",
       "      <td>50.81</td>\n",
       "      <td>3.0</td>\n",
       "      <td>10.00</td>\n",
       "    </tr>\n",
       "  </tbody>\n",
       "</table>\n",
       "</div>"
      ],
      "text/plain": [
       "     total_bill  size    tip\n",
       "95        40.17   4.0   4.73\n",
       "184       40.55   2.0   3.00\n",
       "142       41.19   5.0   5.00\n",
       "197       43.11   4.0   5.00\n",
       "102       44.30   3.0   2.50\n",
       "182       45.35   3.0   3.50\n",
       "156       48.17   6.0   5.00\n",
       "59        48.27   4.0   6.73\n",
       "212       48.33   4.0   9.00\n",
       "170       50.81   3.0  10.00"
      ]
     },
     "execution_count": 30,
     "metadata": {},
     "output_type": "execute_result"
    }
   ],
   "source": [
    "df.sort_values(\"total_bill\").tail(10)\n",
    "# compared to the overall patterns in the data, the last 2 observations appear as outlier. "
   ]
  },
  {
   "cell_type": "code",
   "execution_count": 31,
   "id": "f29b35e6-9d0c-4320-a2ab-ce3dd6d6f0b6",
   "metadata": {},
   "outputs": [],
   "source": [
    "df.drop([212,170], inplace=True)"
   ]
  },
  {
   "cell_type": "code",
   "execution_count": 32,
   "id": "32312d00-2b39-4143-bb30-e200837d06a5",
   "metadata": {},
   "outputs": [
    {
     "data": {
      "text/html": [
       "<div>\n",
       "<style scoped>\n",
       "    .dataframe tbody tr th:only-of-type {\n",
       "        vertical-align: middle;\n",
       "    }\n",
       "\n",
       "    .dataframe tbody tr th {\n",
       "        vertical-align: top;\n",
       "    }\n",
       "\n",
       "    .dataframe thead th {\n",
       "        text-align: right;\n",
       "    }\n",
       "</style>\n",
       "<table border=\"1\" class=\"dataframe\">\n",
       "  <thead>\n",
       "    <tr style=\"text-align: right;\">\n",
       "      <th></th>\n",
       "      <th>total_bill</th>\n",
       "      <th>size</th>\n",
       "      <th>tip</th>\n",
       "    </tr>\n",
       "  </thead>\n",
       "  <tbody>\n",
       "    <tr>\n",
       "      <th>197</th>\n",
       "      <td>43.11</td>\n",
       "      <td>4.0</td>\n",
       "      <td>5.00</td>\n",
       "    </tr>\n",
       "    <tr>\n",
       "      <th>102</th>\n",
       "      <td>44.30</td>\n",
       "      <td>3.0</td>\n",
       "      <td>2.50</td>\n",
       "    </tr>\n",
       "    <tr>\n",
       "      <th>182</th>\n",
       "      <td>45.35</td>\n",
       "      <td>3.0</td>\n",
       "      <td>3.50</td>\n",
       "    </tr>\n",
       "    <tr>\n",
       "      <th>156</th>\n",
       "      <td>48.17</td>\n",
       "      <td>6.0</td>\n",
       "      <td>5.00</td>\n",
       "    </tr>\n",
       "    <tr>\n",
       "      <th>59</th>\n",
       "      <td>48.27</td>\n",
       "      <td>4.0</td>\n",
       "      <td>6.73</td>\n",
       "    </tr>\n",
       "  </tbody>\n",
       "</table>\n",
       "</div>"
      ],
      "text/plain": [
       "     total_bill  size   tip\n",
       "197       43.11   4.0  5.00\n",
       "102       44.30   3.0  2.50\n",
       "182       45.35   3.0  3.50\n",
       "156       48.17   6.0  5.00\n",
       "59        48.27   4.0  6.73"
      ]
     },
     "execution_count": 32,
     "metadata": {},
     "output_type": "execute_result"
    }
   ],
   "source": [
    "df.sort_values(\"total_bill\").tail(5)"
   ]
  },
  {
   "cell_type": "code",
   "execution_count": 33,
   "id": "4c20c111-e9e2-433a-a349-20932933db14",
   "metadata": {},
   "outputs": [
    {
     "data": {
      "image/png": "[encoded data removed]",
      "text/plain": [
       "<Figure size 1440x720 with 3 Axes>"
      ]
     },
     "metadata": {
      "needs_background": "light"
     },
     "output_type": "display_data"
    }
   ],
   "source": [
    "# boxplots and outlier check after handling outliers\n",
    "\n",
    "index = 0\n",
    "plt.figure(figsize=(20, 10))\n",
    "\n",
    "for feature in df.select_dtypes('number').columns:\n",
    "    index += 1\n",
    "    plt.subplot(1, 3, index)\n",
    "    sns.boxplot(x=feature, \n",
    "                data=df, \n",
    "                whis=1.5,\n",
    "                showmeans=True,\n",
    "                meanprops={\"marker\":\"o\",\n",
    "                           \"markerfacecolor\":\"white\", \n",
    "                           \"markeredgecolor\":\"black\",\n",
    "                           \"markersize\":\"10\"})"
   ]
  },
  {
   "cell_type": "code",
   "execution_count": 44,
   "id": "1d959cb1-fe73-4cdb-b0e5-0833e2d04a83",
   "metadata": {},
   "outputs": [
    {
     "data": {
      "image/png": "[encoded data removed]",
      "text/plain": [
       "<Figure size 504x288 with 1 Axes>"
      ]
     },
     "metadata": {
      "needs_background": "light"
     },
     "output_type": "display_data"
    }
   ],
   "source": [
    "# check with histplot\n",
    "ax = sns.histplot(df.total_bill, bins=50, kde=True)\n",
    "ax.lines[0].set_color('crimson')\n",
    "# right skewed"
   ]
  },
  {
   "cell_type": "code",
   "execution_count": 45,
   "id": "fa7e61fe-fc10-4da4-a8fb-d1455415eb8a",
   "metadata": {},
   "outputs": [
    {
     "data": {
      "image/png": "[encoded data removed]",
      "text/plain": [
       "<Figure size 504x288 with 1 Axes>"
      ]
     },
     "metadata": {
      "needs_background": "light"
     },
     "output_type": "display_data"
    }
   ],
   "source": [
    "ax = sns.histplot(df.tip, bins=50, kde=True)\n",
    "ax.lines[0].set_color('crimson')\n",
    "# right skewed, but outliers above upper limit are valid data points"
   ]
  },
  {
   "cell_type": "markdown",
   "id": "36c6fd7d-d4ed-4218-ae35-5fb07229a1b8",
   "metadata": {},
   "source": [
    "**Correlation between the features and heatmap**"
   ]
  },
  {
   "cell_type": "code",
   "execution_count": 34,
   "id": "799855bb-9bcc-473e-924b-f509602812a7",
   "metadata": {},
   "outputs": [
    {
     "data": {
      "text/html": [
       "<div>\n",
       "<style scoped>\n",
       "    .dataframe tbody tr th:only-of-type {\n",
       "        vertical-align: middle;\n",
       "    }\n",
       "\n",
       "    .dataframe tbody tr th {\n",
       "        vertical-align: top;\n",
       "    }\n",
       "\n",
       "    .dataframe thead th {\n",
       "        text-align: right;\n",
       "    }\n",
       "</style>\n",
       "<table border=\"1\" class=\"dataframe\">\n",
       "  <thead>\n",
       "    <tr style=\"text-align: right;\">\n",
       "      <th></th>\n",
       "      <th>total_bill</th>\n",
       "      <th>size</th>\n",
       "      <th>tip</th>\n",
       "    </tr>\n",
       "  </thead>\n",
       "  <tbody>\n",
       "    <tr>\n",
       "      <th>total_bill</th>\n",
       "      <td>1.000000</td>\n",
       "      <td>0.603464</td>\n",
       "      <td>0.633474</td>\n",
       "    </tr>\n",
       "    <tr>\n",
       "      <th>size</th>\n",
       "      <td>0.603464</td>\n",
       "      <td>1.000000</td>\n",
       "      <td>0.503844</td>\n",
       "    </tr>\n",
       "    <tr>\n",
       "      <th>tip</th>\n",
       "      <td>0.633474</td>\n",
       "      <td>0.503844</td>\n",
       "      <td>1.000000</td>\n",
       "    </tr>\n",
       "  </tbody>\n",
       "</table>\n",
       "</div>"
      ],
      "text/plain": [
       "            total_bill      size       tip\n",
       "total_bill    1.000000  0.603464  0.633474\n",
       "size          0.603464  1.000000  0.503844\n",
       "tip           0.633474  0.503844  1.000000"
      ]
     },
     "execution_count": 34,
     "metadata": {},
     "output_type": "execute_result"
    }
   ],
   "source": [
    "df.corr()"
   ]
  },
  {
   "cell_type": "code",
   "execution_count": 35,
   "id": "5db3fbb8-fb96-4a48-a14f-fab2f824ff28",
   "metadata": {},
   "outputs": [
    {
     "data": {
      "image/png": "[encoded data removed]",
      "text/plain": [
       "<Figure size 504x288 with 2 Axes>"
      ]
     },
     "metadata": {
      "needs_background": "light"
     },
     "output_type": "display_data"
    }
   ],
   "source": [
    "sns.heatmap(data = df.corr(), annot= True);\n",
    "# it can be seen that there is positive relationship between the total_bill, size and tip amount.\n",
    "# However, the relationship is no so strong and it's expecially lower between size and tip amount\n"
   ]
  },
  {
   "cell_type": "code",
   "execution_count": 49,
   "id": "f2448cae-d5f2-46af-b8f2-65a208f45d42",
   "metadata": {},
   "outputs": [
    {
     "name": "stdout",
     "output_type": "stream",
     "text": [
      "Corr between tip and total_bill  :  0.6334742425303583\n",
      "Corr between tip and size        :  0.5038440380890562\n"
     ]
    }
   ],
   "source": [
    "for i in df.drop(columns =\"tip\"):\n",
    "    print(f\"Corr between tip and {i:<12}:  {df.tip.corr(df[i])}\")"
   ]
  },
  {
   "cell_type": "markdown",
   "id": "b6c41e6d-b009-4cf5-9fda-c590f45fb2aa",
   "metadata": {},
   "source": [
    "**Simple Linear Regression**"
   ]
  },
  {
   "cell_type": "code",
   "execution_count": 39,
   "id": "66240366-c5d1-48e0-8470-c89f206b3c53",
   "metadata": {},
   "outputs": [
    {
     "data": {
      "text/html": [
       "<div>\n",
       "<style scoped>\n",
       "    .dataframe tbody tr th:only-of-type {\n",
       "        vertical-align: middle;\n",
       "    }\n",
       "\n",
       "    .dataframe tbody tr th {\n",
       "        vertical-align: top;\n",
       "    }\n",
       "\n",
       "    .dataframe thead th {\n",
       "        text-align: right;\n",
       "    }\n",
       "</style>\n",
       "<table border=\"1\" class=\"dataframe\">\n",
       "  <thead>\n",
       "    <tr style=\"text-align: right;\">\n",
       "      <th></th>\n",
       "      <th>total_bill</th>\n",
       "      <th>tip</th>\n",
       "    </tr>\n",
       "  </thead>\n",
       "  <tbody>\n",
       "    <tr>\n",
       "      <th>0</th>\n",
       "      <td>16.99</td>\n",
       "      <td>1.01</td>\n",
       "    </tr>\n",
       "    <tr>\n",
       "      <th>1</th>\n",
       "      <td>10.34</td>\n",
       "      <td>1.66</td>\n",
       "    </tr>\n",
       "    <tr>\n",
       "      <th>2</th>\n",
       "      <td>21.01</td>\n",
       "      <td>3.50</td>\n",
       "    </tr>\n",
       "    <tr>\n",
       "      <th>3</th>\n",
       "      <td>23.68</td>\n",
       "      <td>3.31</td>\n",
       "    </tr>\n",
       "    <tr>\n",
       "      <th>4</th>\n",
       "      <td>24.59</td>\n",
       "      <td>3.61</td>\n",
       "    </tr>\n",
       "    <tr>\n",
       "      <th>...</th>\n",
       "      <td>...</td>\n",
       "      <td>...</td>\n",
       "    </tr>\n",
       "    <tr>\n",
       "      <th>239</th>\n",
       "      <td>29.03</td>\n",
       "      <td>5.92</td>\n",
       "    </tr>\n",
       "    <tr>\n",
       "      <th>240</th>\n",
       "      <td>27.18</td>\n",
       "      <td>2.00</td>\n",
       "    </tr>\n",
       "    <tr>\n",
       "      <th>241</th>\n",
       "      <td>22.67</td>\n",
       "      <td>2.00</td>\n",
       "    </tr>\n",
       "    <tr>\n",
       "      <th>242</th>\n",
       "      <td>17.82</td>\n",
       "      <td>1.75</td>\n",
       "    </tr>\n",
       "    <tr>\n",
       "      <th>243</th>\n",
       "      <td>18.78</td>\n",
       "      <td>3.00</td>\n",
       "    </tr>\n",
       "  </tbody>\n",
       "</table>\n",
       "<p>242 rows × 2 columns</p>\n",
       "</div>"
      ],
      "text/plain": [
       "     total_bill   tip\n",
       "0         16.99  1.01\n",
       "1         10.34  1.66\n",
       "2         21.01  3.50\n",
       "3         23.68  3.31\n",
       "4         24.59  3.61\n",
       "..          ...   ...\n",
       "239       29.03  5.92\n",
       "240       27.18  2.00\n",
       "241       22.67  2.00\n",
       "242       17.82  1.75\n",
       "243       18.78  3.00\n",
       "\n",
       "[242 rows x 2 columns]"
      ]
     },
     "execution_count": 39,
     "metadata": {},
     "output_type": "execute_result"
    }
   ],
   "source": [
    "# total bill and tip features will be taken for a simple lin reg analysis.\n",
    "# total bill is the X - independent var and tip amount is the output-target-label-dep var in this case\n",
    "\n",
    "df2 = df[[\"total_bill\", \"tip\"]]\n",
    "df2"
   ]
  },
  {
   "cell_type": "code",
   "execution_count": 51,
   "id": "2dee2470-a16b-48ee-8da5-807167a91cd5",
   "metadata": {},
   "outputs": [
    {
     "data": {
      "text/plain": [
       "0.6334742425303584"
      ]
     },
     "execution_count": 51,
     "metadata": {},
     "output_type": "execute_result"
    }
   ],
   "source": [
    "corr = df2.total_bill.corr(df.tip)\n",
    "corr"
   ]
  },
  {
   "cell_type": "markdown",
   "id": "9c71af62-05d8-4a14-824c-e8ee0e49434a",
   "metadata": {},
   "source": [
    "**Plotting the relationship between independent variable and dependent variable**"
   ]
  },
  {
   "cell_type": "code",
   "execution_count": 41,
   "id": "8587f2ab-9578-4736-9f85-59c4a4ff59a7",
   "metadata": {},
   "outputs": [
    {
     "data": {
      "text/plain": [
       "<AxesSubplot:xlabel='total_bill', ylabel='tip'>"
      ]
     },
     "execution_count": 41,
     "metadata": {},
     "output_type": "execute_result"
    },
    {
     "data": {
      "image/png": "[encoded data removed]",
      "text/plain": [
       "<Figure size 504x288 with 1 Axes>"
      ]
     },
     "metadata": {
      "needs_background": "light"
     },
     "output_type": "display_data"
    }
   ],
   "source": [
    "sns.regplot(x = df.total_bill, y = df.tip, line_kws={\"color\": \"red\"})"
   ]
  },
  {
   "cell_type": "code",
   "execution_count": 42,
   "id": "221c184b-3adb-4d06-9c29-c7ed5b49964d",
   "metadata": {},
   "outputs": [
    {
     "data": {
      "text/plain": [
       "67     3.07\n",
       "92     5.75\n",
       "111    7.25\n",
       "172    7.25\n",
       "149    7.51\n",
       "195    7.56\n",
       "218    7.74\n",
       "145    8.35\n",
       "135    8.51\n",
       "126    8.52\n",
       "Name: total_bill, dtype: float64"
      ]
     },
     "execution_count": 42,
     "metadata": {},
     "output_type": "execute_result"
    }
   ],
   "source": [
    "df2.total_bill.sort_values().head(10)"
   ]
  },
  {
   "cell_type": "code",
   "execution_count": 46,
   "id": "dcacf34c-1767-47ad-9906-f2f9a0e96b3b",
   "metadata": {},
   "outputs": [
    {
     "data": {
      "text/html": [
       "<div>\n",
       "<style scoped>\n",
       "    .dataframe tbody tr th:only-of-type {\n",
       "        vertical-align: middle;\n",
       "    }\n",
       "\n",
       "    .dataframe tbody tr th {\n",
       "        vertical-align: top;\n",
       "    }\n",
       "\n",
       "    .dataframe thead th {\n",
       "        text-align: right;\n",
       "    }\n",
       "</style>\n",
       "<table border=\"1\" class=\"dataframe\">\n",
       "  <thead>\n",
       "    <tr style=\"text-align: right;\">\n",
       "      <th></th>\n",
       "      <th>total_bill</th>\n",
       "      <th>tip</th>\n",
       "    </tr>\n",
       "  </thead>\n",
       "  <tbody>\n",
       "    <tr>\n",
       "      <th>215</th>\n",
       "      <td>12.90</td>\n",
       "      <td>1.10</td>\n",
       "    </tr>\n",
       "    <tr>\n",
       "      <th>135</th>\n",
       "      <td>8.51</td>\n",
       "      <td>1.25</td>\n",
       "    </tr>\n",
       "    <tr>\n",
       "      <th>222</th>\n",
       "      <td>8.58</td>\n",
       "      <td>1.92</td>\n",
       "    </tr>\n",
       "    <tr>\n",
       "      <th>164</th>\n",
       "      <td>17.51</td>\n",
       "      <td>3.00</td>\n",
       "    </tr>\n",
       "    <tr>\n",
       "      <th>208</th>\n",
       "      <td>24.27</td>\n",
       "      <td>2.03</td>\n",
       "    </tr>\n",
       "    <tr>\n",
       "      <th>62</th>\n",
       "      <td>11.02</td>\n",
       "      <td>1.98</td>\n",
       "    </tr>\n",
       "    <tr>\n",
       "      <th>191</th>\n",
       "      <td>19.81</td>\n",
       "      <td>4.19</td>\n",
       "    </tr>\n",
       "    <tr>\n",
       "      <th>151</th>\n",
       "      <td>13.13</td>\n",
       "      <td>2.00</td>\n",
       "    </tr>\n",
       "    <tr>\n",
       "      <th>42</th>\n",
       "      <td>13.94</td>\n",
       "      <td>3.06</td>\n",
       "    </tr>\n",
       "    <tr>\n",
       "      <th>54</th>\n",
       "      <td>25.56</td>\n",
       "      <td>4.34</td>\n",
       "    </tr>\n",
       "  </tbody>\n",
       "</table>\n",
       "</div>"
      ],
      "text/plain": [
       "     total_bill   tip\n",
       "215       12.90  1.10\n",
       "135        8.51  1.25\n",
       "222        8.58  1.92\n",
       "164       17.51  3.00\n",
       "208       24.27  2.03\n",
       "62        11.02  1.98\n",
       "191       19.81  4.19\n",
       "151       13.13  2.00\n",
       "42        13.94  3.06\n",
       "54        25.56  4.34"
      ]
     },
     "execution_count": 46,
     "metadata": {},
     "output_type": "execute_result"
    }
   ],
   "source": [
    "df2.sample(10)"
   ]
  },
  {
   "cell_type": "markdown",
   "id": "f97215df-1c3b-4f63-b0d8-d02e3a121e40",
   "metadata": {},
   "source": [
    "## Coefficient of determination (R2)\n",
    "\n",
    "The coefficient of determination (R²) is a number between 0 and 1 that measures how well a statistical model predicts an outcome. You can interpret the R² as the proportion of variation in the dependent variable that is predicted by the statistical model. The coefficient of determination is used to explain the relationship between an independent and dependent variable. The coefficient of determination is commonly called r-squared (or r2) for the statistical value it represents."
   ]
  },
  {
   "cell_type": "code",
   "execution_count": 52,
   "id": "54e40b73-2f09-4330-9f6f-271f04f21aec",
   "metadata": {},
   "outputs": [
    {
     "data": {
      "text/plain": [
       "0.40128961594941137"
      ]
     },
     "execution_count": 52,
     "metadata": {},
     "output_type": "execute_result"
    }
   ],
   "source": [
    "R2 = corr**2\n",
    "R2"
   ]
  },
  {
   "cell_type": "markdown",
   "id": "0826d472-0873-4310-bf55-f7d24922cdf9",
   "metadata": {},
   "source": [
    "As it can be seen from the R2 score, total bill as an independent variable can explain the change in the tip label as a dependent variable in a poor way, juts 40%. This means that the other factors such as the day of weekend, time of the day, number of the people should also be taken into account. But just for practicing I'll keep simple lin reg analysis."
   ]
  },
  {
   "cell_type": "code",
   "execution_count": 53,
   "id": "1293a51f-76a8-40af-bb80-9669d85637e7",
   "metadata": {},
   "outputs": [
    {
     "data": {
      "text/plain": [
       "array([0.09337134, 1.12008875])"
      ]
     },
     "execution_count": 53,
     "metadata": {},
     "output_type": "execute_result"
    }
   ],
   "source": [
    "X = df.total_bill\n",
    "y = df.tip\n",
    "\n",
    "np.polyfit(X, y, deg=1)"
   ]
  },
  {
   "cell_type": "code",
   "execution_count": 54,
   "id": "5ab3de43-e7b6-4956-b7e2-9d1d3ce59360",
   "metadata": {},
   "outputs": [
    {
     "name": "stdout",
     "output_type": "stream",
     "text": [
      "slope    : 0.09337134078484516\n",
      "intercept: 1.1200887472089167\n"
     ]
    }
   ],
   "source": [
    "slope, intercept = np.polyfit(X, y, deg=1)\n",
    "\n",
    "print(\"slope    :\", slope)\n",
    "print(\"intercept:\", intercept)"
   ]
  },
  {
   "cell_type": "code",
   "execution_count": 55,
   "id": "3e9dd3a3-41a4-460b-9a47-3d42acf91c6c",
   "metadata": {},
   "outputs": [],
   "source": [
    "b1, b0 = np.polyfit(X, y, deg=1)\n",
    "\n",
    "# b1 = slope, b0= intercept"
   ]
  },
  {
   "cell_type": "code",
   "execution_count": 56,
   "id": "234afdd1-ffd1-461c-9426-7c82e6202ccd",
   "metadata": {},
   "outputs": [],
   "source": [
    "y_pred = b1*X + b0"
   ]
  },
  {
   "cell_type": "code",
   "execution_count": 58,
   "id": "4b1691a2-3d15-4ad5-aa2b-e4ec62451dc0",
   "metadata": {},
   "outputs": [
    {
     "data": {
      "text/html": [
       "<div>\n",
       "<style scoped>\n",
       "    .dataframe tbody tr th:only-of-type {\n",
       "        vertical-align: middle;\n",
       "    }\n",
       "\n",
       "    .dataframe tbody tr th {\n",
       "        vertical-align: top;\n",
       "    }\n",
       "\n",
       "    .dataframe thead th {\n",
       "        text-align: right;\n",
       "    }\n",
       "</style>\n",
       "<table border=\"1\" class=\"dataframe\">\n",
       "  <thead>\n",
       "    <tr style=\"text-align: right;\">\n",
       "      <th></th>\n",
       "      <th>actual</th>\n",
       "      <th>predicted</th>\n",
       "      <th>residual</th>\n",
       "      <th>LSE</th>\n",
       "      <th>ABS</th>\n",
       "    </tr>\n",
       "  </thead>\n",
       "  <tbody>\n",
       "    <tr>\n",
       "      <th>0</th>\n",
       "      <td>1.01</td>\n",
       "      <td>2.706468</td>\n",
       "      <td>-1.696468</td>\n",
       "      <td>2.878003</td>\n",
       "      <td>1.696468</td>\n",
       "    </tr>\n",
       "    <tr>\n",
       "      <th>1</th>\n",
       "      <td>1.66</td>\n",
       "      <td>2.085548</td>\n",
       "      <td>-0.425548</td>\n",
       "      <td>0.181091</td>\n",
       "      <td>0.425548</td>\n",
       "    </tr>\n",
       "    <tr>\n",
       "      <th>2</th>\n",
       "      <td>3.50</td>\n",
       "      <td>3.081821</td>\n",
       "      <td>0.418179</td>\n",
       "      <td>0.174874</td>\n",
       "      <td>0.418179</td>\n",
       "    </tr>\n",
       "    <tr>\n",
       "      <th>3</th>\n",
       "      <td>3.31</td>\n",
       "      <td>3.331122</td>\n",
       "      <td>-0.021122</td>\n",
       "      <td>0.000446</td>\n",
       "      <td>0.021122</td>\n",
       "    </tr>\n",
       "    <tr>\n",
       "      <th>4</th>\n",
       "      <td>3.61</td>\n",
       "      <td>3.416090</td>\n",
       "      <td>0.193910</td>\n",
       "      <td>0.037601</td>\n",
       "      <td>0.193910</td>\n",
       "    </tr>\n",
       "    <tr>\n",
       "      <th>...</th>\n",
       "      <td>...</td>\n",
       "      <td>...</td>\n",
       "      <td>...</td>\n",
       "      <td>...</td>\n",
       "      <td>...</td>\n",
       "    </tr>\n",
       "    <tr>\n",
       "      <th>239</th>\n",
       "      <td>5.92</td>\n",
       "      <td>3.830659</td>\n",
       "      <td>2.089341</td>\n",
       "      <td>4.365347</td>\n",
       "      <td>2.089341</td>\n",
       "    </tr>\n",
       "    <tr>\n",
       "      <th>240</th>\n",
       "      <td>2.00</td>\n",
       "      <td>3.657922</td>\n",
       "      <td>-1.657922</td>\n",
       "      <td>2.748705</td>\n",
       "      <td>1.657922</td>\n",
       "    </tr>\n",
       "    <tr>\n",
       "      <th>241</th>\n",
       "      <td>2.00</td>\n",
       "      <td>3.236817</td>\n",
       "      <td>-1.236817</td>\n",
       "      <td>1.529716</td>\n",
       "      <td>1.236817</td>\n",
       "    </tr>\n",
       "    <tr>\n",
       "      <th>242</th>\n",
       "      <td>1.75</td>\n",
       "      <td>2.783966</td>\n",
       "      <td>-1.033966</td>\n",
       "      <td>1.069086</td>\n",
       "      <td>1.033966</td>\n",
       "    </tr>\n",
       "    <tr>\n",
       "      <th>243</th>\n",
       "      <td>3.00</td>\n",
       "      <td>2.873603</td>\n",
       "      <td>0.126397</td>\n",
       "      <td>0.015976</td>\n",
       "      <td>0.126397</td>\n",
       "    </tr>\n",
       "  </tbody>\n",
       "</table>\n",
       "<p>242 rows × 5 columns</p>\n",
       "</div>"
      ],
      "text/plain": [
       "     actual  predicted  residual       LSE       ABS\n",
       "0      1.01   2.706468 -1.696468  2.878003  1.696468\n",
       "1      1.66   2.085548 -0.425548  0.181091  0.425548\n",
       "2      3.50   3.081821  0.418179  0.174874  0.418179\n",
       "3      3.31   3.331122 -0.021122  0.000446  0.021122\n",
       "4      3.61   3.416090  0.193910  0.037601  0.193910\n",
       "..      ...        ...       ...       ...       ...\n",
       "239    5.92   3.830659  2.089341  4.365347  2.089341\n",
       "240    2.00   3.657922 -1.657922  2.748705  1.657922\n",
       "241    2.00   3.236817 -1.236817  1.529716  1.236817\n",
       "242    1.75   2.783966 -1.033966  1.069086  1.033966\n",
       "243    3.00   2.873603  0.126397  0.015976  0.126397\n",
       "\n",
       "[242 rows x 5 columns]"
      ]
     },
     "execution_count": 58,
     "metadata": {},
     "output_type": "execute_result"
    }
   ],
   "source": [
    "values = {\"actual\": y, \"predicted\": y_pred, \"residual\":y-y_pred, \"LSE\": (y-y_pred)**2, \"ABS\":abs(y-y_pred)}\n",
    "df3 = pd.DataFrame(values)\n",
    "df3"
   ]
  },
  {
   "cell_type": "code",
   "execution_count": 60,
   "id": "6321a8dd-94ee-4ee4-b91b-25053bb731cd",
   "metadata": {},
   "outputs": [
    {
     "data": {
      "text/plain": [
       "0.9388100443193914"
      ]
     },
     "execution_count": 60,
     "metadata": {},
     "output_type": "execute_result"
    }
   ],
   "source": [
    "np.mean(df3.LSE)"
   ]
  },
  {
   "cell_type": "code",
   "execution_count": 61,
   "id": "86259954-27fa-4b6f-ac11-8bc15c786a98",
   "metadata": {},
   "outputs": [
    {
     "data": {
      "text/plain": [
       "0.73135364959517"
      ]
     },
     "execution_count": 61,
     "metadata": {},
     "output_type": "execute_result"
    }
   ],
   "source": [
    "np.mean(df3.ABS)"
   ]
  },
  {
   "cell_type": "code",
   "execution_count": 65,
   "id": "9c3ae5fc-218c-4be7-9e80-f1406fe5667f",
   "metadata": {},
   "outputs": [],
   "source": [
    "# as it can be seen, total bill on its own is a poor determinator of the tip amount. Let's deepen the detail by \n",
    "# using also size feature through a multiple linear regression"
   ]
  },
  {
   "cell_type": "markdown",
   "id": "afffe7e2-d0fc-4d3c-926d-be7d0cead7b1",
   "metadata": {},
   "source": [
    "# Multiple Linear Regression and Regression Error Metrics"
   ]
  },
  {
   "cell_type": "markdown",
   "id": "71fe69cc-8957-4f9d-ba79-374e6312b2fe",
   "metadata": {},
   "source": [
    "**Train-Test split**"
   ]
  },
  {
   "cell_type": "code",
   "execution_count": 66,
   "id": "a1b457a7-d619-47a0-80c4-3b5969776fc2",
   "metadata": {},
   "outputs": [],
   "source": [
    "X = df.drop(columns =\"tip\") #df[[\"total_bill\", \"size\"]] - independent variables - input\n",
    "y = df[\"tip\"]  # dependent var - output- response var."
   ]
  },
  {
   "cell_type": "code",
   "execution_count": 67,
   "id": "30bb706f-ff30-44ec-a940-699eb4ad0e84",
   "metadata": {},
   "outputs": [
    {
     "data": {
      "text/html": [
       "<div>\n",
       "<style scoped>\n",
       "    .dataframe tbody tr th:only-of-type {\n",
       "        vertical-align: middle;\n",
       "    }\n",
       "\n",
       "    .dataframe tbody tr th {\n",
       "        vertical-align: top;\n",
       "    }\n",
       "\n",
       "    .dataframe thead th {\n",
       "        text-align: right;\n",
       "    }\n",
       "</style>\n",
       "<table border=\"1\" class=\"dataframe\">\n",
       "  <thead>\n",
       "    <tr style=\"text-align: right;\">\n",
       "      <th></th>\n",
       "      <th>total_bill</th>\n",
       "      <th>size</th>\n",
       "    </tr>\n",
       "  </thead>\n",
       "  <tbody>\n",
       "    <tr>\n",
       "      <th>0</th>\n",
       "      <td>16.99</td>\n",
       "      <td>2.0</td>\n",
       "    </tr>\n",
       "    <tr>\n",
       "      <th>1</th>\n",
       "      <td>10.34</td>\n",
       "      <td>3.0</td>\n",
       "    </tr>\n",
       "    <tr>\n",
       "      <th>2</th>\n",
       "      <td>21.01</td>\n",
       "      <td>3.0</td>\n",
       "    </tr>\n",
       "    <tr>\n",
       "      <th>3</th>\n",
       "      <td>23.68</td>\n",
       "      <td>2.0</td>\n",
       "    </tr>\n",
       "    <tr>\n",
       "      <th>4</th>\n",
       "      <td>24.59</td>\n",
       "      <td>4.0</td>\n",
       "    </tr>\n",
       "    <tr>\n",
       "      <th>...</th>\n",
       "      <td>...</td>\n",
       "      <td>...</td>\n",
       "    </tr>\n",
       "    <tr>\n",
       "      <th>239</th>\n",
       "      <td>29.03</td>\n",
       "      <td>3.0</td>\n",
       "    </tr>\n",
       "    <tr>\n",
       "      <th>240</th>\n",
       "      <td>27.18</td>\n",
       "      <td>2.0</td>\n",
       "    </tr>\n",
       "    <tr>\n",
       "      <th>241</th>\n",
       "      <td>22.67</td>\n",
       "      <td>2.0</td>\n",
       "    </tr>\n",
       "    <tr>\n",
       "      <th>242</th>\n",
       "      <td>17.82</td>\n",
       "      <td>2.0</td>\n",
       "    </tr>\n",
       "    <tr>\n",
       "      <th>243</th>\n",
       "      <td>18.78</td>\n",
       "      <td>2.0</td>\n",
       "    </tr>\n",
       "  </tbody>\n",
       "</table>\n",
       "<p>242 rows × 2 columns</p>\n",
       "</div>"
      ],
      "text/plain": [
       "     total_bill  size\n",
       "0         16.99   2.0\n",
       "1         10.34   3.0\n",
       "2         21.01   3.0\n",
       "3         23.68   2.0\n",
       "4         24.59   4.0\n",
       "..          ...   ...\n",
       "239       29.03   3.0\n",
       "240       27.18   2.0\n",
       "241       22.67   2.0\n",
       "242       17.82   2.0\n",
       "243       18.78   2.0\n",
       "\n",
       "[242 rows x 2 columns]"
      ]
     },
     "metadata": {},
     "output_type": "display_data"
    },
    {
     "data": {
      "text/plain": [
       "0      1.01\n",
       "1      1.66\n",
       "2      3.50\n",
       "3      3.31\n",
       "4      3.61\n",
       "       ... \n",
       "239    5.92\n",
       "240    2.00\n",
       "241    2.00\n",
       "242    1.75\n",
       "243    3.00\n",
       "Name: tip, Length: 242, dtype: float64"
      ]
     },
     "metadata": {},
     "output_type": "display_data"
    }
   ],
   "source": [
    "display(X,y)"
   ]
  },
  {
   "cell_type": "code",
   "execution_count": 68,
   "id": "6b6272ec-6ed5-4998-9e75-12a4ef5a2aae",
   "metadata": {},
   "outputs": [],
   "source": [
    "# import the function to split the data\n",
    "from sklearn.model_selection import train_test_split"
   ]
  },
  {
   "cell_type": "code",
   "execution_count": 69,
   "id": "054c3ede-a773-4ae6-8486-9174761bc989",
   "metadata": {},
   "outputs": [],
   "source": [
    "# execute the function and split the data\n",
    "\n",
    "# since our dataset consists of only 242 rows, I'll decrease the test size to 20%\n",
    "X_train, X_test, y_train, y_test = train_test_split(X, y, test_size = 0.2, random_state =42)\n"
   ]
  },
  {
   "cell_type": "code",
   "execution_count": 70,
   "id": "a6258d91-6642-47e0-b9c7-6630f78fdb1c",
   "metadata": {},
   "outputs": [
    {
     "name": "stdout",
     "output_type": "stream",
     "text": [
      "Train features shape :  (193, 2)\n",
      "Train target shape   :  (193,)\n",
      "Test features shape  :  (49, 2)\n",
      "Test target shape    :  (49,)\n"
     ]
    }
   ],
   "source": [
    "print(\"Train features shape : \", X_train.shape)\n",
    "print(\"Train target shape   : \", y_train.shape)\n",
    "print(\"Test features shape  : \", X_test.shape)\n",
    "print(\"Test target shape    : \", y_test.shape)"
   ]
  },
  {
   "cell_type": "code",
   "execution_count": 71,
   "id": "db122d40-5c9d-4d8c-8274-babedb8b4e6f",
   "metadata": {},
   "outputs": [
    {
     "data": {
      "text/html": [
       "<div>\n",
       "<style scoped>\n",
       "    .dataframe tbody tr th:only-of-type {\n",
       "        vertical-align: middle;\n",
       "    }\n",
       "\n",
       "    .dataframe tbody tr th {\n",
       "        vertical-align: top;\n",
       "    }\n",
       "\n",
       "    .dataframe thead th {\n",
       "        text-align: right;\n",
       "    }\n",
       "</style>\n",
       "<table border=\"1\" class=\"dataframe\">\n",
       "  <thead>\n",
       "    <tr style=\"text-align: right;\">\n",
       "      <th></th>\n",
       "      <th>total_bill</th>\n",
       "      <th>size</th>\n",
       "    </tr>\n",
       "  </thead>\n",
       "  <tbody>\n",
       "    <tr>\n",
       "      <th>115</th>\n",
       "      <td>17.31</td>\n",
       "      <td>2.0</td>\n",
       "    </tr>\n",
       "    <tr>\n",
       "      <th>207</th>\n",
       "      <td>38.73</td>\n",
       "      <td>4.0</td>\n",
       "    </tr>\n",
       "    <tr>\n",
       "      <th>158</th>\n",
       "      <td>13.39</td>\n",
       "      <td>2.0</td>\n",
       "    </tr>\n",
       "    <tr>\n",
       "      <th>132</th>\n",
       "      <td>11.17</td>\n",
       "      <td>2.0</td>\n",
       "    </tr>\n",
       "    <tr>\n",
       "      <th>84</th>\n",
       "      <td>15.98</td>\n",
       "      <td>2.0</td>\n",
       "    </tr>\n",
       "    <tr>\n",
       "      <th>...</th>\n",
       "      <td>...</td>\n",
       "      <td>...</td>\n",
       "    </tr>\n",
       "    <tr>\n",
       "      <th>106</th>\n",
       "      <td>20.49</td>\n",
       "      <td>2.0</td>\n",
       "    </tr>\n",
       "    <tr>\n",
       "      <th>14</th>\n",
       "      <td>14.83</td>\n",
       "      <td>2.0</td>\n",
       "    </tr>\n",
       "    <tr>\n",
       "      <th>92</th>\n",
       "      <td>5.75</td>\n",
       "      <td>2.0</td>\n",
       "    </tr>\n",
       "    <tr>\n",
       "      <th>180</th>\n",
       "      <td>34.65</td>\n",
       "      <td>4.0</td>\n",
       "    </tr>\n",
       "    <tr>\n",
       "      <th>102</th>\n",
       "      <td>44.30</td>\n",
       "      <td>3.0</td>\n",
       "    </tr>\n",
       "  </tbody>\n",
       "</table>\n",
       "<p>193 rows × 2 columns</p>\n",
       "</div>"
      ],
      "text/plain": [
       "     total_bill  size\n",
       "115       17.31   2.0\n",
       "207       38.73   4.0\n",
       "158       13.39   2.0\n",
       "132       11.17   2.0\n",
       "84        15.98   2.0\n",
       "..          ...   ...\n",
       "106       20.49   2.0\n",
       "14        14.83   2.0\n",
       "92         5.75   2.0\n",
       "180       34.65   4.0\n",
       "102       44.30   3.0\n",
       "\n",
       "[193 rows x 2 columns]"
      ]
     },
     "execution_count": 71,
     "metadata": {},
     "output_type": "execute_result"
    }
   ],
   "source": [
    "X_train"
   ]
  },
  {
   "cell_type": "code",
   "execution_count": 72,
   "id": "d704509b-297e-4e72-8a31-0aac35bb8607",
   "metadata": {},
   "outputs": [
    {
     "data": {
      "text/html": [
       "<div>\n",
       "<style scoped>\n",
       "    .dataframe tbody tr th:only-of-type {\n",
       "        vertical-align: middle;\n",
       "    }\n",
       "\n",
       "    .dataframe tbody tr th {\n",
       "        vertical-align: top;\n",
       "    }\n",
       "\n",
       "    .dataframe thead th {\n",
       "        text-align: right;\n",
       "    }\n",
       "</style>\n",
       "<table border=\"1\" class=\"dataframe\">\n",
       "  <thead>\n",
       "    <tr style=\"text-align: right;\">\n",
       "      <th></th>\n",
       "      <th>total_bill</th>\n",
       "      <th>size</th>\n",
       "    </tr>\n",
       "  </thead>\n",
       "  <tbody>\n",
       "    <tr>\n",
       "      <th>24</th>\n",
       "      <td>19.82</td>\n",
       "      <td>2.0</td>\n",
       "    </tr>\n",
       "    <tr>\n",
       "      <th>6</th>\n",
       "      <td>8.77</td>\n",
       "      <td>2.0</td>\n",
       "    </tr>\n",
       "    <tr>\n",
       "      <th>152</th>\n",
       "      <td>17.26</td>\n",
       "      <td>3.0</td>\n",
       "    </tr>\n",
       "    <tr>\n",
       "      <th>210</th>\n",
       "      <td>30.06</td>\n",
       "      <td>3.0</td>\n",
       "    </tr>\n",
       "    <tr>\n",
       "      <th>239</th>\n",
       "      <td>29.03</td>\n",
       "      <td>3.0</td>\n",
       "    </tr>\n",
       "    <tr>\n",
       "      <th>200</th>\n",
       "      <td>18.71</td>\n",
       "      <td>3.0</td>\n",
       "    </tr>\n",
       "    <tr>\n",
       "      <th>191</th>\n",
       "      <td>19.81</td>\n",
       "      <td>2.0</td>\n",
       "    </tr>\n",
       "    <tr>\n",
       "      <th>150</th>\n",
       "      <td>14.07</td>\n",
       "      <td>2.0</td>\n",
       "    </tr>\n",
       "    <tr>\n",
       "      <th>9</th>\n",
       "      <td>14.78</td>\n",
       "      <td>2.0</td>\n",
       "    </tr>\n",
       "    <tr>\n",
       "      <th>113</th>\n",
       "      <td>23.95</td>\n",
       "      <td>2.0</td>\n",
       "    </tr>\n",
       "    <tr>\n",
       "      <th>45</th>\n",
       "      <td>18.29</td>\n",
       "      <td>2.0</td>\n",
       "    </tr>\n",
       "    <tr>\n",
       "      <th>209</th>\n",
       "      <td>12.76</td>\n",
       "      <td>2.0</td>\n",
       "    </tr>\n",
       "    <tr>\n",
       "      <th>228</th>\n",
       "      <td>13.28</td>\n",
       "      <td>2.0</td>\n",
       "    </tr>\n",
       "    <tr>\n",
       "      <th>171</th>\n",
       "      <td>15.81</td>\n",
       "      <td>2.0</td>\n",
       "    </tr>\n",
       "    <tr>\n",
       "      <th>82</th>\n",
       "      <td>10.07</td>\n",
       "      <td>1.0</td>\n",
       "    </tr>\n",
       "    <tr>\n",
       "      <th>161</th>\n",
       "      <td>12.66</td>\n",
       "      <td>2.0</td>\n",
       "    </tr>\n",
       "    <tr>\n",
       "      <th>233</th>\n",
       "      <td>10.77</td>\n",
       "      <td>2.0</td>\n",
       "    </tr>\n",
       "    <tr>\n",
       "      <th>15</th>\n",
       "      <td>21.58</td>\n",
       "      <td>2.0</td>\n",
       "    </tr>\n",
       "    <tr>\n",
       "      <th>66</th>\n",
       "      <td>16.45</td>\n",
       "      <td>2.0</td>\n",
       "    </tr>\n",
       "    <tr>\n",
       "      <th>127</th>\n",
       "      <td>14.52</td>\n",
       "      <td>2.0</td>\n",
       "    </tr>\n",
       "    <tr>\n",
       "      <th>33</th>\n",
       "      <td>20.69</td>\n",
       "      <td>4.0</td>\n",
       "    </tr>\n",
       "    <tr>\n",
       "      <th>19</th>\n",
       "      <td>20.65</td>\n",
       "      <td>3.0</td>\n",
       "    </tr>\n",
       "    <tr>\n",
       "      <th>108</th>\n",
       "      <td>18.24</td>\n",
       "      <td>2.0</td>\n",
       "    </tr>\n",
       "    <tr>\n",
       "      <th>30</th>\n",
       "      <td>9.55</td>\n",
       "      <td>2.0</td>\n",
       "    </tr>\n",
       "    <tr>\n",
       "      <th>185</th>\n",
       "      <td>20.69</td>\n",
       "      <td>5.0</td>\n",
       "    </tr>\n",
       "    <tr>\n",
       "      <th>164</th>\n",
       "      <td>17.51</td>\n",
       "      <td>2.0</td>\n",
       "    </tr>\n",
       "    <tr>\n",
       "      <th>10</th>\n",
       "      <td>10.27</td>\n",
       "      <td>2.0</td>\n",
       "    </tr>\n",
       "    <tr>\n",
       "      <th>73</th>\n",
       "      <td>25.28</td>\n",
       "      <td>2.0</td>\n",
       "    </tr>\n",
       "    <tr>\n",
       "      <th>93</th>\n",
       "      <td>16.32</td>\n",
       "      <td>2.0</td>\n",
       "    </tr>\n",
       "    <tr>\n",
       "      <th>155</th>\n",
       "      <td>29.85</td>\n",
       "      <td>5.0</td>\n",
       "    </tr>\n",
       "    <tr>\n",
       "      <th>111</th>\n",
       "      <td>7.25</td>\n",
       "      <td>1.0</td>\n",
       "    </tr>\n",
       "    <tr>\n",
       "      <th>218</th>\n",
       "      <td>7.74</td>\n",
       "      <td>2.0</td>\n",
       "    </tr>\n",
       "    <tr>\n",
       "      <th>25</th>\n",
       "      <td>17.81</td>\n",
       "      <td>4.0</td>\n",
       "    </tr>\n",
       "    <tr>\n",
       "      <th>60</th>\n",
       "      <td>20.29</td>\n",
       "      <td>2.0</td>\n",
       "    </tr>\n",
       "    <tr>\n",
       "      <th>18</th>\n",
       "      <td>16.97</td>\n",
       "      <td>3.0</td>\n",
       "    </tr>\n",
       "    <tr>\n",
       "      <th>126</th>\n",
       "      <td>8.52</td>\n",
       "      <td>2.0</td>\n",
       "    </tr>\n",
       "    <tr>\n",
       "      <th>96</th>\n",
       "      <td>27.28</td>\n",
       "      <td>2.0</td>\n",
       "    </tr>\n",
       "    <tr>\n",
       "      <th>196</th>\n",
       "      <td>10.34</td>\n",
       "      <td>2.0</td>\n",
       "    </tr>\n",
       "    <tr>\n",
       "      <th>137</th>\n",
       "      <td>14.15</td>\n",
       "      <td>2.0</td>\n",
       "    </tr>\n",
       "    <tr>\n",
       "      <th>241</th>\n",
       "      <td>22.67</td>\n",
       "      <td>2.0</td>\n",
       "    </tr>\n",
       "    <tr>\n",
       "      <th>75</th>\n",
       "      <td>10.51</td>\n",
       "      <td>2.0</td>\n",
       "    </tr>\n",
       "    <tr>\n",
       "      <th>117</th>\n",
       "      <td>10.65</td>\n",
       "      <td>2.0</td>\n",
       "    </tr>\n",
       "    <tr>\n",
       "      <th>112</th>\n",
       "      <td>38.07</td>\n",
       "      <td>3.0</td>\n",
       "    </tr>\n",
       "    <tr>\n",
       "      <th>16</th>\n",
       "      <td>10.33</td>\n",
       "      <td>3.0</td>\n",
       "    </tr>\n",
       "    <tr>\n",
       "      <th>195</th>\n",
       "      <td>7.56</td>\n",
       "      <td>2.0</td>\n",
       "    </tr>\n",
       "    <tr>\n",
       "      <th>67</th>\n",
       "      <td>3.07</td>\n",
       "      <td>1.0</td>\n",
       "    </tr>\n",
       "    <tr>\n",
       "      <th>167</th>\n",
       "      <td>31.71</td>\n",
       "      <td>4.0</td>\n",
       "    </tr>\n",
       "    <tr>\n",
       "      <th>38</th>\n",
       "      <td>18.69</td>\n",
       "      <td>3.0</td>\n",
       "    </tr>\n",
       "    <tr>\n",
       "      <th>242</th>\n",
       "      <td>17.82</td>\n",
       "      <td>2.0</td>\n",
       "    </tr>\n",
       "  </tbody>\n",
       "</table>\n",
       "</div>"
      ],
      "text/plain": [
       "     total_bill  size\n",
       "24        19.82   2.0\n",
       "6          8.77   2.0\n",
       "152       17.26   3.0\n",
       "210       30.06   3.0\n",
       "239       29.03   3.0\n",
       "200       18.71   3.0\n",
       "191       19.81   2.0\n",
       "150       14.07   2.0\n",
       "9         14.78   2.0\n",
       "113       23.95   2.0\n",
       "45        18.29   2.0\n",
       "209       12.76   2.0\n",
       "228       13.28   2.0\n",
       "171       15.81   2.0\n",
       "82        10.07   1.0\n",
       "161       12.66   2.0\n",
       "233       10.77   2.0\n",
       "15        21.58   2.0\n",
       "66        16.45   2.0\n",
       "127       14.52   2.0\n",
       "33        20.69   4.0\n",
       "19        20.65   3.0\n",
       "108       18.24   2.0\n",
       "30         9.55   2.0\n",
       "185       20.69   5.0\n",
       "164       17.51   2.0\n",
       "10        10.27   2.0\n",
       "73        25.28   2.0\n",
       "93        16.32   2.0\n",
       "155       29.85   5.0\n",
       "111        7.25   1.0\n",
       "218        7.74   2.0\n",
       "25        17.81   4.0\n",
       "60        20.29   2.0\n",
       "18        16.97   3.0\n",
       "126        8.52   2.0\n",
       "96        27.28   2.0\n",
       "196       10.34   2.0\n",
       "137       14.15   2.0\n",
       "241       22.67   2.0\n",
       "75        10.51   2.0\n",
       "117       10.65   2.0\n",
       "112       38.07   3.0\n",
       "16        10.33   3.0\n",
       "195        7.56   2.0\n",
       "67         3.07   1.0\n",
       "167       31.71   4.0\n",
       "38        18.69   3.0\n",
       "242       17.82   2.0"
      ]
     },
     "execution_count": 72,
     "metadata": {},
     "output_type": "execute_result"
    }
   ],
   "source": [
    "X_test"
   ]
  },
  {
   "cell_type": "code",
   "execution_count": 73,
   "id": "0e630905-bf54-428c-a367-8dc2515fd4a4",
   "metadata": {},
   "outputs": [
    {
     "data": {
      "text/plain": [
       "115    3.50\n",
       "207    3.00\n",
       "158    2.61\n",
       "132    1.50\n",
       "84     2.03\n",
       "       ... \n",
       "106    4.06\n",
       "14     3.02\n",
       "92     1.00\n",
       "180    3.68\n",
       "102    2.50\n",
       "Name: tip, Length: 193, dtype: float64"
      ]
     },
     "execution_count": 73,
     "metadata": {},
     "output_type": "execute_result"
    }
   ],
   "source": [
    "y_train"
   ]
  },
  {
   "cell_type": "code",
   "execution_count": 74,
   "id": "cab7a5ee-d5ed-47bc-aae7-ed8c5f2ee3b6",
   "metadata": {},
   "outputs": [
    {
     "data": {
      "text/plain": [
       "24     3.18\n",
       "6      2.00\n",
       "152    2.74\n",
       "210    2.00\n",
       "239    5.92\n",
       "200    4.00\n",
       "191    4.19\n",
       "150    2.50\n",
       "9      3.23\n",
       "113    2.55\n",
       "45     3.00\n",
       "209    2.23\n",
       "228    2.72\n",
       "171    3.16\n",
       "82     1.83\n",
       "161    2.50\n",
       "233    1.47\n",
       "15     3.92\n",
       "66     2.47\n",
       "127    2.00\n",
       "33     2.45\n",
       "19     3.35\n",
       "108    3.76\n",
       "30     1.45\n",
       "185    5.00\n",
       "164    3.00\n",
       "10     1.71\n",
       "73     5.00\n",
       "93     4.30\n",
       "155    5.14\n",
       "111    1.00\n",
       "218    1.44\n",
       "25     2.34\n",
       "60     3.21\n",
       "18     3.50\n",
       "126    1.48\n",
       "96     4.00\n",
       "196    2.00\n",
       "137    2.00\n",
       "241    2.00\n",
       "75     1.25\n",
       "117    1.50\n",
       "112    4.00\n",
       "16     1.67\n",
       "195    1.44\n",
       "67     1.00\n",
       "167    4.50\n",
       "38     2.31\n",
       "242    1.75\n",
       "Name: tip, dtype: float64"
      ]
     },
     "execution_count": 74,
     "metadata": {},
     "output_type": "execute_result"
    }
   ],
   "source": [
    "y_test"
   ]
  },
  {
   "cell_type": "markdown",
   "id": "e57c78de-a111-47bd-8067-5d2115244ccb",
   "metadata": {},
   "source": [
    "**Model Fitting and Comparison of Actual and Predicted Labels**"
   ]
  },
  {
   "cell_type": "code",
   "execution_count": 75,
   "id": "c2f7d2d1-18bd-4915-877a-0953c1183b68",
   "metadata": {},
   "outputs": [],
   "source": [
    "from sklearn.linear_model import LinearRegression\n",
    "\n",
    "# Import LinearRegression algorithm"
   ]
  },
  {
   "cell_type": "code",
   "execution_count": 76,
   "id": "4e213012-1bfd-4771-af91-1f96af2ec6f6",
   "metadata": {},
   "outputs": [],
   "source": [
    "# assign the algorith to a variable called model\n",
    "model = LinearRegression()"
   ]
  },
  {
   "cell_type": "code",
   "execution_count": 77,
   "id": "d86e27e9-06fb-4002-90d2-7477c889f3e3",
   "metadata": {},
   "outputs": [
    {
     "data": {
      "text/plain": [
       "LinearRegression()"
      ]
     },
     "execution_count": 77,
     "metadata": {},
     "output_type": "execute_result"
    }
   ],
   "source": [
    "# fit the model\n",
    "model.fit(X_train, y_train) "
   ]
  },
  {
   "cell_type": "code",
   "execution_count": 79,
   "id": "ff28b265-cfb3-4c78-b835-ffefea098478",
   "metadata": {},
   "outputs": [
    {
     "data": {
      "text/plain": [
       "array([2.80266054, 2.01942824, 2.88827087, 3.79554448, 3.7225373 ,\n",
       "       2.99104796, 2.80195173, 2.39509622, 2.44542155, 3.09539804,\n",
       "       2.69421299, 2.30224244, 2.33910043, 2.51842873, 1.84450816,\n",
       "       2.29515436, 2.16118974, 2.92741066, 2.56379241, 2.42699256,\n",
       "       3.3984569 , 3.12855661, 2.69066895, 2.07471523, 3.66552195,\n",
       "       2.638926  , 2.12574937, 3.18966943, 2.55457791, 4.31478963,\n",
       "       1.64462444, 1.94642107, 3.19432034, 2.83597449, 2.86771545,\n",
       "       2.00170805, 3.33143094, 2.13071102, 2.40076668, 3.00467068,\n",
       "       2.14276075, 2.15268405, 4.36329929, 2.39706727, 1.93366253,\n",
       "       1.34834291, 4.17956277, 2.98963034, 2.66089903])"
      ]
     },
     "execution_count": 79,
     "metadata": {},
     "output_type": "execute_result"
    }
   ],
   "source": [
    "y_pred = model.predict(X_test)\n",
    "y_pred"
   ]
  },
  {
   "cell_type": "code",
   "execution_count": 80,
   "id": "8ad6e1d0-b82a-4634-9d87-c3dcfc75a922",
   "metadata": {},
   "outputs": [
    {
     "data": {
      "text/plain": [
       "array([0.07088075, 0.26706506])"
      ]
     },
     "execution_count": 80,
     "metadata": {},
     "output_type": "execute_result"
    }
   ],
   "source": [
    "model.coef_\n",
    "\n",
    "# coefficients of total_bill and size\n"
   ]
  },
  {
   "cell_type": "code",
   "execution_count": 81,
   "id": "6a8a7f95-eb80-43fc-a889-6d00271c5777",
   "metadata": {},
   "outputs": [
    {
     "data": {
      "text/plain": [
       "0.8636739461747238"
      ]
     },
     "execution_count": 81,
     "metadata": {},
     "output_type": "execute_result"
    }
   ],
   "source": [
    "model.intercept_\n",
    "# b0"
   ]
  },
  {
   "cell_type": "code",
   "execution_count": 82,
   "id": "18f960d0-18a7-463f-a7f6-00542ea79386",
   "metadata": {},
   "outputs": [],
   "source": [
    "my_dict = {\"Actual\": y_test, \"Pred\": y_pred, \"Residual\":y_test-y_pred, \"LSE\":(y_test-y_pred)**2, \"ABS\": abs(y_test-y_pred)}"
   ]
  },
  {
   "cell_type": "code",
   "execution_count": 83,
   "id": "00d0cd85-926a-4100-987a-445851a6e1c4",
   "metadata": {},
   "outputs": [
    {
     "data": {
      "text/html": [
       "<div>\n",
       "<style scoped>\n",
       "    .dataframe tbody tr th:only-of-type {\n",
       "        vertical-align: middle;\n",
       "    }\n",
       "\n",
       "    .dataframe tbody tr th {\n",
       "        vertical-align: top;\n",
       "    }\n",
       "\n",
       "    .dataframe thead th {\n",
       "        text-align: right;\n",
       "    }\n",
       "</style>\n",
       "<table border=\"1\" class=\"dataframe\">\n",
       "  <thead>\n",
       "    <tr style=\"text-align: right;\">\n",
       "      <th></th>\n",
       "      <th>Actual</th>\n",
       "      <th>Pred</th>\n",
       "      <th>Residual</th>\n",
       "      <th>LSE</th>\n",
       "      <th>ABS</th>\n",
       "    </tr>\n",
       "  </thead>\n",
       "  <tbody>\n",
       "    <tr>\n",
       "      <th>24</th>\n",
       "      <td>3.18</td>\n",
       "      <td>2.802661</td>\n",
       "      <td>0.377339</td>\n",
       "      <td>0.142385</td>\n",
       "      <td>0.377339</td>\n",
       "    </tr>\n",
       "    <tr>\n",
       "      <th>6</th>\n",
       "      <td>2.00</td>\n",
       "      <td>2.019428</td>\n",
       "      <td>-0.019428</td>\n",
       "      <td>0.000377</td>\n",
       "      <td>0.019428</td>\n",
       "    </tr>\n",
       "    <tr>\n",
       "      <th>152</th>\n",
       "      <td>2.74</td>\n",
       "      <td>2.888271</td>\n",
       "      <td>-0.148271</td>\n",
       "      <td>0.021984</td>\n",
       "      <td>0.148271</td>\n",
       "    </tr>\n",
       "    <tr>\n",
       "      <th>210</th>\n",
       "      <td>2.00</td>\n",
       "      <td>3.795544</td>\n",
       "      <td>-1.795544</td>\n",
       "      <td>3.223980</td>\n",
       "      <td>1.795544</td>\n",
       "    </tr>\n",
       "    <tr>\n",
       "      <th>239</th>\n",
       "      <td>5.92</td>\n",
       "      <td>3.722537</td>\n",
       "      <td>2.197463</td>\n",
       "      <td>4.828842</td>\n",
       "      <td>2.197463</td>\n",
       "    </tr>\n",
       "    <tr>\n",
       "      <th>200</th>\n",
       "      <td>4.00</td>\n",
       "      <td>2.991048</td>\n",
       "      <td>1.008952</td>\n",
       "      <td>1.017984</td>\n",
       "      <td>1.008952</td>\n",
       "    </tr>\n",
       "    <tr>\n",
       "      <th>191</th>\n",
       "      <td>4.19</td>\n",
       "      <td>2.801952</td>\n",
       "      <td>1.388048</td>\n",
       "      <td>1.926678</td>\n",
       "      <td>1.388048</td>\n",
       "    </tr>\n",
       "    <tr>\n",
       "      <th>150</th>\n",
       "      <td>2.50</td>\n",
       "      <td>2.395096</td>\n",
       "      <td>0.104904</td>\n",
       "      <td>0.011005</td>\n",
       "      <td>0.104904</td>\n",
       "    </tr>\n",
       "    <tr>\n",
       "      <th>9</th>\n",
       "      <td>3.23</td>\n",
       "      <td>2.445422</td>\n",
       "      <td>0.784578</td>\n",
       "      <td>0.615563</td>\n",
       "      <td>0.784578</td>\n",
       "    </tr>\n",
       "    <tr>\n",
       "      <th>113</th>\n",
       "      <td>2.55</td>\n",
       "      <td>3.095398</td>\n",
       "      <td>-0.545398</td>\n",
       "      <td>0.297459</td>\n",
       "      <td>0.545398</td>\n",
       "    </tr>\n",
       "    <tr>\n",
       "      <th>45</th>\n",
       "      <td>3.00</td>\n",
       "      <td>2.694213</td>\n",
       "      <td>0.305787</td>\n",
       "      <td>0.093506</td>\n",
       "      <td>0.305787</td>\n",
       "    </tr>\n",
       "    <tr>\n",
       "      <th>209</th>\n",
       "      <td>2.23</td>\n",
       "      <td>2.302242</td>\n",
       "      <td>-0.072242</td>\n",
       "      <td>0.005219</td>\n",
       "      <td>0.072242</td>\n",
       "    </tr>\n",
       "    <tr>\n",
       "      <th>228</th>\n",
       "      <td>2.72</td>\n",
       "      <td>2.339100</td>\n",
       "      <td>0.380900</td>\n",
       "      <td>0.145084</td>\n",
       "      <td>0.380900</td>\n",
       "    </tr>\n",
       "    <tr>\n",
       "      <th>171</th>\n",
       "      <td>3.16</td>\n",
       "      <td>2.518429</td>\n",
       "      <td>0.641571</td>\n",
       "      <td>0.411614</td>\n",
       "      <td>0.641571</td>\n",
       "    </tr>\n",
       "    <tr>\n",
       "      <th>82</th>\n",
       "      <td>1.83</td>\n",
       "      <td>1.844508</td>\n",
       "      <td>-0.014508</td>\n",
       "      <td>0.000210</td>\n",
       "      <td>0.014508</td>\n",
       "    </tr>\n",
       "    <tr>\n",
       "      <th>161</th>\n",
       "      <td>2.50</td>\n",
       "      <td>2.295154</td>\n",
       "      <td>0.204846</td>\n",
       "      <td>0.041962</td>\n",
       "      <td>0.204846</td>\n",
       "    </tr>\n",
       "    <tr>\n",
       "      <th>233</th>\n",
       "      <td>1.47</td>\n",
       "      <td>2.161190</td>\n",
       "      <td>-0.691190</td>\n",
       "      <td>0.477743</td>\n",
       "      <td>0.691190</td>\n",
       "    </tr>\n",
       "    <tr>\n",
       "      <th>15</th>\n",
       "      <td>3.92</td>\n",
       "      <td>2.927411</td>\n",
       "      <td>0.992589</td>\n",
       "      <td>0.985234</td>\n",
       "      <td>0.992589</td>\n",
       "    </tr>\n",
       "    <tr>\n",
       "      <th>66</th>\n",
       "      <td>2.47</td>\n",
       "      <td>2.563792</td>\n",
       "      <td>-0.093792</td>\n",
       "      <td>0.008797</td>\n",
       "      <td>0.093792</td>\n",
       "    </tr>\n",
       "    <tr>\n",
       "      <th>127</th>\n",
       "      <td>2.00</td>\n",
       "      <td>2.426993</td>\n",
       "      <td>-0.426993</td>\n",
       "      <td>0.182323</td>\n",
       "      <td>0.426993</td>\n",
       "    </tr>\n",
       "    <tr>\n",
       "      <th>33</th>\n",
       "      <td>2.45</td>\n",
       "      <td>3.398457</td>\n",
       "      <td>-0.948457</td>\n",
       "      <td>0.899570</td>\n",
       "      <td>0.948457</td>\n",
       "    </tr>\n",
       "    <tr>\n",
       "      <th>19</th>\n",
       "      <td>3.35</td>\n",
       "      <td>3.128557</td>\n",
       "      <td>0.221443</td>\n",
       "      <td>0.049037</td>\n",
       "      <td>0.221443</td>\n",
       "    </tr>\n",
       "    <tr>\n",
       "      <th>108</th>\n",
       "      <td>3.76</td>\n",
       "      <td>2.690669</td>\n",
       "      <td>1.069331</td>\n",
       "      <td>1.143469</td>\n",
       "      <td>1.069331</td>\n",
       "    </tr>\n",
       "    <tr>\n",
       "      <th>30</th>\n",
       "      <td>1.45</td>\n",
       "      <td>2.074715</td>\n",
       "      <td>-0.624715</td>\n",
       "      <td>0.390269</td>\n",
       "      <td>0.624715</td>\n",
       "    </tr>\n",
       "    <tr>\n",
       "      <th>185</th>\n",
       "      <td>5.00</td>\n",
       "      <td>3.665522</td>\n",
       "      <td>1.334478</td>\n",
       "      <td>1.780832</td>\n",
       "      <td>1.334478</td>\n",
       "    </tr>\n",
       "    <tr>\n",
       "      <th>164</th>\n",
       "      <td>3.00</td>\n",
       "      <td>2.638926</td>\n",
       "      <td>0.361074</td>\n",
       "      <td>0.130374</td>\n",
       "      <td>0.361074</td>\n",
       "    </tr>\n",
       "    <tr>\n",
       "      <th>10</th>\n",
       "      <td>1.71</td>\n",
       "      <td>2.125749</td>\n",
       "      <td>-0.415749</td>\n",
       "      <td>0.172848</td>\n",
       "      <td>0.415749</td>\n",
       "    </tr>\n",
       "    <tr>\n",
       "      <th>73</th>\n",
       "      <td>5.00</td>\n",
       "      <td>3.189669</td>\n",
       "      <td>1.810331</td>\n",
       "      <td>3.277297</td>\n",
       "      <td>1.810331</td>\n",
       "    </tr>\n",
       "    <tr>\n",
       "      <th>93</th>\n",
       "      <td>4.30</td>\n",
       "      <td>2.554578</td>\n",
       "      <td>1.745422</td>\n",
       "      <td>3.046498</td>\n",
       "      <td>1.745422</td>\n",
       "    </tr>\n",
       "    <tr>\n",
       "      <th>155</th>\n",
       "      <td>5.14</td>\n",
       "      <td>4.314790</td>\n",
       "      <td>0.825210</td>\n",
       "      <td>0.680972</td>\n",
       "      <td>0.825210</td>\n",
       "    </tr>\n",
       "    <tr>\n",
       "      <th>111</th>\n",
       "      <td>1.00</td>\n",
       "      <td>1.644624</td>\n",
       "      <td>-0.644624</td>\n",
       "      <td>0.415541</td>\n",
       "      <td>0.644624</td>\n",
       "    </tr>\n",
       "    <tr>\n",
       "      <th>218</th>\n",
       "      <td>1.44</td>\n",
       "      <td>1.946421</td>\n",
       "      <td>-0.506421</td>\n",
       "      <td>0.256462</td>\n",
       "      <td>0.506421</td>\n",
       "    </tr>\n",
       "    <tr>\n",
       "      <th>25</th>\n",
       "      <td>2.34</td>\n",
       "      <td>3.194320</td>\n",
       "      <td>-0.854320</td>\n",
       "      <td>0.729863</td>\n",
       "      <td>0.854320</td>\n",
       "    </tr>\n",
       "    <tr>\n",
       "      <th>60</th>\n",
       "      <td>3.21</td>\n",
       "      <td>2.835974</td>\n",
       "      <td>0.374026</td>\n",
       "      <td>0.139895</td>\n",
       "      <td>0.374026</td>\n",
       "    </tr>\n",
       "    <tr>\n",
       "      <th>18</th>\n",
       "      <td>3.50</td>\n",
       "      <td>2.867715</td>\n",
       "      <td>0.632285</td>\n",
       "      <td>0.399784</td>\n",
       "      <td>0.632285</td>\n",
       "    </tr>\n",
       "    <tr>\n",
       "      <th>126</th>\n",
       "      <td>1.48</td>\n",
       "      <td>2.001708</td>\n",
       "      <td>-0.521708</td>\n",
       "      <td>0.272179</td>\n",
       "      <td>0.521708</td>\n",
       "    </tr>\n",
       "    <tr>\n",
       "      <th>96</th>\n",
       "      <td>4.00</td>\n",
       "      <td>3.331431</td>\n",
       "      <td>0.668569</td>\n",
       "      <td>0.446985</td>\n",
       "      <td>0.668569</td>\n",
       "    </tr>\n",
       "    <tr>\n",
       "      <th>196</th>\n",
       "      <td>2.00</td>\n",
       "      <td>2.130711</td>\n",
       "      <td>-0.130711</td>\n",
       "      <td>0.017085</td>\n",
       "      <td>0.130711</td>\n",
       "    </tr>\n",
       "    <tr>\n",
       "      <th>137</th>\n",
       "      <td>2.00</td>\n",
       "      <td>2.400767</td>\n",
       "      <td>-0.400767</td>\n",
       "      <td>0.160614</td>\n",
       "      <td>0.400767</td>\n",
       "    </tr>\n",
       "    <tr>\n",
       "      <th>241</th>\n",
       "      <td>2.00</td>\n",
       "      <td>3.004671</td>\n",
       "      <td>-1.004671</td>\n",
       "      <td>1.009363</td>\n",
       "      <td>1.004671</td>\n",
       "    </tr>\n",
       "    <tr>\n",
       "      <th>75</th>\n",
       "      <td>1.25</td>\n",
       "      <td>2.142761</td>\n",
       "      <td>-0.892761</td>\n",
       "      <td>0.797022</td>\n",
       "      <td>0.892761</td>\n",
       "    </tr>\n",
       "    <tr>\n",
       "      <th>117</th>\n",
       "      <td>1.50</td>\n",
       "      <td>2.152684</td>\n",
       "      <td>-0.652684</td>\n",
       "      <td>0.425996</td>\n",
       "      <td>0.652684</td>\n",
       "    </tr>\n",
       "    <tr>\n",
       "      <th>112</th>\n",
       "      <td>4.00</td>\n",
       "      <td>4.363299</td>\n",
       "      <td>-0.363299</td>\n",
       "      <td>0.131986</td>\n",
       "      <td>0.363299</td>\n",
       "    </tr>\n",
       "    <tr>\n",
       "      <th>16</th>\n",
       "      <td>1.67</td>\n",
       "      <td>2.397067</td>\n",
       "      <td>-0.727067</td>\n",
       "      <td>0.528627</td>\n",
       "      <td>0.727067</td>\n",
       "    </tr>\n",
       "    <tr>\n",
       "      <th>195</th>\n",
       "      <td>1.44</td>\n",
       "      <td>1.933663</td>\n",
       "      <td>-0.493663</td>\n",
       "      <td>0.243703</td>\n",
       "      <td>0.493663</td>\n",
       "    </tr>\n",
       "    <tr>\n",
       "      <th>67</th>\n",
       "      <td>1.00</td>\n",
       "      <td>1.348343</td>\n",
       "      <td>-0.348343</td>\n",
       "      <td>0.121343</td>\n",
       "      <td>0.348343</td>\n",
       "    </tr>\n",
       "    <tr>\n",
       "      <th>167</th>\n",
       "      <td>4.50</td>\n",
       "      <td>4.179563</td>\n",
       "      <td>0.320437</td>\n",
       "      <td>0.102680</td>\n",
       "      <td>0.320437</td>\n",
       "    </tr>\n",
       "    <tr>\n",
       "      <th>38</th>\n",
       "      <td>2.31</td>\n",
       "      <td>2.989630</td>\n",
       "      <td>-0.679630</td>\n",
       "      <td>0.461897</td>\n",
       "      <td>0.679630</td>\n",
       "    </tr>\n",
       "    <tr>\n",
       "      <th>242</th>\n",
       "      <td>1.75</td>\n",
       "      <td>2.660899</td>\n",
       "      <td>-0.910899</td>\n",
       "      <td>0.829737</td>\n",
       "      <td>0.910899</td>\n",
       "    </tr>\n",
       "  </tbody>\n",
       "</table>\n",
       "</div>"
      ],
      "text/plain": [
       "     Actual      Pred  Residual       LSE       ABS\n",
       "24     3.18  2.802661  0.377339  0.142385  0.377339\n",
       "6      2.00  2.019428 -0.019428  0.000377  0.019428\n",
       "152    2.74  2.888271 -0.148271  0.021984  0.148271\n",
       "210    2.00  3.795544 -1.795544  3.223980  1.795544\n",
       "239    5.92  3.722537  2.197463  4.828842  2.197463\n",
       "200    4.00  2.991048  1.008952  1.017984  1.008952\n",
       "191    4.19  2.801952  1.388048  1.926678  1.388048\n",
       "150    2.50  2.395096  0.104904  0.011005  0.104904\n",
       "9      3.23  2.445422  0.784578  0.615563  0.784578\n",
       "113    2.55  3.095398 -0.545398  0.297459  0.545398\n",
       "45     3.00  2.694213  0.305787  0.093506  0.305787\n",
       "209    2.23  2.302242 -0.072242  0.005219  0.072242\n",
       "228    2.72  2.339100  0.380900  0.145084  0.380900\n",
       "171    3.16  2.518429  0.641571  0.411614  0.641571\n",
       "82     1.83  1.844508 -0.014508  0.000210  0.014508\n",
       "161    2.50  2.295154  0.204846  0.041962  0.204846\n",
       "233    1.47  2.161190 -0.691190  0.477743  0.691190\n",
       "15     3.92  2.927411  0.992589  0.985234  0.992589\n",
       "66     2.47  2.563792 -0.093792  0.008797  0.093792\n",
       "127    2.00  2.426993 -0.426993  0.182323  0.426993\n",
       "33     2.45  3.398457 -0.948457  0.899570  0.948457\n",
       "19     3.35  3.128557  0.221443  0.049037  0.221443\n",
       "108    3.76  2.690669  1.069331  1.143469  1.069331\n",
       "30     1.45  2.074715 -0.624715  0.390269  0.624715\n",
       "185    5.00  3.665522  1.334478  1.780832  1.334478\n",
       "164    3.00  2.638926  0.361074  0.130374  0.361074\n",
       "10     1.71  2.125749 -0.415749  0.172848  0.415749\n",
       "73     5.00  3.189669  1.810331  3.277297  1.810331\n",
       "93     4.30  2.554578  1.745422  3.046498  1.745422\n",
       "155    5.14  4.314790  0.825210  0.680972  0.825210\n",
       "111    1.00  1.644624 -0.644624  0.415541  0.644624\n",
       "218    1.44  1.946421 -0.506421  0.256462  0.506421\n",
       "25     2.34  3.194320 -0.854320  0.729863  0.854320\n",
       "60     3.21  2.835974  0.374026  0.139895  0.374026\n",
       "18     3.50  2.867715  0.632285  0.399784  0.632285\n",
       "126    1.48  2.001708 -0.521708  0.272179  0.521708\n",
       "96     4.00  3.331431  0.668569  0.446985  0.668569\n",
       "196    2.00  2.130711 -0.130711  0.017085  0.130711\n",
       "137    2.00  2.400767 -0.400767  0.160614  0.400767\n",
       "241    2.00  3.004671 -1.004671  1.009363  1.004671\n",
       "75     1.25  2.142761 -0.892761  0.797022  0.892761\n",
       "117    1.50  2.152684 -0.652684  0.425996  0.652684\n",
       "112    4.00  4.363299 -0.363299  0.131986  0.363299\n",
       "16     1.67  2.397067 -0.727067  0.528627  0.727067\n",
       "195    1.44  1.933663 -0.493663  0.243703  0.493663\n",
       "67     1.00  1.348343 -0.348343  0.121343  0.348343\n",
       "167    4.50  4.179563  0.320437  0.102680  0.320437\n",
       "38     2.31  2.989630 -0.679630  0.461897  0.679630\n",
       "242    1.75  2.660899 -0.910899  0.829737  0.910899"
      ]
     },
     "execution_count": 83,
     "metadata": {},
     "output_type": "execute_result"
    }
   ],
   "source": [
    "compairing = pd.DataFrame(my_dict)\n",
    "compairing\n"
   ]
  },
  {
   "cell_type": "code",
   "execution_count": 84,
   "id": "ece76d8b-f88c-4ab6-90f7-513e5f3d3ce4",
   "metadata": {},
   "outputs": [
    {
     "data": {
      "text/html": [
       "<div>\n",
       "<style scoped>\n",
       "    .dataframe tbody tr th:only-of-type {\n",
       "        vertical-align: middle;\n",
       "    }\n",
       "\n",
       "    .dataframe tbody tr th {\n",
       "        vertical-align: top;\n",
       "    }\n",
       "\n",
       "    .dataframe thead th {\n",
       "        text-align: right;\n",
       "    }\n",
       "</style>\n",
       "<table border=\"1\" class=\"dataframe\">\n",
       "  <thead>\n",
       "    <tr style=\"text-align: right;\">\n",
       "      <th></th>\n",
       "      <th>Actual</th>\n",
       "      <th>Pred</th>\n",
       "      <th>Residual</th>\n",
       "    </tr>\n",
       "  </thead>\n",
       "  <tbody>\n",
       "    <tr>\n",
       "      <th>24</th>\n",
       "      <td>3.18</td>\n",
       "      <td>2.802661</td>\n",
       "      <td>0.377339</td>\n",
       "    </tr>\n",
       "    <tr>\n",
       "      <th>6</th>\n",
       "      <td>2.00</td>\n",
       "      <td>2.019428</td>\n",
       "      <td>-0.019428</td>\n",
       "    </tr>\n",
       "    <tr>\n",
       "      <th>152</th>\n",
       "      <td>2.74</td>\n",
       "      <td>2.888271</td>\n",
       "      <td>-0.148271</td>\n",
       "    </tr>\n",
       "    <tr>\n",
       "      <th>210</th>\n",
       "      <td>2.00</td>\n",
       "      <td>3.795544</td>\n",
       "      <td>-1.795544</td>\n",
       "    </tr>\n",
       "    <tr>\n",
       "      <th>239</th>\n",
       "      <td>5.92</td>\n",
       "      <td>3.722537</td>\n",
       "      <td>2.197463</td>\n",
       "    </tr>\n",
       "    <tr>\n",
       "      <th>200</th>\n",
       "      <td>4.00</td>\n",
       "      <td>2.991048</td>\n",
       "      <td>1.008952</td>\n",
       "    </tr>\n",
       "    <tr>\n",
       "      <th>191</th>\n",
       "      <td>4.19</td>\n",
       "      <td>2.801952</td>\n",
       "      <td>1.388048</td>\n",
       "    </tr>\n",
       "    <tr>\n",
       "      <th>150</th>\n",
       "      <td>2.50</td>\n",
       "      <td>2.395096</td>\n",
       "      <td>0.104904</td>\n",
       "    </tr>\n",
       "    <tr>\n",
       "      <th>9</th>\n",
       "      <td>3.23</td>\n",
       "      <td>2.445422</td>\n",
       "      <td>0.784578</td>\n",
       "    </tr>\n",
       "    <tr>\n",
       "      <th>113</th>\n",
       "      <td>2.55</td>\n",
       "      <td>3.095398</td>\n",
       "      <td>-0.545398</td>\n",
       "    </tr>\n",
       "    <tr>\n",
       "      <th>45</th>\n",
       "      <td>3.00</td>\n",
       "      <td>2.694213</td>\n",
       "      <td>0.305787</td>\n",
       "    </tr>\n",
       "    <tr>\n",
       "      <th>209</th>\n",
       "      <td>2.23</td>\n",
       "      <td>2.302242</td>\n",
       "      <td>-0.072242</td>\n",
       "    </tr>\n",
       "    <tr>\n",
       "      <th>228</th>\n",
       "      <td>2.72</td>\n",
       "      <td>2.339100</td>\n",
       "      <td>0.380900</td>\n",
       "    </tr>\n",
       "    <tr>\n",
       "      <th>171</th>\n",
       "      <td>3.16</td>\n",
       "      <td>2.518429</td>\n",
       "      <td>0.641571</td>\n",
       "    </tr>\n",
       "    <tr>\n",
       "      <th>82</th>\n",
       "      <td>1.83</td>\n",
       "      <td>1.844508</td>\n",
       "      <td>-0.014508</td>\n",
       "    </tr>\n",
       "    <tr>\n",
       "      <th>161</th>\n",
       "      <td>2.50</td>\n",
       "      <td>2.295154</td>\n",
       "      <td>0.204846</td>\n",
       "    </tr>\n",
       "    <tr>\n",
       "      <th>233</th>\n",
       "      <td>1.47</td>\n",
       "      <td>2.161190</td>\n",
       "      <td>-0.691190</td>\n",
       "    </tr>\n",
       "    <tr>\n",
       "      <th>15</th>\n",
       "      <td>3.92</td>\n",
       "      <td>2.927411</td>\n",
       "      <td>0.992589</td>\n",
       "    </tr>\n",
       "    <tr>\n",
       "      <th>66</th>\n",
       "      <td>2.47</td>\n",
       "      <td>2.563792</td>\n",
       "      <td>-0.093792</td>\n",
       "    </tr>\n",
       "    <tr>\n",
       "      <th>127</th>\n",
       "      <td>2.00</td>\n",
       "      <td>2.426993</td>\n",
       "      <td>-0.426993</td>\n",
       "    </tr>\n",
       "    <tr>\n",
       "      <th>33</th>\n",
       "      <td>2.45</td>\n",
       "      <td>3.398457</td>\n",
       "      <td>-0.948457</td>\n",
       "    </tr>\n",
       "    <tr>\n",
       "      <th>19</th>\n",
       "      <td>3.35</td>\n",
       "      <td>3.128557</td>\n",
       "      <td>0.221443</td>\n",
       "    </tr>\n",
       "    <tr>\n",
       "      <th>108</th>\n",
       "      <td>3.76</td>\n",
       "      <td>2.690669</td>\n",
       "      <td>1.069331</td>\n",
       "    </tr>\n",
       "    <tr>\n",
       "      <th>30</th>\n",
       "      <td>1.45</td>\n",
       "      <td>2.074715</td>\n",
       "      <td>-0.624715</td>\n",
       "    </tr>\n",
       "    <tr>\n",
       "      <th>185</th>\n",
       "      <td>5.00</td>\n",
       "      <td>3.665522</td>\n",
       "      <td>1.334478</td>\n",
       "    </tr>\n",
       "    <tr>\n",
       "      <th>164</th>\n",
       "      <td>3.00</td>\n",
       "      <td>2.638926</td>\n",
       "      <td>0.361074</td>\n",
       "    </tr>\n",
       "    <tr>\n",
       "      <th>10</th>\n",
       "      <td>1.71</td>\n",
       "      <td>2.125749</td>\n",
       "      <td>-0.415749</td>\n",
       "    </tr>\n",
       "    <tr>\n",
       "      <th>73</th>\n",
       "      <td>5.00</td>\n",
       "      <td>3.189669</td>\n",
       "      <td>1.810331</td>\n",
       "    </tr>\n",
       "    <tr>\n",
       "      <th>93</th>\n",
       "      <td>4.30</td>\n",
       "      <td>2.554578</td>\n",
       "      <td>1.745422</td>\n",
       "    </tr>\n",
       "    <tr>\n",
       "      <th>155</th>\n",
       "      <td>5.14</td>\n",
       "      <td>4.314790</td>\n",
       "      <td>0.825210</td>\n",
       "    </tr>\n",
       "    <tr>\n",
       "      <th>111</th>\n",
       "      <td>1.00</td>\n",
       "      <td>1.644624</td>\n",
       "      <td>-0.644624</td>\n",
       "    </tr>\n",
       "    <tr>\n",
       "      <th>218</th>\n",
       "      <td>1.44</td>\n",
       "      <td>1.946421</td>\n",
       "      <td>-0.506421</td>\n",
       "    </tr>\n",
       "    <tr>\n",
       "      <th>25</th>\n",
       "      <td>2.34</td>\n",
       "      <td>3.194320</td>\n",
       "      <td>-0.854320</td>\n",
       "    </tr>\n",
       "    <tr>\n",
       "      <th>60</th>\n",
       "      <td>3.21</td>\n",
       "      <td>2.835974</td>\n",
       "      <td>0.374026</td>\n",
       "    </tr>\n",
       "    <tr>\n",
       "      <th>18</th>\n",
       "      <td>3.50</td>\n",
       "      <td>2.867715</td>\n",
       "      <td>0.632285</td>\n",
       "    </tr>\n",
       "    <tr>\n",
       "      <th>126</th>\n",
       "      <td>1.48</td>\n",
       "      <td>2.001708</td>\n",
       "      <td>-0.521708</td>\n",
       "    </tr>\n",
       "    <tr>\n",
       "      <th>96</th>\n",
       "      <td>4.00</td>\n",
       "      <td>3.331431</td>\n",
       "      <td>0.668569</td>\n",
       "    </tr>\n",
       "    <tr>\n",
       "      <th>196</th>\n",
       "      <td>2.00</td>\n",
       "      <td>2.130711</td>\n",
       "      <td>-0.130711</td>\n",
       "    </tr>\n",
       "    <tr>\n",
       "      <th>137</th>\n",
       "      <td>2.00</td>\n",
       "      <td>2.400767</td>\n",
       "      <td>-0.400767</td>\n",
       "    </tr>\n",
       "    <tr>\n",
       "      <th>241</th>\n",
       "      <td>2.00</td>\n",
       "      <td>3.004671</td>\n",
       "      <td>-1.004671</td>\n",
       "    </tr>\n",
       "    <tr>\n",
       "      <th>75</th>\n",
       "      <td>1.25</td>\n",
       "      <td>2.142761</td>\n",
       "      <td>-0.892761</td>\n",
       "    </tr>\n",
       "    <tr>\n",
       "      <th>117</th>\n",
       "      <td>1.50</td>\n",
       "      <td>2.152684</td>\n",
       "      <td>-0.652684</td>\n",
       "    </tr>\n",
       "    <tr>\n",
       "      <th>112</th>\n",
       "      <td>4.00</td>\n",
       "      <td>4.363299</td>\n",
       "      <td>-0.363299</td>\n",
       "    </tr>\n",
       "    <tr>\n",
       "      <th>16</th>\n",
       "      <td>1.67</td>\n",
       "      <td>2.397067</td>\n",
       "      <td>-0.727067</td>\n",
       "    </tr>\n",
       "    <tr>\n",
       "      <th>195</th>\n",
       "      <td>1.44</td>\n",
       "      <td>1.933663</td>\n",
       "      <td>-0.493663</td>\n",
       "    </tr>\n",
       "    <tr>\n",
       "      <th>67</th>\n",
       "      <td>1.00</td>\n",
       "      <td>1.348343</td>\n",
       "      <td>-0.348343</td>\n",
       "    </tr>\n",
       "    <tr>\n",
       "      <th>167</th>\n",
       "      <td>4.50</td>\n",
       "      <td>4.179563</td>\n",
       "      <td>0.320437</td>\n",
       "    </tr>\n",
       "    <tr>\n",
       "      <th>38</th>\n",
       "      <td>2.31</td>\n",
       "      <td>2.989630</td>\n",
       "      <td>-0.679630</td>\n",
       "    </tr>\n",
       "    <tr>\n",
       "      <th>242</th>\n",
       "      <td>1.75</td>\n",
       "      <td>2.660899</td>\n",
       "      <td>-0.910899</td>\n",
       "    </tr>\n",
       "  </tbody>\n",
       "</table>\n",
       "</div>"
      ],
      "text/plain": [
       "     Actual      Pred  Residual\n",
       "24     3.18  2.802661  0.377339\n",
       "6      2.00  2.019428 -0.019428\n",
       "152    2.74  2.888271 -0.148271\n",
       "210    2.00  3.795544 -1.795544\n",
       "239    5.92  3.722537  2.197463\n",
       "200    4.00  2.991048  1.008952\n",
       "191    4.19  2.801952  1.388048\n",
       "150    2.50  2.395096  0.104904\n",
       "9      3.23  2.445422  0.784578\n",
       "113    2.55  3.095398 -0.545398\n",
       "45     3.00  2.694213  0.305787\n",
       "209    2.23  2.302242 -0.072242\n",
       "228    2.72  2.339100  0.380900\n",
       "171    3.16  2.518429  0.641571\n",
       "82     1.83  1.844508 -0.014508\n",
       "161    2.50  2.295154  0.204846\n",
       "233    1.47  2.161190 -0.691190\n",
       "15     3.92  2.927411  0.992589\n",
       "66     2.47  2.563792 -0.093792\n",
       "127    2.00  2.426993 -0.426993\n",
       "33     2.45  3.398457 -0.948457\n",
       "19     3.35  3.128557  0.221443\n",
       "108    3.76  2.690669  1.069331\n",
       "30     1.45  2.074715 -0.624715\n",
       "185    5.00  3.665522  1.334478\n",
       "164    3.00  2.638926  0.361074\n",
       "10     1.71  2.125749 -0.415749\n",
       "73     5.00  3.189669  1.810331\n",
       "93     4.30  2.554578  1.745422\n",
       "155    5.14  4.314790  0.825210\n",
       "111    1.00  1.644624 -0.644624\n",
       "218    1.44  1.946421 -0.506421\n",
       "25     2.34  3.194320 -0.854320\n",
       "60     3.21  2.835974  0.374026\n",
       "18     3.50  2.867715  0.632285\n",
       "126    1.48  2.001708 -0.521708\n",
       "96     4.00  3.331431  0.668569\n",
       "196    2.00  2.130711 -0.130711\n",
       "137    2.00  2.400767 -0.400767\n",
       "241    2.00  3.004671 -1.004671\n",
       "75     1.25  2.142761 -0.892761\n",
       "117    1.50  2.152684 -0.652684\n",
       "112    4.00  4.363299 -0.363299\n",
       "16     1.67  2.397067 -0.727067\n",
       "195    1.44  1.933663 -0.493663\n",
       "67     1.00  1.348343 -0.348343\n",
       "167    4.50  4.179563  0.320437\n",
       "38     2.31  2.989630 -0.679630\n",
       "242    1.75  2.660899 -0.910899"
      ]
     },
     "execution_count": 84,
     "metadata": {},
     "output_type": "execute_result"
    }
   ],
   "source": [
    "# create a dataframe from actual, predicton and errors (residuals)\n",
    "result_sample = compairing.iloc[:, :3]\n",
    "result_sample"
   ]
  },
  {
   "cell_type": "code",
   "execution_count": 85,
   "id": "321e5df0-613d-4f39-b091-4c1d0e1d27df",
   "metadata": {},
   "outputs": [
    {
     "data": {
      "image/png": "[encoded data removed]",
      "text/plain": [
       "<Figure size 1224x720 with 1 Axes>"
      ]
     },
     "metadata": {
      "needs_background": "light"
     },
     "output_type": "display_data"
    }
   ],
   "source": [
    "result_sample.plot(kind =\"bar\", figsize=(17,10))\n",
    "plt.show();"
   ]
  },
  {
   "cell_type": "markdown",
   "id": "808d9f52-98b3-4dcf-ba0b-ca167160b756",
   "metadata": {},
   "source": [
    "**Evaluation metrics - Error metrics**"
   ]
  },
  {
   "cell_type": "code",
   "execution_count": 86,
   "id": "c6fe9b07-6a03-4bdd-87b8-a3c88a337403",
   "metadata": {},
   "outputs": [],
   "source": [
    "from sklearn.metrics import mean_absolute_error, mean_squared_error, r2_score"
   ]
  },
  {
   "cell_type": "code",
   "execution_count": 87,
   "id": "856a4491-fe2d-4f86-af90-4b1b1ecc5ab8",
   "metadata": {},
   "outputs": [],
   "source": [
    "# model testing performance\n",
    "def eval_metric(actual, pred):\n",
    "    mae = mean_absolute_error(actual, pred)\n",
    "    mse = mean_squared_error(actual, pred)\n",
    "    rmse = np.sqrt(mean_squared_error(actual, pred))\n",
    "    R2_score = r2_score(actual, pred)\n",
    "    print(\"Model testing performance:\")\n",
    "    print(\"--------------------------\")\n",
    "    print(f\"R2_score : {R2_score}\")\n",
    "    print(f\"MAE {'':<5}: {mae}\")\n",
    "    print(f\"MSE {'':<5}: {mse}\")\n",
    "    print(f\"RMSE{'':<5}: {rmse}\")"
   ]
  },
  {
   "cell_type": "code",
   "execution_count": 88,
   "id": "207af8f8-2d59-4fd2-8591-a19394c214f0",
   "metadata": {},
   "outputs": [
    {
     "name": "stdout",
     "output_type": "stream",
     "text": [
      "Model testing performance:\n",
      "--------------------------\n",
      "R2_score : 0.5151063785840937\n",
      "MAE      : 0.6668865361003258\n",
      "MSE      : 0.6836710054783789\n",
      "RMSE     : 0.8268440031096428\n"
     ]
    }
   ],
   "source": [
    "eval_metric(y_test, y_pred)\n"
   ]
  },
  {
   "cell_type": "code",
   "execution_count": 114,
   "id": "3d681bfa-5958-4222-b04e-2f8b527a66a0",
   "metadata": {},
   "outputs": [
    {
     "data": {
      "text/plain": [
       "0.2808053113370197"
      ]
     },
     "execution_count": 114,
     "metadata": {},
     "output_type": "execute_result"
    }
   ],
   "source": [
    "rmse = np.sqrt(mean_squared_error(y_test, y_pred))\n",
    "rmse / df.tip.mean()\n",
    "\n",
    "# as it can be seen from the RMSE, the model has an average 28% error rate. Therefore, it should be fed with additional features."
   ]
  },
  {
   "cell_type": "code",
   "execution_count": 90,
   "id": "5f4aa166-3a9a-4fcf-8806-96b66b6c5dea",
   "metadata": {},
   "outputs": [],
   "source": [
    "y_train_pred = model.predict(X_train)\n"
   ]
  },
  {
   "cell_type": "code",
   "execution_count": 89,
   "id": "2c511239-940f-41e7-a0bd-274e724e828a",
   "metadata": {},
   "outputs": [],
   "source": [
    "# model training performance\n",
    "def eval_metric_train(actual, pred):\n",
    "    mae = mean_absolute_error(actual, pred)\n",
    "    mse = mean_squared_error(actual, pred)\n",
    "    rmse = np.sqrt(mean_squared_error(actual, pred))\n",
    "    R2_score = r2_score(actual, pred)\n",
    "    print(\"Model training performance:\")\n",
    "    print(\"--------------------------\")\n",
    "    print(f\"R2_score : {R2_score}\")\n",
    "    print(f\"MAE {'':<5}: {mae}\")\n",
    "    print(f\"MSE {'':<5}: {mse}\")\n",
    "    print(f\"RMSE{'':<5}: {rmse}\")"
   ]
  },
  {
   "cell_type": "code",
   "execution_count": 91,
   "id": "365670e2-b9e3-4470-9962-b26dfd85fffe",
   "metadata": {},
   "outputs": [
    {
     "name": "stdout",
     "output_type": "stream",
     "text": [
      "Model training performance:\n",
      "--------------------------\n",
      "R2_score : 0.3989048901818595\n",
      "MAE      : 0.7392611709904122\n",
      "MSE      : 0.9600462655604254\n",
      "RMSE     : 0.9798195066237584\n"
     ]
    }
   ],
   "source": [
    "eval_metric_train(y_train, y_train_pred)\n"
   ]
  },
  {
   "cell_type": "markdown",
   "id": "37a0c1a1-e7ec-49e1-b181-69c0a48af7de",
   "metadata": {},
   "source": [
    "# Is data suitable for linear regression?"
   ]
  },
  {
   "cell_type": "markdown",
   "id": "8289451a-fcfc-4e88-8c5f-82e579a87419",
   "metadata": {},
   "source": [
    "**Plotting residuals**"
   ]
  },
  {
   "cell_type": "code",
   "execution_count": 92,
   "id": "2feea9a6-3a6c-4322-b247-4d31d8b79097",
   "metadata": {},
   "outputs": [],
   "source": [
    "residuals = y_test-y_pred"
   ]
  },
  {
   "cell_type": "code",
   "execution_count": 93,
   "id": "0dbc3a72-b2ce-426d-a1ff-2eb92906f105",
   "metadata": {},
   "outputs": [
    {
     "data": {
      "image/png": "[encoded data removed]",
      "text/plain": [
       "<Figure size 720x432 with 1 Axes>"
      ]
     },
     "metadata": {
      "needs_background": "light"
     },
     "output_type": "display_data"
    }
   ],
   "source": [
    "plt.figure(figsize = (10,6))\n",
    "sns.scatterplot(x = y_pred, y = residuals) #-residuals\n",
    "plt.axhline(y = 0, color =\"r\", linestyle = \"--\")\n",
    "plt.ylabel(\"residuals\")\n",
    "plt.show();\n",
    "\n",
    "# residuals;\n",
    "# 1. is the distribution random and homoskedasticity\n",
    "# 2. does the distribution has a similar pattern to normal dist\n",
    "#"
   ]
  },
  {
   "cell_type": "code",
   "execution_count": 94,
   "id": "2a3757ba-af23-48cb-b920-1b8bc7d0f368",
   "metadata": {},
   "outputs": [
    {
     "data": {
      "image/png": "[encoded data removed]",
      "text/plain": [
       "<Figure size 504x288 with 1 Axes>"
      ]
     },
     "metadata": {
      "needs_background": "light"
     },
     "output_type": "display_data"
    }
   ],
   "source": [
    "# check kde plot to see if the data is suitable for lin reg\n",
    "sns.kdeplot(residuals)\n",
    "plt.show();"
   ]
  },
  {
   "cell_type": "code",
   "execution_count": 95,
   "id": "04389da8-c536-403b-bd0d-540cbfb2706a",
   "metadata": {},
   "outputs": [
    {
     "data": {
      "image/png": "[encoded data removed]",
      "text/plain": [
       "<Figure size 504x288 with 1 Axes>"
      ]
     },
     "metadata": {
      "needs_background": "light"
     },
     "output_type": "display_data"
    }
   ],
   "source": [
    "# check the probability plot\n",
    "stats.probplot(residuals, dist =\"norm\", plot =plt)\n",
    "plt.show();"
   ]
  },
  {
   "cell_type": "code",
   "execution_count": 96,
   "id": "e1cd638b-4799-4d4e-b439-75339860ad41",
   "metadata": {},
   "outputs": [
    {
     "data": {
      "text/plain": [
       "0.5124763776869403"
      ]
     },
     "execution_count": 96,
     "metadata": {},
     "output_type": "execute_result"
    }
   ],
   "source": [
    "# check the skewness\n",
    "from scipy.stats import skew\n",
    "skew(residuals)\n",
    "\n",
    "# skew has a score between -0.5 to +0.5, this means that the data is very suitable for a normal dist\n"
   ]
  },
  {
   "cell_type": "code",
   "execution_count": 101,
   "id": "df56e0a7-c200-42d6-bb09-7b001e480681",
   "metadata": {},
   "outputs": [],
   "source": [
    "# !pip install yellowbrick"
   ]
  },
  {
   "cell_type": "code",
   "execution_count": 102,
   "id": "55a1da91-60c5-4455-ae28-9b2461efa44e",
   "metadata": {},
   "outputs": [
    {
     "data": {
      "image/png": "[encoded data removed]",
      "text/plain": [
       "<Figure size 576x396 with 2 Axes>"
      ]
     },
     "metadata": {},
     "output_type": "display_data"
    }
   ],
   "source": [
    "# we can also check it with a residualplot from the yellowbrick library\n",
    "\n",
    "from yellowbrick.regressor import ResidualsPlot\n",
    "\n",
    "# Instantiate the linear model and visualizer\n",
    "model = LinearRegression()\n",
    "visualizer = ResidualsPlot(model)\n",
    "\n",
    "visualizer.fit(X_train, y_train)  # Fit the training data to the visualizer\n",
    "visualizer.score(X_test, y_test)  # Evaluate the model on the test data\n",
    "visualizer.show();                # Finalize and render the figure"
   ]
  },
  {
   "cell_type": "markdown",
   "id": "e8f87282-791d-4b42-8cd9-50cf296cfe6c",
   "metadata": {},
   "source": [
    "**Prediction Error for LinearRegression**"
   ]
  },
  {
   "cell_type": "code",
   "execution_count": 103,
   "id": "d525a6bb-7514-45d4-bf4b-3344012f05d1",
   "metadata": {},
   "outputs": [
    {
     "data": {
      "image/png": "[encoded data removed]",
      "text/plain": [
       "<Figure size 576x396 with 1 Axes>"
      ]
     },
     "metadata": {},
     "output_type": "display_data"
    }
   ],
   "source": [
    "from yellowbrick.regressor import PredictionError\n",
    "# Instantiate the linear model and visualizer\n",
    "model = LinearRegression()\n",
    "visualizer = PredictionError(model)\n",
    "\n",
    "visualizer.fit(X_train, y_train)  # Fit the training data to the visualizer\n",
    "visualizer.score(X_test, y_test)  # Evaluate the model on the test data\n",
    "visualizer.show();"
   ]
  },
  {
   "cell_type": "markdown",
   "id": "3e4f6eb1-80c2-4b12-bdbd-44dad024b4fc",
   "metadata": {},
   "source": [
    "**Retraining Model on Full Data**"
   ]
  },
  {
   "cell_type": "code",
   "execution_count": 104,
   "id": "0ba3c089-8d4b-4220-8d15-f80e2f2570bd",
   "metadata": {},
   "outputs": [],
   "source": [
    "final_model = LinearRegression()\n"
   ]
  },
  {
   "cell_type": "code",
   "execution_count": 105,
   "id": "83b8d347-f590-46f1-961c-0423467a2b78",
   "metadata": {},
   "outputs": [
    {
     "data": {
      "text/plain": [
       "LinearRegression()"
      ]
     },
     "execution_count": 105,
     "metadata": {},
     "output_type": "execute_result"
    }
   ],
   "source": [
    "final_model.fit(X, y)\n"
   ]
  },
  {
   "cell_type": "code",
   "execution_count": 106,
   "id": "bcaa9405-c140-4e09-b3e7-ed173590aaf2",
   "metadata": {},
   "outputs": [
    {
     "data": {
      "text/plain": [
       "array([0.07636529, 0.25249702])"
      ]
     },
     "execution_count": 106,
     "metadata": {},
     "output_type": "execute_result"
    }
   ],
   "source": [
    "# coefficients\n",
    "final_model.coef_\n"
   ]
  },
  {
   "cell_type": "code",
   "execution_count": 107,
   "id": "fda92a9b-c41e-4f1b-a0ae-cdcb2e83bdef",
   "metadata": {},
   "outputs": [
    {
     "data": {
      "text/plain": [
       "0.8054903245390581"
      ]
     },
     "execution_count": 107,
     "metadata": {},
     "output_type": "execute_result"
    }
   ],
   "source": [
    "final_model.intercept\n",
    "_"
   ]
  },
  {
   "cell_type": "markdown",
   "id": "6c9a76c5-55a5-4444-a4de-21d004de1658",
   "metadata": {},
   "source": [
    "**Prediction on New Data**"
   ]
  },
  {
   "cell_type": "code",
   "execution_count": 110,
   "id": "d5ba6209-0bea-49b7-b198-9b411ba36160",
   "metadata": {},
   "outputs": [],
   "source": [
    "new_cust = [[30, 3], [35, 3], [40,3,], [40,4]]\n"
   ]
  },
  {
   "cell_type": "code",
   "execution_count": 111,
   "id": "0e9687cd-53d0-4f6e-916c-f80f1d424175",
   "metadata": {},
   "outputs": [
    {
     "data": {
      "text/plain": [
       "array([3.85394001, 4.23576645, 4.61759288, 4.8700899 ])"
      ]
     },
     "execution_count": 111,
     "metadata": {},
     "output_type": "execute_result"
    }
   ],
   "source": [
    "final_model.predict(new_cust)\n"
   ]
  },
  {
   "cell_type": "code",
   "execution_count": 112,
   "id": "0c97df6b-8da3-402f-92ba-db408c99f62c",
   "metadata": {},
   "outputs": [
    {
     "data": {
      "text/plain": [
       "0.76365287"
      ]
     },
     "execution_count": 112,
     "metadata": {},
     "output_type": "execute_result"
    }
   ],
   "source": [
    "4.61759288-3.85394001\n",
    "# total_bill coef\n"
   ]
  },
  {
   "cell_type": "code",
   "execution_count": null,
   "id": "06cfebb2-3029-44fb-92a5-317ae9c229ed",
   "metadata": {},
   "outputs": [],
   "source": []
  }
 ],
 "metadata": {
  "kernelspec": {
   "display_name": "Python 3 (ipykernel)",
   "language": "python",
   "name": "python3"
  },
  "language_info": {
   "codemirror_mode": {
    "name": "ipython",
    "version": 3
   },
   "file_extension": ".py",
   "mimetype": "text/x-python",
   "name": "python",
   "nbconvert_exporter": "python",
   "pygments_lexer": "ipython3",
   "version": "3.9.12"
  }
 },
 "nbformat": 4,
 "nbformat_minor": 5
}
