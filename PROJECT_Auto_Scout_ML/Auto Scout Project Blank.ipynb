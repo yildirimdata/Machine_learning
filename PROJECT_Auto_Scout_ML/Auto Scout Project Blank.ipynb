{
 "cells": [
  {
   "cell_type": "markdown",
   "metadata": {
    "id": "4UCsvzbImqZN"
   },
   "source": [
    "___\n",
    "\n",
    "<p style=\"text-align: center;\"><img src=\"https://docs.google.com/uc?id=1lY0Uj5R04yMY3-ZppPWxqCr5pvBLYPnV\" class=\"img-fluid\" alt=\"CLRSWY\"></p>\n",
    "\n",
    "___"
   ]
  },
  {
   "cell_type": "markdown",
   "metadata": {
    "id": "i5WapR8JmqZN"
   },
   "source": [
    "# WELCOME!"
   ]
  },
  {
   "cell_type": "markdown",
   "metadata": {
    "id": "ZyeGWbuTmqZN"
   },
   "source": [
    "Welcome to \"***Car Price Prediction Project***\". This is the first medium project of ***Machine Learning*** course. In this project you will have the opportunity to apply many algorithms commonly used for regression problems.\n",
    "\n",
    "Also, you will apply various processes such as pre-processing, ***train-test spilit*** and ***cross validation*** that you will use in algorithm modeling and prediction processes in Python with ***scikit-learn***. \n",
    "\n",
    "Before diving into the project, please take a look at the determines and tasks.\n",
    "\n",
    "- **NOTE:** This project assumes that you already know the basics of coding in Python. You should also be familiar with the theory behind regression algorithms and scikit-learn module as well as Machine Learning before you begin.\n"
   ]
  },
  {
   "cell_type": "markdown",
   "metadata": {
    "id": "c0Iul5QymqZN"
   },
   "source": [
    "# #Determines\n",
    "\n",
    "**Auto Scout** data which using for this project, scraped from the on-line car trading company(https://www.autoscout24.com), contains many features of different car models. In this project, you will use the data set which is already preprocessed and prepared for algorithms .\n",
    "\n",
    "The aim of this project to understand of machine learning algorithms. Therefore, you will not need any EDA process as you will be working on the edited data.\n",
    "\n",
    "---\n",
    "\n",
    "In this Senario, you will estimate the prices of cars using regression algorithms.\n",
    "\n",
    "While starting you should import the necessary modules and load the data given as pkl file. Also you'll need to do a few pre-processing before moving to modelling. After that you will implement ***Linear Regression, Ridge Regression, Lasso Regression,and Elastic-Net algorithms respectively*** (After completion of Unsupervised Learning section, you can also add bagging and boosting algorithms such as ***Random Forest and XG Boost*** this notebook to develop the project. You can measure the success of your models with regression evaluation metrics as well as with cross validation method.\n",
    "\n",
    "For the better results, you should try to increase the success of your models by performing hyperparameter tuning. Determine feature importances for the model. You can set your model with the most important features for resource saving. You should try to apply this especially in Random Forest and XG Boost algorithms. Unlike the others, you will perform hyperparameter tuning for Random Forest and XG Boost using the ***GridSearchCV*** method. \n",
    "\n",
    "Finally You can compare the performances of algorithms, work more on the algorithm have the most successful prediction rate.\n",
    "\n",
    "\n",
    "\n",
    "\n"
   ]
  },
  {
   "cell_type": "markdown",
   "metadata": {
    "id": "pL-jJ1irmqZN"
   },
   "source": [
    "# #Tasks\n",
    "\n",
    "#### 1. Import Modules, Load Data and Data Review\n",
    "#### 2. Data Pre-Processing\n",
    "#### 3. Implement Linear Regression \n",
    "#### 4. Implement Ridge Regression\n",
    "#### 5. Implement Lasso Regression \n",
    "#### 6. Implement Elastic-Net\n",
    "#### 7. Visually Compare Models Performance In a Graph"
   ]
  },
  {
   "cell_type": "markdown",
   "metadata": {
    "id": "Rik6d_vimqZN"
   },
   "source": [
    "## 1. Import Modules, Load Data and Data Review"
   ]
  },
  {
   "cell_type": "code",
   "execution_count": 1,
   "metadata": {
    "id": "QBddHlqgmqZN"
   },
   "outputs": [],
   "source": [
    "import numpy as np\n",
    "import pandas as pd\n",
    "import matplotlib.pyplot as plt\n",
    "import seaborn as sns\n",
    "%matplotlib inline\n",
    "\n",
    "plt.rcParams[\"figure.figsize\"] = (10,6)\n",
    "pd.set_option('display.max_columns', 100)\n",
    "import warnings\n",
    "warnings.filterwarnings('ignore')"
   ]
  },
  {
   "cell_type": "code",
   "execution_count": 5,
   "metadata": {},
   "outputs": [
    {
     "name": "stdout",
     "output_type": "stream",
     "text": [
      "<class 'pandas.core.frame.DataFrame'>\n",
      "RangeIndex: 15909 entries, 0 to 15908\n",
      "Data columns (total 23 columns):\n",
      " #   Column                       Non-Null Count  Dtype  \n",
      "---  ------                       --------------  -----  \n",
      " 0   make_model                   15909 non-null  object \n",
      " 1   body_type                    15909 non-null  object \n",
      " 2   price                        15909 non-null  int64  \n",
      " 3   km                           15909 non-null  float64\n",
      " 4   Type                         15909 non-null  object \n",
      " 5   Fuel                         15909 non-null  object \n",
      " 6   Extras                       15909 non-null  object \n",
      " 7   Gears                        15909 non-null  float64\n",
      " 8   age                          15909 non-null  float64\n",
      " 9   Previous_Owners              15909 non-null  float64\n",
      " 10  hp_kW                        15909 non-null  float64\n",
      " 11  Inspection_new               15909 non-null  int64  \n",
      " 12  Paint_Type                   15909 non-null  object \n",
      " 13  Upholstery_type              15909 non-null  object \n",
      " 14  Gearing_Type                 15909 non-null  object \n",
      " 15  Displacement_cc              15909 non-null  float64\n",
      " 16  Weight_kg                    15909 non-null  float64\n",
      " 17  Drive_chain                  15909 non-null  object \n",
      " 18  cons_comb                    15909 non-null  float64\n",
      " 19  CO2_Emission                 15909 non-null  float64\n",
      " 20  Comfort_Convenience_Package  15909 non-null  object \n",
      " 21  Entertainment_Media_Package  15909 non-null  object \n",
      " 22  Safety_Security_Package      15909 non-null  object \n",
      "dtypes: float64(9), int64(2), object(12)\n",
      "memory usage: 2.8+ MB\n"
     ]
    }
   ],
   "source": [
    "df = pd.read_csv(\"final_scout_not_dummy2.csv\")\n",
    "df.info()"
   ]
  },
  {
   "cell_type": "code",
   "execution_count": 6,
   "metadata": {},
   "outputs": [
    {
     "data": {
      "text/html": [
       "<div>\n",
       "<style scoped>\n",
       "    .dataframe tbody tr th:only-of-type {\n",
       "        vertical-align: middle;\n",
       "    }\n",
       "\n",
       "    .dataframe tbody tr th {\n",
       "        vertical-align: top;\n",
       "    }\n",
       "\n",
       "    .dataframe thead th {\n",
       "        text-align: right;\n",
       "    }\n",
       "</style>\n",
       "<table border=\"1\" class=\"dataframe\">\n",
       "  <thead>\n",
       "    <tr style=\"text-align: right;\">\n",
       "      <th></th>\n",
       "      <th>make_model</th>\n",
       "      <th>body_type</th>\n",
       "      <th>price</th>\n",
       "      <th>km</th>\n",
       "      <th>Type</th>\n",
       "      <th>Fuel</th>\n",
       "      <th>Extras</th>\n",
       "      <th>Gears</th>\n",
       "      <th>age</th>\n",
       "      <th>Previous_Owners</th>\n",
       "      <th>hp_kW</th>\n",
       "      <th>Inspection_new</th>\n",
       "      <th>Paint_Type</th>\n",
       "      <th>Upholstery_type</th>\n",
       "      <th>Gearing_Type</th>\n",
       "      <th>Displacement_cc</th>\n",
       "      <th>Weight_kg</th>\n",
       "      <th>Drive_chain</th>\n",
       "      <th>cons_comb</th>\n",
       "      <th>CO2_Emission</th>\n",
       "      <th>Comfort_Convenience_Package</th>\n",
       "      <th>Entertainment_Media_Package</th>\n",
       "      <th>Safety_Security_Package</th>\n",
       "    </tr>\n",
       "  </thead>\n",
       "  <tbody>\n",
       "    <tr>\n",
       "      <th>0</th>\n",
       "      <td>Audi A1</td>\n",
       "      <td>Sedans</td>\n",
       "      <td>15770</td>\n",
       "      <td>56013.0</td>\n",
       "      <td>Used</td>\n",
       "      <td>Diesel</td>\n",
       "      <td>Alloy wheels, Catalytic Converter, Voice Control</td>\n",
       "      <td>7.0</td>\n",
       "      <td>3.0</td>\n",
       "      <td>2.0</td>\n",
       "      <td>66.0</td>\n",
       "      <td>1</td>\n",
       "      <td>Metallic</td>\n",
       "      <td>Cloth</td>\n",
       "      <td>Automatic</td>\n",
       "      <td>1422.0</td>\n",
       "      <td>1220.0</td>\n",
       "      <td>front</td>\n",
       "      <td>3.8</td>\n",
       "      <td>99.0</td>\n",
       "      <td>Premium</td>\n",
       "      <td>Plus</td>\n",
       "      <td>Safety Premium Package</td>\n",
       "    </tr>\n",
       "    <tr>\n",
       "      <th>1</th>\n",
       "      <td>Audi A1</td>\n",
       "      <td>Sedans</td>\n",
       "      <td>14500</td>\n",
       "      <td>80000.0</td>\n",
       "      <td>Used</td>\n",
       "      <td>Benzine</td>\n",
       "      <td>Alloy wheels, Sport seats, Sport suspension, V...</td>\n",
       "      <td>7.0</td>\n",
       "      <td>2.0</td>\n",
       "      <td>1.0</td>\n",
       "      <td>141.0</td>\n",
       "      <td>0</td>\n",
       "      <td>Metallic</td>\n",
       "      <td>Cloth</td>\n",
       "      <td>Automatic</td>\n",
       "      <td>1798.0</td>\n",
       "      <td>1255.0</td>\n",
       "      <td>front</td>\n",
       "      <td>5.6</td>\n",
       "      <td>129.0</td>\n",
       "      <td>Standard</td>\n",
       "      <td>Plus</td>\n",
       "      <td>Safety Premium Package</td>\n",
       "    </tr>\n",
       "    <tr>\n",
       "      <th>2</th>\n",
       "      <td>Audi A1</td>\n",
       "      <td>Sedans</td>\n",
       "      <td>14640</td>\n",
       "      <td>83450.0</td>\n",
       "      <td>Used</td>\n",
       "      <td>Diesel</td>\n",
       "      <td>Alloy wheels, Voice Control</td>\n",
       "      <td>7.0</td>\n",
       "      <td>3.0</td>\n",
       "      <td>1.0</td>\n",
       "      <td>85.0</td>\n",
       "      <td>0</td>\n",
       "      <td>Metallic</td>\n",
       "      <td>Cloth</td>\n",
       "      <td>Automatic</td>\n",
       "      <td>1598.0</td>\n",
       "      <td>1135.0</td>\n",
       "      <td>front</td>\n",
       "      <td>3.8</td>\n",
       "      <td>99.0</td>\n",
       "      <td>Premium</td>\n",
       "      <td>Standard</td>\n",
       "      <td>Safety Premium Package</td>\n",
       "    </tr>\n",
       "    <tr>\n",
       "      <th>3</th>\n",
       "      <td>Audi A1</td>\n",
       "      <td>Sedans</td>\n",
       "      <td>14500</td>\n",
       "      <td>73000.0</td>\n",
       "      <td>Used</td>\n",
       "      <td>Diesel</td>\n",
       "      <td>Alloy wheels, Sport seats, Voice Control</td>\n",
       "      <td>6.0</td>\n",
       "      <td>3.0</td>\n",
       "      <td>1.0</td>\n",
       "      <td>66.0</td>\n",
       "      <td>0</td>\n",
       "      <td>Metallic</td>\n",
       "      <td>Cloth</td>\n",
       "      <td>Automatic</td>\n",
       "      <td>1422.0</td>\n",
       "      <td>1195.0</td>\n",
       "      <td>front</td>\n",
       "      <td>3.8</td>\n",
       "      <td>99.0</td>\n",
       "      <td>Standard</td>\n",
       "      <td>Plus</td>\n",
       "      <td>Safety Premium Package</td>\n",
       "    </tr>\n",
       "    <tr>\n",
       "      <th>4</th>\n",
       "      <td>Audi A1</td>\n",
       "      <td>Sedans</td>\n",
       "      <td>16790</td>\n",
       "      <td>16200.0</td>\n",
       "      <td>Used</td>\n",
       "      <td>Diesel</td>\n",
       "      <td>Alloy wheels, Sport package, Sport suspension,...</td>\n",
       "      <td>7.0</td>\n",
       "      <td>3.0</td>\n",
       "      <td>1.0</td>\n",
       "      <td>66.0</td>\n",
       "      <td>1</td>\n",
       "      <td>Metallic</td>\n",
       "      <td>Cloth</td>\n",
       "      <td>Automatic</td>\n",
       "      <td>1422.0</td>\n",
       "      <td>1135.0</td>\n",
       "      <td>front</td>\n",
       "      <td>4.1</td>\n",
       "      <td>109.0</td>\n",
       "      <td>Premium</td>\n",
       "      <td>Plus</td>\n",
       "      <td>Safety Premium Package</td>\n",
       "    </tr>\n",
       "  </tbody>\n",
       "</table>\n",
       "</div>"
      ],
      "text/plain": [
       "  make_model body_type  price       km  Type     Fuel  \\\n",
       "0    Audi A1    Sedans  15770  56013.0  Used   Diesel   \n",
       "1    Audi A1    Sedans  14500  80000.0  Used  Benzine   \n",
       "2    Audi A1    Sedans  14640  83450.0  Used   Diesel   \n",
       "3    Audi A1    Sedans  14500  73000.0  Used   Diesel   \n",
       "4    Audi A1    Sedans  16790  16200.0  Used   Diesel   \n",
       "\n",
       "                                              Extras  Gears  age  \\\n",
       "0   Alloy wheels, Catalytic Converter, Voice Control    7.0  3.0   \n",
       "1  Alloy wheels, Sport seats, Sport suspension, V...    7.0  2.0   \n",
       "2                        Alloy wheels, Voice Control    7.0  3.0   \n",
       "3           Alloy wheels, Sport seats, Voice Control    6.0  3.0   \n",
       "4  Alloy wheels, Sport package, Sport suspension,...    7.0  3.0   \n",
       "\n",
       "   Previous_Owners  hp_kW  Inspection_new Paint_Type Upholstery_type  \\\n",
       "0              2.0   66.0               1   Metallic           Cloth   \n",
       "1              1.0  141.0               0   Metallic           Cloth   \n",
       "2              1.0   85.0               0   Metallic           Cloth   \n",
       "3              1.0   66.0               0   Metallic           Cloth   \n",
       "4              1.0   66.0               1   Metallic           Cloth   \n",
       "\n",
       "  Gearing_Type  Displacement_cc  Weight_kg Drive_chain  cons_comb  \\\n",
       "0    Automatic           1422.0     1220.0       front        3.8   \n",
       "1    Automatic           1798.0     1255.0       front        5.6   \n",
       "2    Automatic           1598.0     1135.0       front        3.8   \n",
       "3    Automatic           1422.0     1195.0       front        3.8   \n",
       "4    Automatic           1422.0     1135.0       front        4.1   \n",
       "\n",
       "   CO2_Emission Comfort_Convenience_Package Entertainment_Media_Package  \\\n",
       "0          99.0                     Premium                        Plus   \n",
       "1         129.0                    Standard                        Plus   \n",
       "2          99.0                     Premium                    Standard   \n",
       "3          99.0                    Standard                        Plus   \n",
       "4         109.0                     Premium                        Plus   \n",
       "\n",
       "  Safety_Security_Package  \n",
       "0  Safety Premium Package  \n",
       "1  Safety Premium Package  \n",
       "2  Safety Premium Package  \n",
       "3  Safety Premium Package  \n",
       "4  Safety Premium Package  "
      ]
     },
     "execution_count": 6,
     "metadata": {},
     "output_type": "execute_result"
    }
   ],
   "source": [
    "df.head()"
   ]
  },
  {
   "cell_type": "code",
   "execution_count": 15,
   "metadata": {},
   "outputs": [
    {
     "data": {
      "text/html": [
       "<div>\n",
       "<style scoped>\n",
       "    .dataframe tbody tr th:only-of-type {\n",
       "        vertical-align: middle;\n",
       "    }\n",
       "\n",
       "    .dataframe tbody tr th {\n",
       "        vertical-align: top;\n",
       "    }\n",
       "\n",
       "    .dataframe thead th {\n",
       "        text-align: right;\n",
       "    }\n",
       "</style>\n",
       "<table border=\"1\" class=\"dataframe\">\n",
       "  <thead>\n",
       "    <tr style=\"text-align: right;\">\n",
       "      <th></th>\n",
       "      <th>make_model</th>\n",
       "      <th>body_type</th>\n",
       "      <th>price</th>\n",
       "      <th>km</th>\n",
       "      <th>Type</th>\n",
       "      <th>Fuel</th>\n",
       "      <th>Extras</th>\n",
       "      <th>Gears</th>\n",
       "      <th>age</th>\n",
       "      <th>Previous_Owners</th>\n",
       "      <th>hp_kW</th>\n",
       "      <th>Inspection_new</th>\n",
       "      <th>Paint_Type</th>\n",
       "      <th>Upholstery_type</th>\n",
       "      <th>Gearing_Type</th>\n",
       "      <th>Displacement_cc</th>\n",
       "      <th>Weight_kg</th>\n",
       "      <th>Drive_chain</th>\n",
       "      <th>cons_comb</th>\n",
       "      <th>CO2_Emission</th>\n",
       "      <th>Comfort_Convenience_Package</th>\n",
       "      <th>Entertainment_Media_Package</th>\n",
       "      <th>Safety_Security_Package</th>\n",
       "    </tr>\n",
       "  </thead>\n",
       "  <tbody>\n",
       "    <tr>\n",
       "      <th>15309</th>\n",
       "      <td>Renault Espace</td>\n",
       "      <td>Transporter</td>\n",
       "      <td>14999</td>\n",
       "      <td>101000.000000</td>\n",
       "      <td>Used</td>\n",
       "      <td>Diesel</td>\n",
       "      <td>5</td>\n",
       "      <td>6.0</td>\n",
       "      <td>3.0</td>\n",
       "      <td>1.0</td>\n",
       "      <td>96.0</td>\n",
       "      <td>0</td>\n",
       "      <td>Metallic</td>\n",
       "      <td>Cloth</td>\n",
       "      <td>Manual</td>\n",
       "      <td>1598.0</td>\n",
       "      <td>1697.0</td>\n",
       "      <td>front</td>\n",
       "      <td>4.5</td>\n",
       "      <td>116.0</td>\n",
       "      <td>Standard</td>\n",
       "      <td>Plus</td>\n",
       "      <td>Safety Premium Package</td>\n",
       "    </tr>\n",
       "    <tr>\n",
       "      <th>5279</th>\n",
       "      <td>Audi A3</td>\n",
       "      <td>Sedans</td>\n",
       "      <td>24490</td>\n",
       "      <td>1647.362609</td>\n",
       "      <td>Pre-registered</td>\n",
       "      <td>Diesel</td>\n",
       "      <td>1</td>\n",
       "      <td>7.0</td>\n",
       "      <td>0.0</td>\n",
       "      <td>1.0</td>\n",
       "      <td>85.0</td>\n",
       "      <td>0</td>\n",
       "      <td>Metallic</td>\n",
       "      <td>Cloth</td>\n",
       "      <td>Automatic</td>\n",
       "      <td>1598.0</td>\n",
       "      <td>1360.0</td>\n",
       "      <td>front</td>\n",
       "      <td>3.9</td>\n",
       "      <td>103.0</td>\n",
       "      <td>Standard</td>\n",
       "      <td>Standard</td>\n",
       "      <td>Safety Premium Package</td>\n",
       "    </tr>\n",
       "    <tr>\n",
       "      <th>6528</th>\n",
       "      <td>Opel Astra</td>\n",
       "      <td>Sedans</td>\n",
       "      <td>16990</td>\n",
       "      <td>6800.000000</td>\n",
       "      <td>Used</td>\n",
       "      <td>Benzine</td>\n",
       "      <td>1</td>\n",
       "      <td>6.0</td>\n",
       "      <td>2.0</td>\n",
       "      <td>1.0</td>\n",
       "      <td>110.0</td>\n",
       "      <td>0</td>\n",
       "      <td>Metallic</td>\n",
       "      <td>Cloth</td>\n",
       "      <td>Automatic</td>\n",
       "      <td>1399.0</td>\n",
       "      <td>1273.0</td>\n",
       "      <td>front</td>\n",
       "      <td>5.4</td>\n",
       "      <td>124.0</td>\n",
       "      <td>Standard</td>\n",
       "      <td>Plus</td>\n",
       "      <td>Safety Premium Package</td>\n",
       "    </tr>\n",
       "    <tr>\n",
       "      <th>12401</th>\n",
       "      <td>Opel Insignia</td>\n",
       "      <td>Station wagon</td>\n",
       "      <td>33980</td>\n",
       "      <td>8000.000000</td>\n",
       "      <td>Used</td>\n",
       "      <td>Diesel</td>\n",
       "      <td>4</td>\n",
       "      <td>8.0</td>\n",
       "      <td>0.0</td>\n",
       "      <td>1.0</td>\n",
       "      <td>125.0</td>\n",
       "      <td>1</td>\n",
       "      <td>Metallic</td>\n",
       "      <td>Part/Full Leather</td>\n",
       "      <td>Automatic</td>\n",
       "      <td>1956.0</td>\n",
       "      <td>1613.0</td>\n",
       "      <td>front</td>\n",
       "      <td>5.5</td>\n",
       "      <td>145.0</td>\n",
       "      <td>Premium Plus</td>\n",
       "      <td>Plus</td>\n",
       "      <td>Safety Premium Package</td>\n",
       "    </tr>\n",
       "    <tr>\n",
       "      <th>4306</th>\n",
       "      <td>Audi A3</td>\n",
       "      <td>Sedans</td>\n",
       "      <td>17500</td>\n",
       "      <td>28400.000000</td>\n",
       "      <td>Used</td>\n",
       "      <td>Diesel</td>\n",
       "      <td>1</td>\n",
       "      <td>6.0</td>\n",
       "      <td>2.0</td>\n",
       "      <td>1.0</td>\n",
       "      <td>81.0</td>\n",
       "      <td>0</td>\n",
       "      <td>Metallic</td>\n",
       "      <td>Part/Full Leather</td>\n",
       "      <td>Manual</td>\n",
       "      <td>1598.0</td>\n",
       "      <td>1335.0</td>\n",
       "      <td>front</td>\n",
       "      <td>4.0</td>\n",
       "      <td>107.0</td>\n",
       "      <td>Standard</td>\n",
       "      <td>Standard</td>\n",
       "      <td>Safety Premium Package</td>\n",
       "    </tr>\n",
       "    <tr>\n",
       "      <th>5488</th>\n",
       "      <td>Audi A3</td>\n",
       "      <td>Sedans</td>\n",
       "      <td>23925</td>\n",
       "      <td>25.000000</td>\n",
       "      <td>New</td>\n",
       "      <td>Benzine</td>\n",
       "      <td>1</td>\n",
       "      <td>6.0</td>\n",
       "      <td>0.0</td>\n",
       "      <td>0.0</td>\n",
       "      <td>85.0</td>\n",
       "      <td>0</td>\n",
       "      <td>Metallic</td>\n",
       "      <td>Cloth</td>\n",
       "      <td>Manual</td>\n",
       "      <td>999.0</td>\n",
       "      <td>1360.0</td>\n",
       "      <td>front</td>\n",
       "      <td>5.1</td>\n",
       "      <td>117.0</td>\n",
       "      <td>Standard</td>\n",
       "      <td>Plus</td>\n",
       "      <td>Safety Standard Package</td>\n",
       "    </tr>\n",
       "    <tr>\n",
       "      <th>2569</th>\n",
       "      <td>Audi A1</td>\n",
       "      <td>Compact</td>\n",
       "      <td>21990</td>\n",
       "      <td>1647.362609</td>\n",
       "      <td>New</td>\n",
       "      <td>Benzine</td>\n",
       "      <td>2</td>\n",
       "      <td>5.0</td>\n",
       "      <td>0.0</td>\n",
       "      <td>1.0</td>\n",
       "      <td>70.0</td>\n",
       "      <td>0</td>\n",
       "      <td>Metallic</td>\n",
       "      <td>Cloth</td>\n",
       "      <td>Manual</td>\n",
       "      <td>999.0</td>\n",
       "      <td>1165.0</td>\n",
       "      <td>front</td>\n",
       "      <td>4.6</td>\n",
       "      <td>104.0</td>\n",
       "      <td>Standard</td>\n",
       "      <td>Plus</td>\n",
       "      <td>Safety Premium Package</td>\n",
       "    </tr>\n",
       "    <tr>\n",
       "      <th>3042</th>\n",
       "      <td>Audi A3</td>\n",
       "      <td>Sedans</td>\n",
       "      <td>15320</td>\n",
       "      <td>92067.000000</td>\n",
       "      <td>Used</td>\n",
       "      <td>Diesel</td>\n",
       "      <td>2</td>\n",
       "      <td>6.0</td>\n",
       "      <td>3.0</td>\n",
       "      <td>1.0</td>\n",
       "      <td>81.0</td>\n",
       "      <td>1</td>\n",
       "      <td>Metallic</td>\n",
       "      <td>Cloth</td>\n",
       "      <td>Manual</td>\n",
       "      <td>1598.0</td>\n",
       "      <td>1350.0</td>\n",
       "      <td>front</td>\n",
       "      <td>3.8</td>\n",
       "      <td>99.0</td>\n",
       "      <td>Standard</td>\n",
       "      <td>Plus</td>\n",
       "      <td>Safety Premium Package</td>\n",
       "    </tr>\n",
       "    <tr>\n",
       "      <th>12212</th>\n",
       "      <td>Opel Insignia</td>\n",
       "      <td>Station wagon</td>\n",
       "      <td>20890</td>\n",
       "      <td>29010.000000</td>\n",
       "      <td>Used</td>\n",
       "      <td>Diesel</td>\n",
       "      <td>5</td>\n",
       "      <td>6.0</td>\n",
       "      <td>1.0</td>\n",
       "      <td>1.0</td>\n",
       "      <td>125.0</td>\n",
       "      <td>1</td>\n",
       "      <td>Metallic</td>\n",
       "      <td>Cloth</td>\n",
       "      <td>Manual</td>\n",
       "      <td>1956.0</td>\n",
       "      <td>1487.0</td>\n",
       "      <td>front</td>\n",
       "      <td>5.4</td>\n",
       "      <td>142.0</td>\n",
       "      <td>Standard</td>\n",
       "      <td>Plus</td>\n",
       "      <td>Safety Premium Package</td>\n",
       "    </tr>\n",
       "    <tr>\n",
       "      <th>3002</th>\n",
       "      <td>Audi A3</td>\n",
       "      <td>Sedans</td>\n",
       "      <td>14980</td>\n",
       "      <td>291800.000000</td>\n",
       "      <td>Used</td>\n",
       "      <td>Diesel</td>\n",
       "      <td>6</td>\n",
       "      <td>6.0</td>\n",
       "      <td>3.0</td>\n",
       "      <td>1.0</td>\n",
       "      <td>110.0</td>\n",
       "      <td>0</td>\n",
       "      <td>Metallic</td>\n",
       "      <td>Cloth</td>\n",
       "      <td>Manual</td>\n",
       "      <td>1968.0</td>\n",
       "      <td>1360.0</td>\n",
       "      <td>4WD</td>\n",
       "      <td>4.7</td>\n",
       "      <td>125.0</td>\n",
       "      <td>Premium</td>\n",
       "      <td>Plus</td>\n",
       "      <td>Safety Premium Package</td>\n",
       "    </tr>\n",
       "  </tbody>\n",
       "</table>\n",
       "</div>"
      ],
      "text/plain": [
       "           make_model      body_type  price             km            Type  \\\n",
       "15309  Renault Espace    Transporter  14999  101000.000000            Used   \n",
       "5279          Audi A3         Sedans  24490    1647.362609  Pre-registered   \n",
       "6528       Opel Astra         Sedans  16990    6800.000000            Used   \n",
       "12401   Opel Insignia  Station wagon  33980    8000.000000            Used   \n",
       "4306          Audi A3         Sedans  17500   28400.000000            Used   \n",
       "5488          Audi A3         Sedans  23925      25.000000             New   \n",
       "2569          Audi A1        Compact  21990    1647.362609             New   \n",
       "3042          Audi A3         Sedans  15320   92067.000000            Used   \n",
       "12212   Opel Insignia  Station wagon  20890   29010.000000            Used   \n",
       "3002          Audi A3         Sedans  14980  291800.000000            Used   \n",
       "\n",
       "          Fuel  Extras  Gears  age  Previous_Owners  hp_kW  Inspection_new  \\\n",
       "15309   Diesel       5    6.0  3.0              1.0   96.0               0   \n",
       "5279    Diesel       1    7.0  0.0              1.0   85.0               0   \n",
       "6528   Benzine       1    6.0  2.0              1.0  110.0               0   \n",
       "12401   Diesel       4    8.0  0.0              1.0  125.0               1   \n",
       "4306    Diesel       1    6.0  2.0              1.0   81.0               0   \n",
       "5488   Benzine       1    6.0  0.0              0.0   85.0               0   \n",
       "2569   Benzine       2    5.0  0.0              1.0   70.0               0   \n",
       "3042    Diesel       2    6.0  3.0              1.0   81.0               1   \n",
       "12212   Diesel       5    6.0  1.0              1.0  125.0               1   \n",
       "3002    Diesel       6    6.0  3.0              1.0  110.0               0   \n",
       "\n",
       "      Paint_Type    Upholstery_type Gearing_Type  Displacement_cc  Weight_kg  \\\n",
       "15309   Metallic              Cloth       Manual           1598.0     1697.0   \n",
       "5279    Metallic              Cloth    Automatic           1598.0     1360.0   \n",
       "6528    Metallic              Cloth    Automatic           1399.0     1273.0   \n",
       "12401   Metallic  Part/Full Leather    Automatic           1956.0     1613.0   \n",
       "4306    Metallic  Part/Full Leather       Manual           1598.0     1335.0   \n",
       "5488    Metallic              Cloth       Manual            999.0     1360.0   \n",
       "2569    Metallic              Cloth       Manual            999.0     1165.0   \n",
       "3042    Metallic              Cloth       Manual           1598.0     1350.0   \n",
       "12212   Metallic              Cloth       Manual           1956.0     1487.0   \n",
       "3002    Metallic              Cloth       Manual           1968.0     1360.0   \n",
       "\n",
       "      Drive_chain  cons_comb  CO2_Emission Comfort_Convenience_Package  \\\n",
       "15309       front        4.5         116.0                    Standard   \n",
       "5279        front        3.9         103.0                    Standard   \n",
       "6528        front        5.4         124.0                    Standard   \n",
       "12401       front        5.5         145.0                Premium Plus   \n",
       "4306        front        4.0         107.0                    Standard   \n",
       "5488        front        5.1         117.0                    Standard   \n",
       "2569        front        4.6         104.0                    Standard   \n",
       "3042        front        3.8          99.0                    Standard   \n",
       "12212       front        5.4         142.0                    Standard   \n",
       "3002          4WD        4.7         125.0                     Premium   \n",
       "\n",
       "      Entertainment_Media_Package  Safety_Security_Package  \n",
       "15309                        Plus   Safety Premium Package  \n",
       "5279                     Standard   Safety Premium Package  \n",
       "6528                         Plus   Safety Premium Package  \n",
       "12401                        Plus   Safety Premium Package  \n",
       "4306                     Standard   Safety Premium Package  \n",
       "5488                         Plus  Safety Standard Package  \n",
       "2569                         Plus   Safety Premium Package  \n",
       "3042                         Plus   Safety Premium Package  \n",
       "12212                        Plus   Safety Premium Package  \n",
       "3002                         Plus   Safety Premium Package  "
      ]
     },
     "execution_count": 15,
     "metadata": {},
     "output_type": "execute_result"
    }
   ],
   "source": [
    "df.sample(10)"
   ]
  },
  {
   "cell_type": "markdown",
   "metadata": {
    "id": "t-zj-mrMF-7R"
   },
   "source": [
    "## Feature Engineering\n",
    "\n",
    "- Focus on the \"Extras\" column\n",
    "- Think how a categorical feature can be converted into ordinal. "
   ]
  },
  {
   "cell_type": "markdown",
   "metadata": {
    "id": "BE4GulyIF-7R"
   },
   "source": [
    "### Converting the Extras feature from object to numeric"
   ]
  },
  {
   "cell_type": "code",
   "execution_count": 12,
   "metadata": {
    "id": "0PM9kzjQF-7S"
   },
   "outputs": [
    {
     "data": {
      "text/plain": [
       "0        3\n",
       "1        4\n",
       "2        2\n",
       "3        3\n",
       "4        4\n",
       "        ..\n",
       "15904    2\n",
       "15905    3\n",
       "15906    1\n",
       "15907    2\n",
       "15908    2\n",
       "Name: Extras, Length: 15909, dtype: int64"
      ]
     },
     "execution_count": 12,
     "metadata": {},
     "output_type": "execute_result"
    }
   ],
   "source": [
    "df[\"Extras\"] = df.Extras.str.count(\",\") + 1\n",
    "df.Extras"
   ]
  },
  {
   "cell_type": "code",
   "execution_count": 16,
   "metadata": {},
   "outputs": [
    {
     "data": {
      "text/plain": [
       "1     7009\n",
       "2     3391\n",
       "3     2684\n",
       "4     1404\n",
       "5      743\n",
       "6      409\n",
       "7      174\n",
       "8       60\n",
       "9       28\n",
       "10       7\n",
       "Name: Extras, dtype: int64"
      ]
     },
     "execution_count": 16,
     "metadata": {},
     "output_type": "execute_result"
    }
   ],
   "source": [
    "df.Extras.value_counts()\n",
    "# what about grouping them 1-2 extras, 3-4 extras and over 5 extras???"
   ]
  },
  {
   "cell_type": "markdown",
   "metadata": {
    "id": "k5whiXJgF-7S"
   },
   "source": [
    "## multicollinearity control"
   ]
  },
  {
   "cell_type": "code",
   "execution_count": 13,
   "metadata": {
    "id": "cX7UfF2GF-7S"
   },
   "outputs": [
    {
     "data": {
      "text/html": [
       "<div>\n",
       "<style scoped>\n",
       "    .dataframe tbody tr th:only-of-type {\n",
       "        vertical-align: middle;\n",
       "    }\n",
       "\n",
       "    .dataframe tbody tr th {\n",
       "        vertical-align: top;\n",
       "    }\n",
       "\n",
       "    .dataframe thead th {\n",
       "        text-align: right;\n",
       "    }\n",
       "</style>\n",
       "<table border=\"1\" class=\"dataframe\">\n",
       "  <thead>\n",
       "    <tr style=\"text-align: right;\">\n",
       "      <th></th>\n",
       "      <th>price</th>\n",
       "      <th>km</th>\n",
       "      <th>Extras</th>\n",
       "      <th>Gears</th>\n",
       "      <th>age</th>\n",
       "      <th>Previous_Owners</th>\n",
       "      <th>hp_kW</th>\n",
       "      <th>Inspection_new</th>\n",
       "      <th>Displacement_cc</th>\n",
       "      <th>Weight_kg</th>\n",
       "      <th>cons_comb</th>\n",
       "      <th>CO2_Emission</th>\n",
       "    </tr>\n",
       "  </thead>\n",
       "  <tbody>\n",
       "    <tr>\n",
       "      <th>price</th>\n",
       "      <td>1.000000</td>\n",
       "      <td>-0.399443</td>\n",
       "      <td>0.251408</td>\n",
       "      <td>0.530563</td>\n",
       "      <td>-0.473689</td>\n",
       "      <td>-0.144672</td>\n",
       "      <td>0.696532</td>\n",
       "      <td>0.008508</td>\n",
       "      <td>0.282075</td>\n",
       "      <td>0.468264</td>\n",
       "      <td>0.301448</td>\n",
       "      <td>0.347668</td>\n",
       "    </tr>\n",
       "    <tr>\n",
       "      <th>km</th>\n",
       "      <td>-0.399443</td>\n",
       "      <td>1.000000</td>\n",
       "      <td>0.018517</td>\n",
       "      <td>-0.033087</td>\n",
       "      <td>0.758370</td>\n",
       "      <td>0.157039</td>\n",
       "      <td>0.004170</td>\n",
       "      <td>-0.049485</td>\n",
       "      <td>0.306792</td>\n",
       "      <td>0.147246</td>\n",
       "      <td>-0.345228</td>\n",
       "      <td>-0.227640</td>\n",
       "    </tr>\n",
       "    <tr>\n",
       "      <th>Extras</th>\n",
       "      <td>0.251408</td>\n",
       "      <td>0.018517</td>\n",
       "      <td>1.000000</td>\n",
       "      <td>0.225728</td>\n",
       "      <td>-0.025736</td>\n",
       "      <td>0.013290</td>\n",
       "      <td>0.354481</td>\n",
       "      <td>0.151168</td>\n",
       "      <td>0.215360</td>\n",
       "      <td>0.149501</td>\n",
       "      <td>0.178099</td>\n",
       "      <td>0.225946</td>\n",
       "    </tr>\n",
       "    <tr>\n",
       "      <th>Gears</th>\n",
       "      <td>0.530563</td>\n",
       "      <td>-0.033087</td>\n",
       "      <td>0.225728</td>\n",
       "      <td>1.000000</td>\n",
       "      <td>-0.064507</td>\n",
       "      <td>-0.036594</td>\n",
       "      <td>0.449680</td>\n",
       "      <td>-0.011026</td>\n",
       "      <td>0.339431</td>\n",
       "      <td>0.334002</td>\n",
       "      <td>0.011357</td>\n",
       "      <td>0.106674</td>\n",
       "    </tr>\n",
       "    <tr>\n",
       "      <th>age</th>\n",
       "      <td>-0.473689</td>\n",
       "      <td>0.758370</td>\n",
       "      <td>-0.025736</td>\n",
       "      <td>-0.064507</td>\n",
       "      <td>1.000000</td>\n",
       "      <td>0.316166</td>\n",
       "      <td>-0.083334</td>\n",
       "      <td>-0.045467</td>\n",
       "      <td>0.215304</td>\n",
       "      <td>0.065081</td>\n",
       "      <td>-0.371941</td>\n",
       "      <td>-0.288236</td>\n",
       "    </tr>\n",
       "    <tr>\n",
       "      <th>Previous_Owners</th>\n",
       "      <td>-0.144672</td>\n",
       "      <td>0.157039</td>\n",
       "      <td>0.013290</td>\n",
       "      <td>-0.036594</td>\n",
       "      <td>0.316166</td>\n",
       "      <td>1.000000</td>\n",
       "      <td>-0.022535</td>\n",
       "      <td>0.019519</td>\n",
       "      <td>0.027961</td>\n",
       "      <td>0.003460</td>\n",
       "      <td>-0.022799</td>\n",
       "      <td>-0.030866</td>\n",
       "    </tr>\n",
       "    <tr>\n",
       "      <th>hp_kW</th>\n",
       "      <td>0.696532</td>\n",
       "      <td>0.004170</td>\n",
       "      <td>0.354481</td>\n",
       "      <td>0.449680</td>\n",
       "      <td>-0.083334</td>\n",
       "      <td>-0.022535</td>\n",
       "      <td>1.000000</td>\n",
       "      <td>0.036740</td>\n",
       "      <td>0.597708</td>\n",
       "      <td>0.638395</td>\n",
       "      <td>0.403492</td>\n",
       "      <td>0.522772</td>\n",
       "    </tr>\n",
       "    <tr>\n",
       "      <th>Inspection_new</th>\n",
       "      <td>0.008508</td>\n",
       "      <td>-0.049485</td>\n",
       "      <td>0.151168</td>\n",
       "      <td>-0.011026</td>\n",
       "      <td>-0.045467</td>\n",
       "      <td>0.019519</td>\n",
       "      <td>0.036740</td>\n",
       "      <td>1.000000</td>\n",
       "      <td>-0.025975</td>\n",
       "      <td>-0.035456</td>\n",
       "      <td>0.154669</td>\n",
       "      <td>0.134247</td>\n",
       "    </tr>\n",
       "    <tr>\n",
       "      <th>Displacement_cc</th>\n",
       "      <td>0.282075</td>\n",
       "      <td>0.306792</td>\n",
       "      <td>0.215360</td>\n",
       "      <td>0.339431</td>\n",
       "      <td>0.215304</td>\n",
       "      <td>0.027961</td>\n",
       "      <td>0.597708</td>\n",
       "      <td>-0.025975</td>\n",
       "      <td>1.000000</td>\n",
       "      <td>0.563594</td>\n",
       "      <td>0.004314</td>\n",
       "      <td>0.288515</td>\n",
       "    </tr>\n",
       "    <tr>\n",
       "      <th>Weight_kg</th>\n",
       "      <td>0.468264</td>\n",
       "      <td>0.147246</td>\n",
       "      <td>0.149501</td>\n",
       "      <td>0.334002</td>\n",
       "      <td>0.065081</td>\n",
       "      <td>0.003460</td>\n",
       "      <td>0.638395</td>\n",
       "      <td>-0.035456</td>\n",
       "      <td>0.563594</td>\n",
       "      <td>1.000000</td>\n",
       "      <td>0.105840</td>\n",
       "      <td>0.298414</td>\n",
       "    </tr>\n",
       "    <tr>\n",
       "      <th>cons_comb</th>\n",
       "      <td>0.301448</td>\n",
       "      <td>-0.345228</td>\n",
       "      <td>0.178099</td>\n",
       "      <td>0.011357</td>\n",
       "      <td>-0.371941</td>\n",
       "      <td>-0.022799</td>\n",
       "      <td>0.403492</td>\n",
       "      <td>0.154669</td>\n",
       "      <td>0.004314</td>\n",
       "      <td>0.105840</td>\n",
       "      <td>1.000000</td>\n",
       "      <td>0.896209</td>\n",
       "    </tr>\n",
       "    <tr>\n",
       "      <th>CO2_Emission</th>\n",
       "      <td>0.347668</td>\n",
       "      <td>-0.227640</td>\n",
       "      <td>0.225946</td>\n",
       "      <td>0.106674</td>\n",
       "      <td>-0.288236</td>\n",
       "      <td>-0.030866</td>\n",
       "      <td>0.522772</td>\n",
       "      <td>0.134247</td>\n",
       "      <td>0.288515</td>\n",
       "      <td>0.298414</td>\n",
       "      <td>0.896209</td>\n",
       "      <td>1.000000</td>\n",
       "    </tr>\n",
       "  </tbody>\n",
       "</table>\n",
       "</div>"
      ],
      "text/plain": [
       "                    price        km    Extras     Gears       age  \\\n",
       "price            1.000000 -0.399443  0.251408  0.530563 -0.473689   \n",
       "km              -0.399443  1.000000  0.018517 -0.033087  0.758370   \n",
       "Extras           0.251408  0.018517  1.000000  0.225728 -0.025736   \n",
       "Gears            0.530563 -0.033087  0.225728  1.000000 -0.064507   \n",
       "age             -0.473689  0.758370 -0.025736 -0.064507  1.000000   \n",
       "Previous_Owners -0.144672  0.157039  0.013290 -0.036594  0.316166   \n",
       "hp_kW            0.696532  0.004170  0.354481  0.449680 -0.083334   \n",
       "Inspection_new   0.008508 -0.049485  0.151168 -0.011026 -0.045467   \n",
       "Displacement_cc  0.282075  0.306792  0.215360  0.339431  0.215304   \n",
       "Weight_kg        0.468264  0.147246  0.149501  0.334002  0.065081   \n",
       "cons_comb        0.301448 -0.345228  0.178099  0.011357 -0.371941   \n",
       "CO2_Emission     0.347668 -0.227640  0.225946  0.106674 -0.288236   \n",
       "\n",
       "                 Previous_Owners     hp_kW  Inspection_new  Displacement_cc  \\\n",
       "price                  -0.144672  0.696532        0.008508         0.282075   \n",
       "km                      0.157039  0.004170       -0.049485         0.306792   \n",
       "Extras                  0.013290  0.354481        0.151168         0.215360   \n",
       "Gears                  -0.036594  0.449680       -0.011026         0.339431   \n",
       "age                     0.316166 -0.083334       -0.045467         0.215304   \n",
       "Previous_Owners         1.000000 -0.022535        0.019519         0.027961   \n",
       "hp_kW                  -0.022535  1.000000        0.036740         0.597708   \n",
       "Inspection_new          0.019519  0.036740        1.000000        -0.025975   \n",
       "Displacement_cc         0.027961  0.597708       -0.025975         1.000000   \n",
       "Weight_kg               0.003460  0.638395       -0.035456         0.563594   \n",
       "cons_comb              -0.022799  0.403492        0.154669         0.004314   \n",
       "CO2_Emission           -0.030866  0.522772        0.134247         0.288515   \n",
       "\n",
       "                 Weight_kg  cons_comb  CO2_Emission  \n",
       "price             0.468264   0.301448      0.347668  \n",
       "km                0.147246  -0.345228     -0.227640  \n",
       "Extras            0.149501   0.178099      0.225946  \n",
       "Gears             0.334002   0.011357      0.106674  \n",
       "age               0.065081  -0.371941     -0.288236  \n",
       "Previous_Owners   0.003460  -0.022799     -0.030866  \n",
       "hp_kW             0.638395   0.403492      0.522772  \n",
       "Inspection_new   -0.035456   0.154669      0.134247  \n",
       "Displacement_cc   0.563594   0.004314      0.288515  \n",
       "Weight_kg         1.000000   0.105840      0.298414  \n",
       "cons_comb         0.105840   1.000000      0.896209  \n",
       "CO2_Emission      0.298414   0.896209      1.000000  "
      ]
     },
     "execution_count": 13,
     "metadata": {},
     "output_type": "execute_result"
    }
   ],
   "source": [
    "df.corr()"
   ]
  },
  {
   "cell_type": "code",
   "execution_count": 14,
   "metadata": {},
   "outputs": [
    {
     "data": {
      "image/png": "[encoded data removed]",
      "text/plain": [
       "<Figure size 1000x600 with 2 Axes>"
      ]
     },
     "metadata": {},
     "output_type": "display_data"
    }
   ],
   "source": [
    "sns.heatmap(data = df.corr(), annot=True);"
   ]
  },
  {
   "cell_type": "markdown",
   "metadata": {
    "id": "q33cPxoAF-7S"
   },
   "source": [
    "## 2. Data Pre-Processing\n",
    "\n",
    "As you know, the data set must be edited before proceeding to the implementation of the model. As the last step before model fitting, you need to spilit the data set as train and test. Then, you should train the model with train data and evaluate the performance of the model on the test data. You can use the train and test data you have created for all algorithms.\n",
    "\n",
    "You must also drop your target variable, the column you are trying to predict.\n",
    "\n",
    "You can use many [performance metrics for regression](https://medium.com/analytics-vidhya/evaluation-metrics-for-regression-problems-343c4923d922) to measure the performance of the regression model you train. You can define a function to view different metric results together.\n",
    "\n",
    "You can also use the [cross validation](https://towardsdatascience.com/cross-validation-explained-evaluating-estimator-performance-e51e5430ff85) method to measure the estimator performance. Cross validation uses different data samples from your test set and calculates the accuracy score for each data sample. You can calculate the final performance of your estimator by averaging these scores."
   ]
  },
  {
   "cell_type": "markdown",
   "metadata": {
    "id": "vpoca2LgF-7T"
   },
   "source": [
    "### Train | Test Split"
   ]
  },
  {
   "cell_type": "code",
   "execution_count": null,
   "metadata": {
    "id": "vG4xZnMSF-7T"
   },
   "outputs": [],
   "source": []
  },
  {
   "cell_type": "markdown",
   "metadata": {
    "id": "oCxOEGc3F-7T"
   },
   "source": [
    "## OneHotEncoder"
   ]
  },
  {
   "cell_type": "markdown",
   "metadata": {
    "id": "2BOP0tH8F-7T"
   },
   "source": [
    "### Example"
   ]
  },
  {
   "cell_type": "markdown",
   "metadata": {},
   "source": [
    "OneHotEncoder converts categorical features into dummies (0 and 1). If we want our model to treat all unique values ​​under the categorical feature equally, we convert our categorical data to 0 and 1 using the onehotencoder conversion algorithm.\n",
    "\n",
    "We could also use the get_dummies() function for this conversion, but since applying get_dummies() to all data and then separating the data into train and test sets will cause data leakege, categorical observations for the data we prepared for ML models must be converted into dummies features with the onehotencoder conversion algorithm.\n",
    "\n",
    "However, when converting to categorical data, the following should not be forgotten: **if there is a hierarchical superiority or ranking (expensive, normal, cheap or Large, average, small, etc.) among unique observations in a categorical feature, the ordinalencoder conversion algorithm should be used.** \n",
    "\n",
    "Conversion of categorical data to dummies features is done according to the unique categorical data in the train set where the fit process is performed.\n",
    "\n",
    "With the handle_unknown = \"ignore\" parameter, all categorical data passed in the test set and not in the train set are converted to 0. The default of this parameter is handle_unknown = \"error\".\n",
    "\n",
    "If the handle_unknown parameter remains at its default value, the onehotencoder algorithm will fail for an observation that is in the test set but not in the train set."
   ]
  },
  {
   "cell_type": "code",
   "execution_count": null,
   "metadata": {
    "id": "FDBrEhPZF-7U"
   },
   "outputs": [],
   "source": [
    "from sklearn.preprocessing import OneHotEncoder\n",
    "\n",
    "enc = OneHotEncoder(handle_unknown=\"ignore\", sparse=False).set_output(transform=\"pandas\")\n"
   ]
  },
  {
   "cell_type": "code",
   "execution_count": null,
   "metadata": {
    "id": "rrYd0avpF-7U",
    "outputId": "c64c044d-8631-433e-80a7-2dd5fb91f512"
   },
   "outputs": [
    {
     "data": {
      "text/html": [
       "<div>\n",
       "<style scoped>\n",
       "    .dataframe tbody tr th:only-of-type {\n",
       "        vertical-align: middle;\n",
       "    }\n",
       "\n",
       "    .dataframe tbody tr th {\n",
       "        vertical-align: top;\n",
       "    }\n",
       "\n",
       "    .dataframe thead th {\n",
       "        text-align: right;\n",
       "    }\n",
       "</style>\n",
       "<table border=\"1\" class=\"dataframe\">\n",
       "  <thead>\n",
       "    <tr style=\"text-align: right;\">\n",
       "      <th></th>\n",
       "      <th>train</th>\n",
       "    </tr>\n",
       "  </thead>\n",
       "  <tbody>\n",
       "    <tr>\n",
       "      <th>0</th>\n",
       "      <td>good</td>\n",
       "    </tr>\n",
       "    <tr>\n",
       "      <th>1</th>\n",
       "      <td>bad</td>\n",
       "    </tr>\n",
       "    <tr>\n",
       "      <th>2</th>\n",
       "      <td>worst</td>\n",
       "    </tr>\n",
       "    <tr>\n",
       "      <th>3</th>\n",
       "      <td>good</td>\n",
       "    </tr>\n",
       "    <tr>\n",
       "      <th>4</th>\n",
       "      <td>good</td>\n",
       "    </tr>\n",
       "    <tr>\n",
       "      <th>5</th>\n",
       "      <td>bad</td>\n",
       "    </tr>\n",
       "    <tr>\n",
       "      <th>6</th>\n",
       "      <td>bed</td>\n",
       "    </tr>\n",
       "  </tbody>\n",
       "</table>\n",
       "</div>"
      ],
      "text/plain": [
       "   train\n",
       "0   good\n",
       "1    bad\n",
       "2  worst\n",
       "3   good\n",
       "4   good\n",
       "5    bad\n",
       "6    bed"
      ]
     },
     "execution_count": 35,
     "metadata": {},
     "output_type": "execute_result"
    }
   ],
   "source": [
    "train = {\"train\":['good','bad','worst','good', 'good', 'bad', 'bed']}\n",
    "test = {\"test\": ['bad','worst','good', 'good', 'bad', \"bed\", \"resume\", \"car\"]}\n",
    "train = pd.DataFrame(train)\n",
    "test = pd.DataFrame(test)\n",
    "train"
   ]
  },
  {
   "cell_type": "code",
   "execution_count": null,
   "metadata": {
    "id": "_tAMPTtlF-7V",
    "outputId": "daaaf98e-28e5-4b23-87d9-5116da77e9d1"
   },
   "outputs": [
    {
     "data": {
      "text/html": [
       "<div>\n",
       "<style scoped>\n",
       "    .dataframe tbody tr th:only-of-type {\n",
       "        vertical-align: middle;\n",
       "    }\n",
       "\n",
       "    .dataframe tbody tr th {\n",
       "        vertical-align: top;\n",
       "    }\n",
       "\n",
       "    .dataframe thead th {\n",
       "        text-align: right;\n",
       "    }\n",
       "</style>\n",
       "<table border=\"1\" class=\"dataframe\">\n",
       "  <thead>\n",
       "    <tr style=\"text-align: right;\">\n",
       "      <th></th>\n",
       "      <th>test</th>\n",
       "    </tr>\n",
       "  </thead>\n",
       "  <tbody>\n",
       "    <tr>\n",
       "      <th>0</th>\n",
       "      <td>bad</td>\n",
       "    </tr>\n",
       "    <tr>\n",
       "      <th>1</th>\n",
       "      <td>worst</td>\n",
       "    </tr>\n",
       "    <tr>\n",
       "      <th>2</th>\n",
       "      <td>good</td>\n",
       "    </tr>\n",
       "    <tr>\n",
       "      <th>3</th>\n",
       "      <td>good</td>\n",
       "    </tr>\n",
       "    <tr>\n",
       "      <th>4</th>\n",
       "      <td>bad</td>\n",
       "    </tr>\n",
       "    <tr>\n",
       "      <th>5</th>\n",
       "      <td>bed</td>\n",
       "    </tr>\n",
       "    <tr>\n",
       "      <th>6</th>\n",
       "      <td>resume</td>\n",
       "    </tr>\n",
       "    <tr>\n",
       "      <th>7</th>\n",
       "      <td>car</td>\n",
       "    </tr>\n",
       "  </tbody>\n",
       "</table>\n",
       "</div>"
      ],
      "text/plain": [
       "     test\n",
       "0     bad\n",
       "1   worst\n",
       "2    good\n",
       "3    good\n",
       "4     bad\n",
       "5     bed\n",
       "6  resume\n",
       "7     car"
      ]
     },
     "execution_count": 36,
     "metadata": {},
     "output_type": "execute_result"
    }
   ],
   "source": [
    "test"
   ]
  },
  {
   "cell_type": "code",
   "execution_count": null,
   "metadata": {
    "id": "a5Jteya5F-7W",
    "outputId": "69d1a6f3-a385-4097-864e-a2a5ecdf1ab9"
   },
   "outputs": [
    {
     "data": {
      "text/html": [
       "<div>\n",
       "<style scoped>\n",
       "    .dataframe tbody tr th:only-of-type {\n",
       "        vertical-align: middle;\n",
       "    }\n",
       "\n",
       "    .dataframe tbody tr th {\n",
       "        vertical-align: top;\n",
       "    }\n",
       "\n",
       "    .dataframe thead th {\n",
       "        text-align: right;\n",
       "    }\n",
       "</style>\n",
       "<table border=\"1\" class=\"dataframe\">\n",
       "  <thead>\n",
       "    <tr style=\"text-align: right;\">\n",
       "      <th></th>\n",
       "      <th>train</th>\n",
       "    </tr>\n",
       "  </thead>\n",
       "  <tbody>\n",
       "    <tr>\n",
       "      <th>0</th>\n",
       "      <td>good</td>\n",
       "    </tr>\n",
       "    <tr>\n",
       "      <th>1</th>\n",
       "      <td>bad</td>\n",
       "    </tr>\n",
       "    <tr>\n",
       "      <th>2</th>\n",
       "      <td>worst</td>\n",
       "    </tr>\n",
       "    <tr>\n",
       "      <th>3</th>\n",
       "      <td>good</td>\n",
       "    </tr>\n",
       "    <tr>\n",
       "      <th>4</th>\n",
       "      <td>good</td>\n",
       "    </tr>\n",
       "    <tr>\n",
       "      <th>5</th>\n",
       "      <td>bad</td>\n",
       "    </tr>\n",
       "    <tr>\n",
       "      <th>6</th>\n",
       "      <td>bed</td>\n",
       "    </tr>\n",
       "  </tbody>\n",
       "</table>\n",
       "</div>"
      ],
      "text/plain": [
       "   train\n",
       "0   good\n",
       "1    bad\n",
       "2  worst\n",
       "3   good\n",
       "4   good\n",
       "5    bad\n",
       "6    bed"
      ]
     },
     "execution_count": 37,
     "metadata": {},
     "output_type": "execute_result"
    }
   ],
   "source": [
    "train"
   ]
  },
  {
   "cell_type": "code",
   "execution_count": null,
   "metadata": {
    "id": "ZF9StwEaF-7W",
    "outputId": "a177e650-50e1-4467-ec2b-16efc84a034e"
   },
   "outputs": [
    {
     "data": {
      "text/plain": [
       "array([[0., 0., 1., 0.],\n",
       "       [1., 0., 0., 0.],\n",
       "       [0., 0., 0., 1.],\n",
       "       [0., 0., 1., 0.],\n",
       "       [0., 0., 1., 0.],\n",
       "       [1., 0., 0., 0.],\n",
       "       [0., 1., 0., 0.]])"
      ]
     },
     "execution_count": 38,
     "metadata": {},
     "output_type": "execute_result"
    }
   ],
   "source": [
    "enc.fit_transform(train[[\"train\"]])\n",
    "# Since the fit process is done on the train set, \n",
    "# the transformation (transformation) in both the train and the test set will only be made according to \n",
    "# the unique observations in the train set.\n"
   ]
  },
  {
   "cell_type": "code",
   "execution_count": null,
   "metadata": {
    "id": "dMtJQz2_F-7W",
    "outputId": "2149d538-dabe-40e6-84ce-d3d29126751b"
   },
   "outputs": [
    {
     "data": {
      "text/plain": [
       "array([[1., 0., 0., 0.],\n",
       "       [0., 0., 0., 1.],\n",
       "       [0., 0., 1., 0.],\n",
       "       [0., 0., 1., 0.],\n",
       "       [1., 0., 0., 0.],\n",
       "       [0., 1., 0., 0.],\n",
       "       [0., 0., 0., 0.],\n",
       "       [0., 0., 0., 0.]])"
      ]
     },
     "execution_count": 39,
     "metadata": {},
     "output_type": "execute_result"
    }
   ],
   "source": [
    "enc.transform(test[[\"test\"]])\n",
    "# Since the transformation in the test set is made according to the unique observations in the train set, \n",
    "# the unique observations in both the train and the test set are converted to 1, while the non-observations (resume, car) are converted to 0.\n"
   ]
  },
  {
   "cell_type": "code",
   "execution_count": null,
   "metadata": {
    "id": "QVSD-8ODF-7X",
    "outputId": "bf9e4900-1b2d-4b6b-f742-cf2d3e4ba062"
   },
   "outputs": [
    {
     "data": {
      "text/plain": [
       "array(['train_bad', 'train_bed', 'train_good', 'train_worst'],\n",
       "      dtype=object)"
      ]
     },
     "execution_count": 109,
     "metadata": {},
     "output_type": "execute_result"
    }
   ],
   "source": [
    "enc.get_feature_names_out([\"train\"])"
   ]
  },
  {
   "cell_type": "code",
   "execution_count": null,
   "metadata": {
    "id": "2hQLgti3F-7X",
    "outputId": "c03c78f7-3c3a-4acd-98ca-5833d626f848"
   },
   "outputs": [
    {
     "data": {
      "text/html": [
       "<div>\n",
       "<style scoped>\n",
       "    .dataframe tbody tr th:only-of-type {\n",
       "        vertical-align: middle;\n",
       "    }\n",
       "\n",
       "    .dataframe tbody tr th {\n",
       "        vertical-align: top;\n",
       "    }\n",
       "\n",
       "    .dataframe thead th {\n",
       "        text-align: right;\n",
       "    }\n",
       "</style>\n",
       "<table border=\"1\" class=\"dataframe\">\n",
       "  <thead>\n",
       "    <tr style=\"text-align: right;\">\n",
       "      <th></th>\n",
       "      <th>train_bad</th>\n",
       "      <th>train_bed</th>\n",
       "      <th>train_good</th>\n",
       "      <th>train_worst</th>\n",
       "    </tr>\n",
       "  </thead>\n",
       "  <tbody>\n",
       "    <tr>\n",
       "      <th>0</th>\n",
       "      <td>0.0</td>\n",
       "      <td>0.0</td>\n",
       "      <td>1.0</td>\n",
       "      <td>0.0</td>\n",
       "    </tr>\n",
       "    <tr>\n",
       "      <th>1</th>\n",
       "      <td>1.0</td>\n",
       "      <td>0.0</td>\n",
       "      <td>0.0</td>\n",
       "      <td>0.0</td>\n",
       "    </tr>\n",
       "    <tr>\n",
       "      <th>2</th>\n",
       "      <td>0.0</td>\n",
       "      <td>0.0</td>\n",
       "      <td>0.0</td>\n",
       "      <td>1.0</td>\n",
       "    </tr>\n",
       "    <tr>\n",
       "      <th>3</th>\n",
       "      <td>0.0</td>\n",
       "      <td>0.0</td>\n",
       "      <td>1.0</td>\n",
       "      <td>0.0</td>\n",
       "    </tr>\n",
       "    <tr>\n",
       "      <th>4</th>\n",
       "      <td>0.0</td>\n",
       "      <td>0.0</td>\n",
       "      <td>1.0</td>\n",
       "      <td>0.0</td>\n",
       "    </tr>\n",
       "    <tr>\n",
       "      <th>5</th>\n",
       "      <td>1.0</td>\n",
       "      <td>0.0</td>\n",
       "      <td>0.0</td>\n",
       "      <td>0.0</td>\n",
       "    </tr>\n",
       "    <tr>\n",
       "      <th>6</th>\n",
       "      <td>0.0</td>\n",
       "      <td>1.0</td>\n",
       "      <td>0.0</td>\n",
       "      <td>0.0</td>\n",
       "    </tr>\n",
       "  </tbody>\n",
       "</table>\n",
       "</div>"
      ],
      "text/plain": [
       "   train_bad  train_bed  train_good  train_worst\n",
       "0        0.0        0.0         1.0          0.0\n",
       "1        1.0        0.0         0.0          0.0\n",
       "2        0.0        0.0         0.0          1.0\n",
       "3        0.0        0.0         1.0          0.0\n",
       "4        0.0        0.0         1.0          0.0\n",
       "5        1.0        0.0         0.0          0.0\n",
       "6        0.0        1.0         0.0          0.0"
      ]
     },
     "execution_count": 110,
     "metadata": {},
     "output_type": "execute_result"
    }
   ],
   "source": [
    "pd.DataFrame(enc.fit_transform(train[[\"train\"]]), columns = enc.get_feature_names_out([\"train\"]))"
   ]
  },
  {
   "cell_type": "code",
   "execution_count": null,
   "metadata": {
    "id": "TnZVTd69F-7X",
    "outputId": "b0ae3792-a57f-4e14-851b-a61ff673667f"
   },
   "outputs": [
    {
     "data": {
      "text/html": [
       "<div>\n",
       "<style scoped>\n",
       "    .dataframe tbody tr th:only-of-type {\n",
       "        vertical-align: middle;\n",
       "    }\n",
       "\n",
       "    .dataframe tbody tr th {\n",
       "        vertical-align: top;\n",
       "    }\n",
       "\n",
       "    .dataframe thead th {\n",
       "        text-align: right;\n",
       "    }\n",
       "</style>\n",
       "<table border=\"1\" class=\"dataframe\">\n",
       "  <thead>\n",
       "    <tr style=\"text-align: right;\">\n",
       "      <th></th>\n",
       "      <th>train_bad</th>\n",
       "      <th>train_bed</th>\n",
       "      <th>train_good</th>\n",
       "      <th>train_worst</th>\n",
       "    </tr>\n",
       "  </thead>\n",
       "  <tbody>\n",
       "    <tr>\n",
       "      <th>0</th>\n",
       "      <td>1.0</td>\n",
       "      <td>0.0</td>\n",
       "      <td>0.0</td>\n",
       "      <td>0.0</td>\n",
       "    </tr>\n",
       "    <tr>\n",
       "      <th>1</th>\n",
       "      <td>0.0</td>\n",
       "      <td>0.0</td>\n",
       "      <td>0.0</td>\n",
       "      <td>1.0</td>\n",
       "    </tr>\n",
       "    <tr>\n",
       "      <th>2</th>\n",
       "      <td>0.0</td>\n",
       "      <td>0.0</td>\n",
       "      <td>1.0</td>\n",
       "      <td>0.0</td>\n",
       "    </tr>\n",
       "    <tr>\n",
       "      <th>3</th>\n",
       "      <td>0.0</td>\n",
       "      <td>0.0</td>\n",
       "      <td>1.0</td>\n",
       "      <td>0.0</td>\n",
       "    </tr>\n",
       "    <tr>\n",
       "      <th>4</th>\n",
       "      <td>1.0</td>\n",
       "      <td>0.0</td>\n",
       "      <td>0.0</td>\n",
       "      <td>0.0</td>\n",
       "    </tr>\n",
       "    <tr>\n",
       "      <th>5</th>\n",
       "      <td>0.0</td>\n",
       "      <td>1.0</td>\n",
       "      <td>0.0</td>\n",
       "      <td>0.0</td>\n",
       "    </tr>\n",
       "    <tr>\n",
       "      <th>6</th>\n",
       "      <td>0.0</td>\n",
       "      <td>0.0</td>\n",
       "      <td>0.0</td>\n",
       "      <td>0.0</td>\n",
       "    </tr>\n",
       "    <tr>\n",
       "      <th>7</th>\n",
       "      <td>0.0</td>\n",
       "      <td>0.0</td>\n",
       "      <td>0.0</td>\n",
       "      <td>0.0</td>\n",
       "    </tr>\n",
       "  </tbody>\n",
       "</table>\n",
       "</div>"
      ],
      "text/plain": [
       "   train_bad  train_bed  train_good  train_worst\n",
       "0        1.0        0.0         0.0          0.0\n",
       "1        0.0        0.0         0.0          1.0\n",
       "2        0.0        0.0         1.0          0.0\n",
       "3        0.0        0.0         1.0          0.0\n",
       "4        1.0        0.0         0.0          0.0\n",
       "5        0.0        1.0         0.0          0.0\n",
       "6        0.0        0.0         0.0          0.0\n",
       "7        0.0        0.0         0.0          0.0"
      ]
     },
     "execution_count": 111,
     "metadata": {},
     "output_type": "execute_result"
    }
   ],
   "source": [
    "pd.DataFrame(enc.transform(test[[\"test\"]]), columns = enc.get_feature_names_out([\"train\"]))\n",
    "\n",
    "# When we name the features, we better see that the value 0 is assigned to the observations that are in the test set but not in the train set."
   ]
  },
  {
   "cell_type": "markdown",
   "metadata": {
    "id": "Zh0a514xF-7X"
   },
   "source": [
    "## OrdinalEncoder"
   ]
  },
  {
   "cell_type": "markdown",
   "metadata": {
    "id": "-dr0hhXkF-7Y"
   },
   "source": [
    "### Example"
   ]
  },
  {
   "cell_type": "code",
   "execution_count": null,
   "metadata": {
    "id": "xAyP8mCkF-7Y",
    "outputId": "603a7024-bd35-4563-f808-62119b50029d"
   },
   "outputs": [
    {
     "data": {
      "text/html": [
       "<div>\n",
       "<style scoped>\n",
       "    .dataframe tbody tr th:only-of-type {\n",
       "        vertical-align: middle;\n",
       "    }\n",
       "\n",
       "    .dataframe tbody tr th {\n",
       "        vertical-align: top;\n",
       "    }\n",
       "\n",
       "    .dataframe thead th {\n",
       "        text-align: right;\n",
       "    }\n",
       "</style>\n",
       "<table border=\"1\" class=\"dataframe\">\n",
       "  <thead>\n",
       "    <tr style=\"text-align: right;\">\n",
       "      <th></th>\n",
       "      <th>train</th>\n",
       "    </tr>\n",
       "  </thead>\n",
       "  <tbody>\n",
       "    <tr>\n",
       "      <th>0</th>\n",
       "      <td>good</td>\n",
       "    </tr>\n",
       "    <tr>\n",
       "      <th>1</th>\n",
       "      <td>bad</td>\n",
       "    </tr>\n",
       "    <tr>\n",
       "      <th>2</th>\n",
       "      <td>worst</td>\n",
       "    </tr>\n",
       "    <tr>\n",
       "      <th>3</th>\n",
       "      <td>good</td>\n",
       "    </tr>\n",
       "    <tr>\n",
       "      <th>4</th>\n",
       "      <td>good</td>\n",
       "    </tr>\n",
       "    <tr>\n",
       "      <th>5</th>\n",
       "      <td>bad</td>\n",
       "    </tr>\n",
       "  </tbody>\n",
       "</table>\n",
       "</div>"
      ],
      "text/plain": [
       "   train\n",
       "0   good\n",
       "1    bad\n",
       "2  worst\n",
       "3   good\n",
       "4   good\n",
       "5    bad"
      ]
     },
     "execution_count": 112,
     "metadata": {},
     "output_type": "execute_result"
    }
   ],
   "source": [
    "train2 = {\"train\":['good','bad','worst','good', 'good', 'bad']}\n",
    "test2 = {\"test\": ['bad','worst','good', 'good', 'bad']}\n",
    "train2 = pd.DataFrame(train2)\n",
    "test2 = pd.DataFrame(test2)\n",
    "train2"
   ]
  },
  {
   "cell_type": "code",
   "execution_count": null,
   "metadata": {
    "id": "6P_RVqvwF-7Y",
    "outputId": "7c232522-2c07-4091-8a3a-6699b7f98fd3"
   },
   "outputs": [
    {
     "data": {
      "text/html": [
       "<div>\n",
       "<style scoped>\n",
       "    .dataframe tbody tr th:only-of-type {\n",
       "        vertical-align: middle;\n",
       "    }\n",
       "\n",
       "    .dataframe tbody tr th {\n",
       "        vertical-align: top;\n",
       "    }\n",
       "\n",
       "    .dataframe thead th {\n",
       "        text-align: right;\n",
       "    }\n",
       "</style>\n",
       "<table border=\"1\" class=\"dataframe\">\n",
       "  <thead>\n",
       "    <tr style=\"text-align: right;\">\n",
       "      <th></th>\n",
       "      <th>test</th>\n",
       "    </tr>\n",
       "  </thead>\n",
       "  <tbody>\n",
       "    <tr>\n",
       "      <th>0</th>\n",
       "      <td>bad</td>\n",
       "    </tr>\n",
       "    <tr>\n",
       "      <th>1</th>\n",
       "      <td>worst</td>\n",
       "    </tr>\n",
       "    <tr>\n",
       "      <th>2</th>\n",
       "      <td>good</td>\n",
       "    </tr>\n",
       "    <tr>\n",
       "      <th>3</th>\n",
       "      <td>good</td>\n",
       "    </tr>\n",
       "    <tr>\n",
       "      <th>4</th>\n",
       "      <td>bad</td>\n",
       "    </tr>\n",
       "  </tbody>\n",
       "</table>\n",
       "</div>"
      ],
      "text/plain": [
       "    test\n",
       "0    bad\n",
       "1  worst\n",
       "2   good\n",
       "3   good\n",
       "4    bad"
      ]
     },
     "execution_count": 113,
     "metadata": {},
     "output_type": "execute_result"
    }
   ],
   "source": [
    "test2"
   ]
  },
  {
   "cell_type": "code",
   "execution_count": null,
   "metadata": {
    "id": "KOoWgZNFF-7Y"
   },
   "outputs": [],
   "source": [
    "from sklearn.preprocessing import OrdinalEncoder\n",
    "\n",
    "categories = ['worst','bad','good']\n",
    "\n",
    "enc_2 = OrdinalEncoder(categories= [categories])"
   ]
  },
  {
   "cell_type": "code",
   "execution_count": null,
   "metadata": {
    "id": "Va0qzZfVF-7Z",
    "outputId": "6c132314-23ae-49c8-b877-78d0c1ecaf02"
   },
   "outputs": [
    {
     "data": {
      "text/plain": [
       "array([[2.],\n",
       "       [1.],\n",
       "       [0.],\n",
       "       [2.],\n",
       "       [2.],\n",
       "       [1.]])"
      ]
     },
     "execution_count": 115,
     "metadata": {},
     "output_type": "execute_result"
    }
   ],
   "source": [
    "enc_2.fit_transform(train2[[\"train\"]])"
   ]
  },
  {
   "cell_type": "code",
   "execution_count": null,
   "metadata": {
    "id": "VmsL3844F-7Z",
    "outputId": "a1b042e2-e911-482f-84b6-abc1077bb372"
   },
   "outputs": [
    {
     "data": {
      "text/plain": [
       "array([[1.],\n",
       "       [0.],\n",
       "       [2.],\n",
       "       [2.],\n",
       "       [1.]])"
      ]
     },
     "execution_count": 116,
     "metadata": {},
     "output_type": "execute_result"
    }
   ],
   "source": [
    "enc_2.transform(test2[[\"test\"]])"
   ]
  },
  {
   "cell_type": "markdown",
   "metadata": {
    "id": "n7ACmG9pF-7Z"
   },
   "source": [
    "### Converting Object Features into Numerical Features Using Make Column Transformer with OrdinalEncoder and OneHotEncoder "
   ]
  },
  {
   "cell_type": "code",
   "execution_count": null,
   "metadata": {
    "id": "1e3eGFvnF-7Z"
   },
   "outputs": [],
   "source": []
  },
  {
   "cell_type": "markdown",
   "metadata": {
    "id": "oWumd4pqF-7Z"
   },
   "source": [
    "## Scaling"
   ]
  },
  {
   "cell_type": "code",
   "execution_count": null,
   "metadata": {
    "id": "Qyu6RLqdF-7a"
   },
   "outputs": [],
   "source": []
  },
  {
   "cell_type": "markdown",
   "metadata": {
    "id": "An_5ITcAmqZO"
   },
   "source": [
    "## 3. Implement Linear Regression"
   ]
  },
  {
   "cell_type": "markdown",
   "metadata": {
    "id": "0c0y-w8vmqZO"
   },
   "source": [
    " - Import the modul\n",
    " - Fit the model \n",
    " - Predict the test set\n",
    " - Determine feature coefficiant\n",
    " - Evaluate model performance (use performance metrics for regression and cross_val_score)\n",
    " - Compare different evaluation metrics\n",
    " \n",
    "*Note: You can use the [dir()](https://www.geeksforgeeks.org/python-dir-function/) function to see the methods you need.*"
   ]
  },
  {
   "cell_type": "code",
   "execution_count": null,
   "metadata": {
    "id": "lq6UKn_HmqZO"
   },
   "outputs": [],
   "source": [
    "# Pre-defined functions\n",
    "\n",
    "def train_val(model, X_train, y_train, X_test, y_test):\n",
    "    \"\"\"This function will help you get regression metrics on both train\n",
    "    and test set provided. \n",
    "\n",
    "    Args:\n",
    "        model : model that is used for prediction\n",
    "        X_train : Train features\n",
    "        y_train : Train target\n",
    "        X_test  : Test features\n",
    "        y_test  : Test target\n",
    "\n",
    "    Returns:\n",
    "        Dataframe : Returns scores dataframe\n",
    "    \"\"\"\n",
    "    \n",
    "    y_pred = model.predict(X_test)\n",
    "    y_train_pred = model.predict(X_train)\n",
    "    \n",
    "    scores = {\"train\": {\"R2\" : r2_score(y_train, y_train_pred),\n",
    "    \"mae\" : mean_absolute_error(y_train, y_train_pred),\n",
    "    \"mse\" : mean_squared_error(y_train, y_train_pred),                          \n",
    "    \"rmse\" : np.sqrt(mean_squared_error(y_train, y_train_pred))},\n",
    "    \n",
    "    \"test\": {\"R2\" : r2_score(y_test, y_pred),\n",
    "    \"mae\" : mean_absolute_error(y_test, y_pred),\n",
    "    \"mse\" : mean_squared_error(y_test, y_pred),\n",
    "    \"rmse\" : np.sqrt(mean_squared_error(y_test, y_pred))}}\n",
    "    \n",
    "    return pd.DataFrame(scores)\n",
    "\n",
    "def adj_r2(y_test, y_pred, X):\n",
    "    \"\"\"This function gives adjusted R^2 \n",
    "\n",
    "    Args:\n",
    "        y_test : Actual target\n",
    "        y_pred : Predcition\n",
    "        X : Features \n",
    "\n",
    "    Returns:\n",
    "        adj_r2: Adjusted R^2\n",
    "    \"\"\"\n",
    "    r2 = r2_score(y_test, y_pred)\n",
    "    n = X.shape[0]   # number of observations\n",
    "    p = X.shape[1]   # number of independent variables \n",
    "    adj_r2 = 1 - (1-r2)*(n-1)/(n-p-1)\n",
    "    return adj_r2\n"
   ]
  },
  {
   "cell_type": "code",
   "execution_count": null,
   "metadata": {
    "id": "IrSzfrY2F-7a"
   },
   "outputs": [],
   "source": []
  },
  {
   "cell_type": "markdown",
   "metadata": {
    "id": "InWMuiIHF-7a"
   },
   "source": [
    "## Cross Validate"
   ]
  },
  {
   "cell_type": "code",
   "execution_count": null,
   "metadata": {
    "id": "j2mrIuSLF-7b"
   },
   "outputs": [],
   "source": []
  },
  {
   "cell_type": "markdown",
   "metadata": {
    "id": "RE-H0i8aF-7b"
   },
   "source": [
    "## Prediction Error"
   ]
  },
  {
   "cell_type": "code",
   "execution_count": null,
   "metadata": {
    "id": "rAr7LmW1F-7b"
   },
   "outputs": [],
   "source": []
  },
  {
   "cell_type": "markdown",
   "metadata": {
    "id": "FFgf8MbJF-7b"
   },
   "source": [
    "## Residual Plot"
   ]
  },
  {
   "cell_type": "code",
   "execution_count": null,
   "metadata": {
    "id": "NP90yxtnF-7b"
   },
   "outputs": [],
   "source": []
  },
  {
   "cell_type": "markdown",
   "metadata": {
    "id": "URTPHtYcF-7b"
   },
   "source": [
    "## Dropping outliers that worsen my predictions from the dataset\n",
    "\n",
    "- After dropping re-fit and evaluate your model"
   ]
  },
  {
   "cell_type": "code",
   "execution_count": null,
   "metadata": {
    "id": "BGNzgzZrF-7b"
   },
   "outputs": [],
   "source": []
  },
  {
   "cell_type": "markdown",
   "metadata": {
    "id": "W-n0rbT9F-7b"
   },
   "source": [
    "## Pipeline\n",
    "- Read the documentation and apply pipeline \n",
    "- link : https://scikit-learn.org/stable/modules/compose.html"
   ]
  },
  {
   "cell_type": "code",
   "execution_count": null,
   "metadata": {
    "id": "okJfx60EF-7c"
   },
   "outputs": [],
   "source": []
  },
  {
   "cell_type": "markdown",
   "metadata": {
    "id": "n2ROwYsymqZO"
   },
   "source": [
    "## 4. Implement Ridge Regression"
   ]
  },
  {
   "cell_type": "markdown",
   "metadata": {
    "id": "3RvdF8CRmqZO"
   },
   "source": [
    "- Import the modul \n",
    "- Do not forget to scale the data or use Normalize parameter as True  \n",
    "- ***Fit the model (use pipeline)***\n",
    "- Predict the test set \n",
    "- Evaluate model performance (use performance metrics for regression) \n",
    "- Tune alpha hiperparameter by using [GridSearchCV](https://scikit-learn.org/stable/modules/generated/sklearn.model_selection.GridSearchCV.html) and determine the optimal alpha value.\n",
    "- Fit the model and predict again with the new alpha value. "
   ]
  },
  {
   "cell_type": "markdown",
   "metadata": {
    "id": "QGAQoQ06F-7c"
   },
   "source": [
    "## Ridge"
   ]
  },
  {
   "cell_type": "code",
   "execution_count": null,
   "metadata": {
    "id": "-WMygy61F-7c"
   },
   "outputs": [],
   "source": []
  },
  {
   "cell_type": "markdown",
   "metadata": {
    "id": "wZBtuBrEF-7d"
   },
   "source": [
    "## Cross Validation"
   ]
  },
  {
   "cell_type": "code",
   "execution_count": null,
   "metadata": {
    "id": "CzapEg-2F-7d"
   },
   "outputs": [],
   "source": []
  },
  {
   "cell_type": "markdown",
   "metadata": {
    "id": "Tr-oyh1OF-7d"
   },
   "source": [
    "## Finding best alpha for Ridge"
   ]
  },
  {
   "cell_type": "code",
   "execution_count": null,
   "metadata": {
    "id": "XPsQ7-1TF-7d"
   },
   "outputs": [],
   "source": []
  },
  {
   "cell_type": "markdown",
   "metadata": {
    "id": "oDfXOSnpmqZO"
   },
   "source": [
    "## 5. Implement Lasso Regression"
   ]
  },
  {
   "cell_type": "markdown",
   "metadata": {
    "id": "icqyxzBymqZO"
   },
   "source": [
    "- Import the modul \n",
    "- Do not forget to scale the data or use Normalize parameter as True \n",
    "- ***Fit the model (use pipeline)*** \n",
    "- Predict the test set \n",
    "- Evaluate model performance (use performance metrics for regression) \n",
    "- Tune alpha hiperparameter by using [GridSearchCV](https://scikit-learn.org/stable/modules/generated/sklearn.model_selection.GridSearchCV.html) and determine the optimal alpha value.\n",
    "- Fit the model and predict again with the new alpha value. \n",
    "- Compare different evaluation metrics\n",
    "\n",
    "*Note: To understand the importance of the alpha hyperparameter, you can observe the effects of different alpha values on feature coefficants.*"
   ]
  },
  {
   "cell_type": "code",
   "execution_count": null,
   "metadata": {
    "id": "owng4dw1F-7d"
   },
   "outputs": [],
   "source": []
  },
  {
   "cell_type": "markdown",
   "metadata": {
    "id": "BSXCKR06F-7d"
   },
   "source": [
    "## Cross Validation"
   ]
  },
  {
   "cell_type": "code",
   "execution_count": null,
   "metadata": {
    "id": "SaM1GGhzF-7e"
   },
   "outputs": [],
   "source": []
  },
  {
   "cell_type": "markdown",
   "metadata": {
    "id": "mAouR2ywF-7e"
   },
   "source": [
    "## Finding best alpha for Lasso"
   ]
  },
  {
   "cell_type": "code",
   "execution_count": null,
   "metadata": {
    "id": "TeDHVg38F-7e"
   },
   "outputs": [],
   "source": []
  },
  {
   "cell_type": "markdown",
   "metadata": {
    "id": "qpoOypMbmqZO"
   },
   "source": [
    "## 6. Implement Elastic-Net"
   ]
  },
  {
   "cell_type": "markdown",
   "metadata": {
    "id": "El7SNJUemqZO"
   },
   "source": [
    "- Import the modul \n",
    "- Do not forget to scale the data or use Normalize parameter as True \n",
    "- ***Fit the model (use pipeline)*** \n",
    "- Predict the test set \n",
    "- Evaluate model performance (use performance metrics for regression) \n",
    "- Tune alpha hiperparameter by using [GridSearchCV](https://scikit-learn.org/stable/modules/generated/sklearn.model_selection.GridSearchCV.html) and determine the optimal alpha value.\n",
    "- Fit the model and predict again with the new alpha value. \n",
    "- Compare different evaluation metrics"
   ]
  },
  {
   "cell_type": "code",
   "execution_count": null,
   "metadata": {
    "id": "BGM084LtF-7e"
   },
   "outputs": [],
   "source": []
  },
  {
   "cell_type": "markdown",
   "metadata": {
    "id": "aWT3lTo8F-7e"
   },
   "source": [
    "## Cross Validation"
   ]
  },
  {
   "cell_type": "code",
   "execution_count": null,
   "metadata": {
    "id": "NSjikFHMF-7f"
   },
   "outputs": [],
   "source": []
  },
  {
   "cell_type": "markdown",
   "metadata": {
    "id": "8GItG3rNF-7f"
   },
   "source": [
    "## Finding best alpha and l1_ratio for ElasticNet"
   ]
  },
  {
   "cell_type": "code",
   "execution_count": null,
   "metadata": {
    "id": "K3YQsaKrF-7f"
   },
   "outputs": [],
   "source": []
  },
  {
   "cell_type": "markdown",
   "metadata": {
    "id": "ioM54h28F-7g"
   },
   "source": [
    "## Feature İmportance\n",
    "- Select the first 6 important features with the use of LASSO and re-fit the model "
   ]
  },
  {
   "cell_type": "code",
   "execution_count": null,
   "metadata": {
    "id": "EMlZZz5IF-7g"
   },
   "outputs": [],
   "source": []
  },
  {
   "cell_type": "markdown",
   "metadata": {
    "id": "eZP06lMdF-7g"
   },
   "source": [
    "## Cross Validate"
   ]
  },
  {
   "cell_type": "code",
   "execution_count": null,
   "metadata": {
    "id": "li4LrvP1F-7g"
   },
   "outputs": [],
   "source": []
  },
  {
   "cell_type": "markdown",
   "metadata": {
    "id": "sYyuZQtWmqZO"
   },
   "source": [
    "## 7. Visually Compare Models Performance In a Graph"
   ]
  },
  {
   "cell_type": "code",
   "execution_count": null,
   "metadata": {
    "id": "fiJWKHHFF-7h"
   },
   "outputs": [],
   "source": []
  },
  {
   "cell_type": "markdown",
   "metadata": {
    "id": "bjHSTwb1F-7h"
   },
   "source": [
    "## Prediction a new observation\n",
    "- Create an observation and predict its price"
   ]
  },
  {
   "cell_type": "code",
   "execution_count": null,
   "metadata": {
    "id": "IoXIveJBF-7h"
   },
   "outputs": [],
   "source": []
  },
  {
   "cell_type": "markdown",
   "metadata": {
    "id": "gYoSnSbDF-7h"
   },
   "source": [
    "___\n",
    "\n",
    "<p style=\"text-align: center;\"><img src=\"https://docs.google.com/uc?id=1lY0Uj5R04yMY3-ZppPWxqCr5pvBLYPnV\" class=\"img-fluid\" alt=\"CLRSWY\"></p>\n",
    "\n",
    "___"
   ]
  }
 ],
 "metadata": {
  "colab": {
   "provenance": []
  },
  "kernelspec": {
   "display_name": "Python 3 (ipykernel)",
   "language": "python",
   "name": "python3"
  },
  "language_info": {
   "codemirror_mode": {
    "name": "ipython",
    "version": 3
   },
   "file_extension": ".py",
   "mimetype": "text/x-python",
   "name": "python",
   "nbconvert_exporter": "python",
   "pygments_lexer": "ipython3",
   "version": "3.9.12"
  },
  "vscode": {
   "interpreter": {
    "hash": "9a4c4f48a7c69f416f6cf2655c5700f68b3ff724cce5aaacbc7bad0fd37e2def"
   }
  }
 },
 "nbformat": 4,
 "nbformat_minor": 4
}
